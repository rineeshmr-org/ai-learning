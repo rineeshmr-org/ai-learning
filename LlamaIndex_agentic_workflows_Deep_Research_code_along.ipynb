{
  "cells": [
    {
      "cell_type": "markdown",
      "metadata": {
        "id": "view-in-github",
        "colab_type": "text"
      },
      "source": [
        "<a href=\"https://colab.research.google.com/github/rineeshmr-org/ai-learning/blob/main/LlamaIndex_agentic_workflows_Deep_Research_code_along.ipynb\" target=\"_parent\"><img src=\"https://colab.research.google.com/assets/colab-badge.svg\" alt=\"Open In Colab\"/></a>"
      ]
    },
    {
      "cell_type": "markdown",
      "metadata": {
        "id": "OfNzCgHl08Sc"
      },
      "source": [
        "# LlamaIndex Deep Research code-along\n",
        "\n",
        "Welcome to LlamaIndex! In this notebook we'll be walking step-by-step through building agentic workflows, culminating in building a Deep Research workflow. If you like, you can [watch a video of going through this notebook](https://youtu.be/8a_RMSKJC6A).\n",
        "\n",
        "This notebook has 4 main sections:\n",
        "\n",
        "* Using AgentWorkflow\n",
        "* Building a multi-agent system with AgentWorkflow\n",
        "* Building agentic Workflows\n",
        "* Building a multi-agent system with Workflows\n",
        "\n",
        "In LlamaIndex, `Workflow`s are the building blocks of putting together an agent or a multi-agent system. To get you up and running quickly, we have a pre-built Workflow called the `AgentWorkflow` that handles a lot of common agent use cases and allows you to focus on the specifics of your implementation. Later, we drop down one level to Workflows themselves and show how to build one from scratch.\n",
        "\n",
        "To start off, we'll create an AgentWorkflow with a single agent, and use that to cover the basic functionality of the `AgentWorkflow` class."
      ]
    },
    {
      "cell_type": "code",
      "execution_count": 1,
      "metadata": {
        "colab": {
          "base_uri": "https://localhost:8080/"
        },
        "collapsed": true,
        "id": "lUPsTREU08Sd",
        "outputId": "893cca43-d22c-459c-d1b9-64b199b140d7"
      },
      "outputs": [
        {
          "output_type": "stream",
          "name": "stdout",
          "text": [
            "Collecting llama-index\n",
            "  Downloading llama_index-0.12.35-py3-none-any.whl.metadata (12 kB)\n",
            "Collecting llama-index-agent-openai<0.5,>=0.4.0 (from llama-index)\n",
            "  Downloading llama_index_agent_openai-0.4.7-py3-none-any.whl.metadata (438 bytes)\n",
            "Collecting llama-index-cli<0.5,>=0.4.1 (from llama-index)\n",
            "  Downloading llama_index_cli-0.4.1-py3-none-any.whl.metadata (1.5 kB)\n",
            "Collecting llama-index-core<0.13,>=0.12.35 (from llama-index)\n",
            "  Downloading llama_index_core-0.12.35-py3-none-any.whl.metadata (2.4 kB)\n",
            "Collecting llama-index-embeddings-openai<0.4,>=0.3.0 (from llama-index)\n",
            "  Downloading llama_index_embeddings_openai-0.3.1-py3-none-any.whl.metadata (684 bytes)\n",
            "Collecting llama-index-indices-managed-llama-cloud>=0.4.0 (from llama-index)\n",
            "  Downloading llama_index_indices_managed_llama_cloud-0.6.11-py3-none-any.whl.metadata (3.6 kB)\n",
            "Collecting llama-index-llms-openai<0.4,>=0.3.0 (from llama-index)\n",
            "  Downloading llama_index_llms_openai-0.3.38-py3-none-any.whl.metadata (3.3 kB)\n",
            "Collecting llama-index-multi-modal-llms-openai<0.5,>=0.4.0 (from llama-index)\n",
            "  Downloading llama_index_multi_modal_llms_openai-0.4.3-py3-none-any.whl.metadata (726 bytes)\n",
            "Collecting llama-index-program-openai<0.4,>=0.3.0 (from llama-index)\n",
            "  Downloading llama_index_program_openai-0.3.1-py3-none-any.whl.metadata (764 bytes)\n",
            "Collecting llama-index-question-gen-openai<0.4,>=0.3.0 (from llama-index)\n",
            "  Downloading llama_index_question_gen_openai-0.3.0-py3-none-any.whl.metadata (783 bytes)\n",
            "Collecting llama-index-readers-file<0.5,>=0.4.0 (from llama-index)\n",
            "  Downloading llama_index_readers_file-0.4.7-py3-none-any.whl.metadata (5.4 kB)\n",
            "Collecting llama-index-readers-llama-parse>=0.4.0 (from llama-index)\n",
            "  Downloading llama_index_readers_llama_parse-0.4.0-py3-none-any.whl.metadata (3.6 kB)\n",
            "Requirement already satisfied: nltk>3.8.1 in /usr/local/lib/python3.11/dist-packages (from llama-index) (3.9.1)\n",
            "Requirement already satisfied: openai>=1.14.0 in /usr/local/lib/python3.11/dist-packages (from llama-index-agent-openai<0.5,>=0.4.0->llama-index) (1.76.2)\n",
            "Requirement already satisfied: aiohttp<4,>=3.8.6 in /usr/local/lib/python3.11/dist-packages (from llama-index-core<0.13,>=0.12.35->llama-index) (3.11.15)\n",
            "Collecting aiosqlite (from llama-index-core<0.13,>=0.12.35->llama-index)\n",
            "  Downloading aiosqlite-0.21.0-py3-none-any.whl.metadata (4.3 kB)\n",
            "Collecting banks<3,>=2.0.0 (from llama-index-core<0.13,>=0.12.35->llama-index)\n",
            "  Downloading banks-2.1.2-py3-none-any.whl.metadata (12 kB)\n",
            "Collecting dataclasses-json (from llama-index-core<0.13,>=0.12.35->llama-index)\n",
            "  Downloading dataclasses_json-0.6.7-py3-none-any.whl.metadata (25 kB)\n",
            "Requirement already satisfied: deprecated>=1.2.9.3 in /usr/local/lib/python3.11/dist-packages (from llama-index-core<0.13,>=0.12.35->llama-index) (1.2.18)\n",
            "Collecting dirtyjson<2,>=1.0.8 (from llama-index-core<0.13,>=0.12.35->llama-index)\n",
            "  Downloading dirtyjson-1.0.8-py3-none-any.whl.metadata (11 kB)\n",
            "Collecting filetype<2,>=1.2.0 (from llama-index-core<0.13,>=0.12.35->llama-index)\n",
            "  Downloading filetype-1.2.0-py2.py3-none-any.whl.metadata (6.5 kB)\n",
            "Requirement already satisfied: fsspec>=2023.5.0 in /usr/local/lib/python3.11/dist-packages (from llama-index-core<0.13,>=0.12.35->llama-index) (2025.3.2)\n",
            "Requirement already satisfied: httpx in /usr/local/lib/python3.11/dist-packages (from llama-index-core<0.13,>=0.12.35->llama-index) (0.28.1)\n",
            "Requirement already satisfied: nest-asyncio<2,>=1.5.8 in /usr/local/lib/python3.11/dist-packages (from llama-index-core<0.13,>=0.12.35->llama-index) (1.6.0)\n",
            "Requirement already satisfied: networkx>=3.0 in /usr/local/lib/python3.11/dist-packages (from llama-index-core<0.13,>=0.12.35->llama-index) (3.4.2)\n",
            "Requirement already satisfied: numpy in /usr/local/lib/python3.11/dist-packages (from llama-index-core<0.13,>=0.12.35->llama-index) (2.0.2)\n",
            "Requirement already satisfied: pillow>=9.0.0 in /usr/local/lib/python3.11/dist-packages (from llama-index-core<0.13,>=0.12.35->llama-index) (11.2.1)\n",
            "Requirement already satisfied: pydantic>=2.8.0 in /usr/local/lib/python3.11/dist-packages (from llama-index-core<0.13,>=0.12.35->llama-index) (2.11.4)\n",
            "Requirement already satisfied: pyyaml>=6.0.1 in /usr/local/lib/python3.11/dist-packages (from llama-index-core<0.13,>=0.12.35->llama-index) (6.0.2)\n",
            "Requirement already satisfied: requests>=2.31.0 in /usr/local/lib/python3.11/dist-packages (from llama-index-core<0.13,>=0.12.35->llama-index) (2.32.3)\n",
            "Requirement already satisfied: sqlalchemy>=1.4.49 in /usr/local/lib/python3.11/dist-packages (from sqlalchemy[asyncio]>=1.4.49->llama-index-core<0.13,>=0.12.35->llama-index) (2.0.40)\n",
            "Requirement already satisfied: tenacity!=8.4.0,<10.0.0,>=8.2.0 in /usr/local/lib/python3.11/dist-packages (from llama-index-core<0.13,>=0.12.35->llama-index) (9.1.2)\n",
            "Collecting tiktoken>=0.7.0 (from llama-index-core<0.13,>=0.12.35->llama-index)\n",
            "  Downloading tiktoken-0.9.0-cp311-cp311-manylinux_2_17_x86_64.manylinux2014_x86_64.whl.metadata (6.7 kB)\n",
            "Requirement already satisfied: tqdm<5,>=4.66.1 in /usr/local/lib/python3.11/dist-packages (from llama-index-core<0.13,>=0.12.35->llama-index) (4.67.1)\n",
            "Requirement already satisfied: typing-extensions>=4.5.0 in /usr/local/lib/python3.11/dist-packages (from llama-index-core<0.13,>=0.12.35->llama-index) (4.13.2)\n",
            "Collecting typing-inspect>=0.8.0 (from llama-index-core<0.13,>=0.12.35->llama-index)\n",
            "  Downloading typing_inspect-0.9.0-py3-none-any.whl.metadata (1.5 kB)\n",
            "Requirement already satisfied: wrapt in /usr/local/lib/python3.11/dist-packages (from llama-index-core<0.13,>=0.12.35->llama-index) (1.17.2)\n",
            "Collecting llama-cloud<0.2.0,>=0.1.13 (from llama-index-indices-managed-llama-cloud>=0.4.0->llama-index)\n",
            "  Downloading llama_cloud-0.1.21-py3-none-any.whl.metadata (1.2 kB)\n",
            "Requirement already satisfied: beautifulsoup4<5.0.0,>=4.12.3 in /usr/local/lib/python3.11/dist-packages (from llama-index-readers-file<0.5,>=0.4.0->llama-index) (4.13.4)\n",
            "Requirement already satisfied: pandas in /usr/local/lib/python3.11/dist-packages (from llama-index-readers-file<0.5,>=0.4.0->llama-index) (2.2.2)\n",
            "Collecting pypdf<6.0.0,>=5.1.0 (from llama-index-readers-file<0.5,>=0.4.0->llama-index)\n",
            "  Downloading pypdf-5.4.0-py3-none-any.whl.metadata (7.3 kB)\n",
            "Collecting striprtf<0.0.27,>=0.0.26 (from llama-index-readers-file<0.5,>=0.4.0->llama-index)\n",
            "  Downloading striprtf-0.0.26-py3-none-any.whl.metadata (2.1 kB)\n",
            "Collecting llama-parse>=0.5.0 (from llama-index-readers-llama-parse>=0.4.0->llama-index)\n",
            "  Downloading llama_parse-0.6.22-py3-none-any.whl.metadata (6.9 kB)\n",
            "Requirement already satisfied: click in /usr/local/lib/python3.11/dist-packages (from nltk>3.8.1->llama-index) (8.1.8)\n",
            "Requirement already satisfied: joblib in /usr/local/lib/python3.11/dist-packages (from nltk>3.8.1->llama-index) (1.4.2)\n",
            "Requirement already satisfied: regex>=2021.8.3 in /usr/local/lib/python3.11/dist-packages (from nltk>3.8.1->llama-index) (2024.11.6)\n",
            "Requirement already satisfied: aiohappyeyeballs>=2.3.0 in /usr/local/lib/python3.11/dist-packages (from aiohttp<4,>=3.8.6->llama-index-core<0.13,>=0.12.35->llama-index) (2.6.1)\n",
            "Requirement already satisfied: aiosignal>=1.1.2 in /usr/local/lib/python3.11/dist-packages (from aiohttp<4,>=3.8.6->llama-index-core<0.13,>=0.12.35->llama-index) (1.3.2)\n",
            "Requirement already satisfied: attrs>=17.3.0 in /usr/local/lib/python3.11/dist-packages (from aiohttp<4,>=3.8.6->llama-index-core<0.13,>=0.12.35->llama-index) (25.3.0)\n",
            "Requirement already satisfied: frozenlist>=1.1.1 in /usr/local/lib/python3.11/dist-packages (from aiohttp<4,>=3.8.6->llama-index-core<0.13,>=0.12.35->llama-index) (1.6.0)\n",
            "Requirement already satisfied: multidict<7.0,>=4.5 in /usr/local/lib/python3.11/dist-packages (from aiohttp<4,>=3.8.6->llama-index-core<0.13,>=0.12.35->llama-index) (6.4.3)\n",
            "Requirement already satisfied: propcache>=0.2.0 in /usr/local/lib/python3.11/dist-packages (from aiohttp<4,>=3.8.6->llama-index-core<0.13,>=0.12.35->llama-index) (0.3.1)\n",
            "Requirement already satisfied: yarl<2.0,>=1.17.0 in /usr/local/lib/python3.11/dist-packages (from aiohttp<4,>=3.8.6->llama-index-core<0.13,>=0.12.35->llama-index) (1.20.0)\n",
            "Collecting griffe (from banks<3,>=2.0.0->llama-index-core<0.13,>=0.12.35->llama-index)\n",
            "  Downloading griffe-1.7.3-py3-none-any.whl.metadata (5.0 kB)\n",
            "Requirement already satisfied: jinja2 in /usr/local/lib/python3.11/dist-packages (from banks<3,>=2.0.0->llama-index-core<0.13,>=0.12.35->llama-index) (3.1.6)\n",
            "Requirement already satisfied: platformdirs in /usr/local/lib/python3.11/dist-packages (from banks<3,>=2.0.0->llama-index-core<0.13,>=0.12.35->llama-index) (4.3.7)\n",
            "Requirement already satisfied: soupsieve>1.2 in /usr/local/lib/python3.11/dist-packages (from beautifulsoup4<5.0.0,>=4.12.3->llama-index-readers-file<0.5,>=0.4.0->llama-index) (2.7)\n",
            "Requirement already satisfied: certifi>=2024.7.4 in /usr/local/lib/python3.11/dist-packages (from llama-cloud<0.2.0,>=0.1.13->llama-index-indices-managed-llama-cloud>=0.4.0->llama-index) (2025.4.26)\n",
            "Requirement already satisfied: anyio in /usr/local/lib/python3.11/dist-packages (from httpx->llama-index-core<0.13,>=0.12.35->llama-index) (4.9.0)\n",
            "Requirement already satisfied: httpcore==1.* in /usr/local/lib/python3.11/dist-packages (from httpx->llama-index-core<0.13,>=0.12.35->llama-index) (1.0.9)\n",
            "Requirement already satisfied: idna in /usr/local/lib/python3.11/dist-packages (from httpx->llama-index-core<0.13,>=0.12.35->llama-index) (3.10)\n",
            "Requirement already satisfied: h11>=0.16 in /usr/local/lib/python3.11/dist-packages (from httpcore==1.*->httpx->llama-index-core<0.13,>=0.12.35->llama-index) (0.16.0)\n",
            "Collecting llama-cloud-services>=0.6.22 (from llama-parse>=0.5.0->llama-index-readers-llama-parse>=0.4.0->llama-index)\n",
            "  Downloading llama_cloud_services-0.6.22-py3-none-any.whl.metadata (3.4 kB)\n",
            "Requirement already satisfied: distro<2,>=1.7.0 in /usr/local/lib/python3.11/dist-packages (from openai>=1.14.0->llama-index-agent-openai<0.5,>=0.4.0->llama-index) (1.9.0)\n",
            "Requirement already satisfied: jiter<1,>=0.4.0 in /usr/local/lib/python3.11/dist-packages (from openai>=1.14.0->llama-index-agent-openai<0.5,>=0.4.0->llama-index) (0.9.0)\n",
            "Requirement already satisfied: sniffio in /usr/local/lib/python3.11/dist-packages (from openai>=1.14.0->llama-index-agent-openai<0.5,>=0.4.0->llama-index) (1.3.1)\n",
            "Requirement already satisfied: annotated-types>=0.6.0 in /usr/local/lib/python3.11/dist-packages (from pydantic>=2.8.0->llama-index-core<0.13,>=0.12.35->llama-index) (0.7.0)\n",
            "Requirement already satisfied: pydantic-core==2.33.2 in /usr/local/lib/python3.11/dist-packages (from pydantic>=2.8.0->llama-index-core<0.13,>=0.12.35->llama-index) (2.33.2)\n",
            "Requirement already satisfied: typing-inspection>=0.4.0 in /usr/local/lib/python3.11/dist-packages (from pydantic>=2.8.0->llama-index-core<0.13,>=0.12.35->llama-index) (0.4.0)\n",
            "Requirement already satisfied: charset-normalizer<4,>=2 in /usr/local/lib/python3.11/dist-packages (from requests>=2.31.0->llama-index-core<0.13,>=0.12.35->llama-index) (3.4.1)\n",
            "Requirement already satisfied: urllib3<3,>=1.21.1 in /usr/local/lib/python3.11/dist-packages (from requests>=2.31.0->llama-index-core<0.13,>=0.12.35->llama-index) (2.4.0)\n",
            "Requirement already satisfied: greenlet>=1 in /usr/local/lib/python3.11/dist-packages (from sqlalchemy>=1.4.49->sqlalchemy[asyncio]>=1.4.49->llama-index-core<0.13,>=0.12.35->llama-index) (3.2.1)\n",
            "Collecting mypy-extensions>=0.3.0 (from typing-inspect>=0.8.0->llama-index-core<0.13,>=0.12.35->llama-index)\n",
            "  Downloading mypy_extensions-1.1.0-py3-none-any.whl.metadata (1.1 kB)\n",
            "Collecting marshmallow<4.0.0,>=3.18.0 (from dataclasses-json->llama-index-core<0.13,>=0.12.35->llama-index)\n",
            "  Downloading marshmallow-3.26.1-py3-none-any.whl.metadata (7.3 kB)\n",
            "Requirement already satisfied: python-dateutil>=2.8.2 in /usr/local/lib/python3.11/dist-packages (from pandas->llama-index-readers-file<0.5,>=0.4.0->llama-index) (2.9.0.post0)\n",
            "Requirement already satisfied: pytz>=2020.1 in /usr/local/lib/python3.11/dist-packages (from pandas->llama-index-readers-file<0.5,>=0.4.0->llama-index) (2025.2)\n",
            "Requirement already satisfied: tzdata>=2022.7 in /usr/local/lib/python3.11/dist-packages (from pandas->llama-index-readers-file<0.5,>=0.4.0->llama-index) (2025.2)\n",
            "Collecting llama-cloud<0.2.0,>=0.1.13 (from llama-index-indices-managed-llama-cloud>=0.4.0->llama-index)\n",
            "  Downloading llama_cloud-0.1.19-py3-none-any.whl.metadata (902 bytes)\n",
            "Collecting python-dotenv<2.0.0,>=1.0.1 (from llama-cloud-services>=0.6.22->llama-parse>=0.5.0->llama-index-readers-llama-parse>=0.4.0->llama-index)\n",
            "  Downloading python_dotenv-1.1.0-py3-none-any.whl.metadata (24 kB)\n",
            "Requirement already satisfied: packaging>=17.0 in /usr/local/lib/python3.11/dist-packages (from marshmallow<4.0.0,>=3.18.0->dataclasses-json->llama-index-core<0.13,>=0.12.35->llama-index) (24.2)\n",
            "Requirement already satisfied: six>=1.5 in /usr/local/lib/python3.11/dist-packages (from python-dateutil>=2.8.2->pandas->llama-index-readers-file<0.5,>=0.4.0->llama-index) (1.17.0)\n",
            "Collecting colorama>=0.4 (from griffe->banks<3,>=2.0.0->llama-index-core<0.13,>=0.12.35->llama-index)\n",
            "  Downloading colorama-0.4.6-py2.py3-none-any.whl.metadata (17 kB)\n",
            "Requirement already satisfied: MarkupSafe>=2.0 in /usr/local/lib/python3.11/dist-packages (from jinja2->banks<3,>=2.0.0->llama-index-core<0.13,>=0.12.35->llama-index) (3.0.2)\n",
            "Downloading llama_index-0.12.35-py3-none-any.whl (7.0 kB)\n",
            "Downloading llama_index_agent_openai-0.4.7-py3-none-any.whl (14 kB)\n",
            "Downloading llama_index_cli-0.4.1-py3-none-any.whl (28 kB)\n",
            "Downloading llama_index_core-0.12.35-py3-none-any.whl (7.7 MB)\n",
            "\u001b[2K   \u001b[90m━━━━━━━━━━━━━━━━━━━━━━━━━━━━━━━━━━━━━━━━\u001b[0m \u001b[32m7.7/7.7 MB\u001b[0m \u001b[31m50.7 MB/s\u001b[0m eta \u001b[36m0:00:00\u001b[0m\n",
            "\u001b[?25hDownloading llama_index_embeddings_openai-0.3.1-py3-none-any.whl (6.2 kB)\n",
            "Downloading llama_index_indices_managed_llama_cloud-0.6.11-py3-none-any.whl (14 kB)\n",
            "Downloading llama_index_llms_openai-0.3.38-py3-none-any.whl (23 kB)\n",
            "Downloading llama_index_multi_modal_llms_openai-0.4.3-py3-none-any.whl (5.9 kB)\n",
            "Downloading llama_index_program_openai-0.3.1-py3-none-any.whl (5.3 kB)\n",
            "Downloading llama_index_question_gen_openai-0.3.0-py3-none-any.whl (2.9 kB)\n",
            "Downloading llama_index_readers_file-0.4.7-py3-none-any.whl (40 kB)\n",
            "\u001b[2K   \u001b[90m━━━━━━━━━━━━━━━━━━━━━━━━━━━━━━━━━━━━━━━━\u001b[0m \u001b[32m40.8/40.8 kB\u001b[0m \u001b[31m3.2 MB/s\u001b[0m eta \u001b[36m0:00:00\u001b[0m\n",
            "\u001b[?25hDownloading llama_index_readers_llama_parse-0.4.0-py3-none-any.whl (2.5 kB)\n",
            "Downloading banks-2.1.2-py3-none-any.whl (28 kB)\n",
            "Downloading dirtyjson-1.0.8-py3-none-any.whl (25 kB)\n",
            "Downloading filetype-1.2.0-py2.py3-none-any.whl (19 kB)\n",
            "Downloading llama_parse-0.6.22-py3-none-any.whl (4.9 kB)\n",
            "Downloading pypdf-5.4.0-py3-none-any.whl (302 kB)\n",
            "\u001b[2K   \u001b[90m━━━━━━━━━━━━━━━━━━━━━━━━━━━━━━━━━━━━━━━━\u001b[0m \u001b[32m302.3/302.3 kB\u001b[0m \u001b[31m24.5 MB/s\u001b[0m eta \u001b[36m0:00:00\u001b[0m\n",
            "\u001b[?25hDownloading striprtf-0.0.26-py3-none-any.whl (6.9 kB)\n",
            "Downloading tiktoken-0.9.0-cp311-cp311-manylinux_2_17_x86_64.manylinux2014_x86_64.whl (1.2 MB)\n",
            "\u001b[2K   \u001b[90m━━━━━━━━━━━━━━━━━━━━━━━━━━━━━━━━━━━━━━━━\u001b[0m \u001b[32m1.2/1.2 MB\u001b[0m \u001b[31m61.3 MB/s\u001b[0m eta \u001b[36m0:00:00\u001b[0m\n",
            "\u001b[?25hDownloading typing_inspect-0.9.0-py3-none-any.whl (8.8 kB)\n",
            "Downloading aiosqlite-0.21.0-py3-none-any.whl (15 kB)\n",
            "Downloading dataclasses_json-0.6.7-py3-none-any.whl (28 kB)\n",
            "Downloading llama_cloud_services-0.6.22-py3-none-any.whl (37 kB)\n",
            "Downloading llama_cloud-0.1.19-py3-none-any.whl (263 kB)\n",
            "\u001b[2K   \u001b[90m━━━━━━━━━━━━━━━━━━━━━━━━━━━━━━━━━━━━━━━━\u001b[0m \u001b[32m263.6/263.6 kB\u001b[0m \u001b[31m21.4 MB/s\u001b[0m eta \u001b[36m0:00:00\u001b[0m\n",
            "\u001b[?25hDownloading marshmallow-3.26.1-py3-none-any.whl (50 kB)\n",
            "\u001b[2K   \u001b[90m━━━━━━━━━━━━━━━━━━━━━━━━━━━━━━━━━━━━━━━━\u001b[0m \u001b[32m50.9/50.9 kB\u001b[0m \u001b[31m4.3 MB/s\u001b[0m eta \u001b[36m0:00:00\u001b[0m\n",
            "\u001b[?25hDownloading mypy_extensions-1.1.0-py3-none-any.whl (5.0 kB)\n",
            "Downloading griffe-1.7.3-py3-none-any.whl (129 kB)\n",
            "\u001b[2K   \u001b[90m━━━━━━━━━━━━━━━━━━━━━━━━━━━━━━━━━━━━━━━━\u001b[0m \u001b[32m129.3/129.3 kB\u001b[0m \u001b[31m12.1 MB/s\u001b[0m eta \u001b[36m0:00:00\u001b[0m\n",
            "\u001b[?25hDownloading colorama-0.4.6-py2.py3-none-any.whl (25 kB)\n",
            "Downloading python_dotenv-1.1.0-py3-none-any.whl (20 kB)\n",
            "Installing collected packages: striprtf, filetype, dirtyjson, python-dotenv, pypdf, mypy-extensions, marshmallow, colorama, aiosqlite, typing-inspect, tiktoken, griffe, llama-cloud, dataclasses-json, banks, llama-index-core, llama-index-readers-file, llama-index-llms-openai, llama-index-indices-managed-llama-cloud, llama-index-embeddings-openai, llama-cloud-services, llama-parse, llama-index-multi-modal-llms-openai, llama-index-cli, llama-index-agent-openai, llama-index-readers-llama-parse, llama-index-program-openai, llama-index-question-gen-openai, llama-index\n",
            "Successfully installed aiosqlite-0.21.0 banks-2.1.2 colorama-0.4.6 dataclasses-json-0.6.7 dirtyjson-1.0.8 filetype-1.2.0 griffe-1.7.3 llama-cloud-0.1.19 llama-cloud-services-0.6.22 llama-index-0.12.35 llama-index-agent-openai-0.4.7 llama-index-cli-0.4.1 llama-index-core-0.12.35 llama-index-embeddings-openai-0.3.1 llama-index-indices-managed-llama-cloud-0.6.11 llama-index-llms-openai-0.3.38 llama-index-multi-modal-llms-openai-0.4.3 llama-index-program-openai-0.3.1 llama-index-question-gen-openai-0.3.0 llama-index-readers-file-0.4.7 llama-index-readers-llama-parse-0.4.0 llama-parse-0.6.22 marshmallow-3.26.1 mypy-extensions-1.1.0 pypdf-5.4.0 python-dotenv-1.1.0 striprtf-0.0.26 tiktoken-0.9.0 typing-inspect-0.9.0\n"
          ]
        }
      ],
      "source": [
        "%pip install llama-index"
      ]
    },
    {
      "cell_type": "markdown",
      "metadata": {
        "id": "Q1RIgw5E08Se"
      },
      "source": [
        "## Getting an LLM\n",
        "\n",
        "The engine of any agent is the LLM that does the reasoning and text processing. To get started, we'll need access to an LLM.\n",
        "\n",
        "In this example, we'll be using `OpenAI` as our LLM. LlamaIndex supports more than 80 different LLM providers, supporting over 400 different LLM models including fully local and open-source options. Check out the [examples documentation](https://docs.llamaindex.ai/en/stable/examples/llm/openai/) or [LlamaHub](https://llamahub.ai/?tab=llms) for a list of all supported LLM providers and how to install and use each model.\n",
        "\n",
        "To use OpenAI, first we need an API key:"
      ]
    },
    {
      "cell_type": "code",
      "source": [
        "from google.colab import userdata\n",
        "api_key = userdata.get('openai-key')"
      ],
      "metadata": {
        "id": "iVhR41i7Kxt1"
      },
      "execution_count": null,
      "outputs": []
    },
    {
      "cell_type": "markdown",
      "source": [
        "With our API key in hand, instantiating an LLM is one line:"
      ],
      "metadata": {
        "id": "QBxfugByQuee"
      }
    },
    {
      "cell_type": "code",
      "execution_count": null,
      "metadata": {
        "id": "irp_33Cg08Sf"
      },
      "outputs": [],
      "source": [
        "from llama_index.llms.openai import OpenAI\n",
        "\n",
        "llm = OpenAI(model=\"gpt-4.1-mini\", api_key=api_key)"
      ]
    },
    {
      "cell_type": "markdown",
      "source": [
        "We can ask our LLM questions directly without an agent, just to check it's working:"
      ],
      "metadata": {
        "id": "OV2vegOTQLWA"
      }
    },
    {
      "cell_type": "code",
      "source": [
        "response = llm.complete(\"What is the capital of South Dakota?\")\n",
        "print(response)"
      ],
      "metadata": {
        "colab": {
          "base_uri": "https://localhost:8080/"
        },
        "id": "w9HhdOm0QMzF",
        "outputId": "17e9e1fa-d4e5-4cd7-b0b3-6a7530b1e528"
      },
      "execution_count": null,
      "outputs": [
        {
          "output_type": "stream",
          "name": "stdout",
          "text": [
            "The capital of South Dakota is Pierre.\n"
          ]
        }
      ]
    },
    {
      "cell_type": "markdown",
      "metadata": {
        "id": "2mBg-8KE08Sf"
      },
      "source": [
        "## Building a tool\n",
        "\n",
        "A core feature of agents is that they can use tools to find out more about the state of the world, or take action in response to instructions, without you needing to be explicit about how and when they do that.\n",
        "\n",
        "In this example, we'll give our agent the ability to search the web for information by creating a tool that does that. We'll use a service called Tavily, which is specifically designed to provide this kind of tool to agents. You can get a free API key from [Tavily](https://tavily.com/)."
      ]
    },
    {
      "cell_type": "code",
      "execution_count": null,
      "metadata": {
        "colab": {
          "base_uri": "https://localhost:8080/"
        },
        "collapsed": true,
        "id": "nbiDQ4v408Sf",
        "outputId": "25523604-6abc-4c57-ba4f-a426ad518f4c"
      },
      "outputs": [
        {
          "output_type": "stream",
          "name": "stdout",
          "text": [
            "Requirement already satisfied: tavily-python in /usr/local/lib/python3.11/dist-packages (0.7.1)\n",
            "Requirement already satisfied: requests in /usr/local/lib/python3.11/dist-packages (from tavily-python) (2.32.3)\n",
            "Requirement already satisfied: tiktoken>=0.5.1 in /usr/local/lib/python3.11/dist-packages (from tavily-python) (0.9.0)\n",
            "Requirement already satisfied: httpx in /usr/local/lib/python3.11/dist-packages (from tavily-python) (0.28.1)\n",
            "Requirement already satisfied: regex>=2022.1.18 in /usr/local/lib/python3.11/dist-packages (from tiktoken>=0.5.1->tavily-python) (2024.11.6)\n",
            "Requirement already satisfied: charset-normalizer<4,>=2 in /usr/local/lib/python3.11/dist-packages (from requests->tavily-python) (3.4.1)\n",
            "Requirement already satisfied: idna<4,>=2.5 in /usr/local/lib/python3.11/dist-packages (from requests->tavily-python) (3.10)\n",
            "Requirement already satisfied: urllib3<3,>=1.21.1 in /usr/local/lib/python3.11/dist-packages (from requests->tavily-python) (2.4.0)\n",
            "Requirement already satisfied: certifi>=2017.4.17 in /usr/local/lib/python3.11/dist-packages (from requests->tavily-python) (2025.4.26)\n",
            "Requirement already satisfied: anyio in /usr/local/lib/python3.11/dist-packages (from httpx->tavily-python) (4.9.0)\n",
            "Requirement already satisfied: httpcore==1.* in /usr/local/lib/python3.11/dist-packages (from httpx->tavily-python) (1.0.9)\n",
            "Requirement already satisfied: h11>=0.16 in /usr/local/lib/python3.11/dist-packages (from httpcore==1.*->httpx->tavily-python) (0.16.0)\n",
            "Requirement already satisfied: sniffio>=1.1 in /usr/local/lib/python3.11/dist-packages (from anyio->httpx->tavily-python) (1.3.1)\n",
            "Requirement already satisfied: typing_extensions>=4.5 in /usr/local/lib/python3.11/dist-packages (from anyio->httpx->tavily-python) (4.13.2)\n"
          ]
        }
      ],
      "source": [
        "%pip install tavily-python"
      ]
    },
    {
      "cell_type": "code",
      "source": [
        "from google.colab import userdata\n",
        "tavily_api_key = userdata.get('tavily-key')"
      ],
      "metadata": {
        "id": "VjJrdlbyMwQF"
      },
      "execution_count": null,
      "outputs": []
    },
    {
      "cell_type": "markdown",
      "source": [
        "Tools in LlamaIndex are just regular Python functions, so they can do anything a regular function can.\n",
        "\n",
        "When creating a tool, its very important to:\n",
        "- give the tool a distinctive name, and a clear description using docstrings. The LLM uses the name and description to understand what the tool does.\n",
        "- annotate the types. This helps the LLM understand the expected input and output types.\n",
        "- use async when possible, since this will make the workflow more efficient."
      ],
      "metadata": {
        "id": "fYBsSargR3wJ"
      }
    },
    {
      "cell_type": "code",
      "execution_count": null,
      "metadata": {
        "id": "r_HHImFu08Sf"
      },
      "outputs": [],
      "source": [
        "from tavily import AsyncTavilyClient\n",
        "\n",
        "# note the type annotations for the incoming query and the return string\n",
        "async def search_web(query: str) -> str:\n",
        "    \"\"\"Useful for using the web to answer questions.\"\"\"\n",
        "    client = AsyncTavilyClient(api_key=tavily_api_key)\n",
        "    return str(await client.search(query))"
      ]
    },
    {
      "cell_type": "markdown",
      "metadata": {
        "id": "g3vgV9SR08Sf"
      },
      "source": [
        "## Instantiating an AgentWorkflow\n",
        "\n",
        "With the tool and and LLM defined, we can create an `AgentWorkflow` that uses the tool. AgentWorkflow has a special helper method for creating a single agent from a set of tools, so we'll use that.\n",
        "\n",
        "We give it a system prompt that defines what the agent does. It's a good idea to tell the agent what kinds of things its tools will allow it to do."
      ]
    },
    {
      "cell_type": "code",
      "execution_count": null,
      "metadata": {
        "id": "_mTPFx3C08Sg"
      },
      "outputs": [],
      "source": [
        "from llama_index.core.agent.workflow import AgentWorkflow\n",
        "\n",
        "workflow = AgentWorkflow.from_tools_or_functions(\n",
        "    [search_web],\n",
        "    llm=llm,\n",
        "    system_prompt=\"You are a helpful assistant that answers questions. If you don't know the answer, you can search the web for information.\",\n",
        ")"
      ]
    },
    {
      "cell_type": "markdown",
      "metadata": {
        "id": "NZGQYXnN08Sg"
      },
      "source": [
        "## Running the Agent\n",
        "\n",
        "Now that our agent is created, we can run it! An AgentWorkflow expects to start with a question or prompt in the `user_msg`, which it passes to the agent."
      ]
    },
    {
      "cell_type": "code",
      "execution_count": null,
      "metadata": {
        "colab": {
          "base_uri": "https://localhost:8080/"
        },
        "id": "BTFMz3Vo08Sg",
        "outputId": "006c8075-64be-4d79-be4f-75ead035b5c4"
      },
      "outputs": [
        {
          "output_type": "stream",
          "name": "stdout",
          "text": [
            "The current weather in San Francisco is sunny with a temperature of 17.2°C (63.0°F). The wind is blowing from the west at 13.4 mph (21.6 kph). The humidity is at 54%, and the sky is about 25% cloudy.\n"
          ]
        }
      ],
      "source": [
        "response = await workflow.run(user_msg=\"What is the weather in San Francisco?\")\n",
        "print(str(response))"
      ]
    },
    {
      "cell_type": "markdown",
      "metadata": {
        "id": "UGn4oNU708Sh"
      },
      "source": [
        "## Maintaining State\n",
        "\n",
        "By default, the `AgentWorkflow` is stateless between runs. This means that the agent will not have any memory of previous runs.\n",
        "\n",
        "To maintain state, we need to keep track of the previous state. In LlamaIndex, Workflows have a `Context` that can be used to maintain state within and between runs. Since the `AgentWorkflow` is just a pre-built `Workflow`, we can also use it now.\n",
        "\n",
        "To maintain state between runs, we'll create a new `Context` called `ctx`. We pass in our `workflow` to properly configure this Context object for the workflow that will use it.\n",
        "\n",
        "With our configured Context, we can pass it to our first run."
      ]
    },
    {
      "cell_type": "code",
      "execution_count": null,
      "metadata": {
        "colab": {
          "base_uri": "https://localhost:8080/"
        },
        "id": "ko32K2M508Sh",
        "outputId": "406371a7-04bf-4f7d-87d5-3f838a8be59f"
      },
      "outputs": [
        {
          "output_type": "stream",
          "name": "stdout",
          "text": [
            "Nice to meet you too, Laurie! How can I assist you today?\n"
          ]
        }
      ],
      "source": [
        "from llama_index.core.workflow import Context\n",
        "\n",
        "# configure a context to work with our workflow\n",
        "ctx = Context(workflow)\n",
        "\n",
        "response = await workflow.run(\n",
        "    user_msg=\"My name is Laurie, nice to meet you!\", ctx=ctx # give the configured context to the workflow\n",
        ")\n",
        "print(str(response))"
      ]
    },
    {
      "cell_type": "markdown",
      "source": [
        "Now we can pass the same context to a second run, and it will remember what happened before:"
      ],
      "metadata": {
        "id": "k6Xld5j1UkkW"
      }
    },
    {
      "cell_type": "code",
      "execution_count": null,
      "metadata": {
        "colab": {
          "base_uri": "https://localhost:8080/"
        },
        "id": "vB3jBGsk08Sh",
        "outputId": "5f7823a4-9f26-46f2-a502-f28d15442bdc"
      },
      "outputs": [
        {
          "output_type": "stream",
          "name": "stdout",
          "text": [
            "Your name is Laurie. How can I help you today, Laurie?\n"
          ]
        }
      ],
      "source": [
        "# run the workflow again with the same context\n",
        "response = await workflow.run(user_msg=\"What is my name?\", ctx=ctx)\n",
        "print(str(response))"
      ]
    },
    {
      "cell_type": "markdown",
      "source": [
        "It's possible to maintain state over longer periods than a single run by serializing it to disk and deserializing it later when needed; check out [this tutorial](https://docs.llamaindex.ai/en/stable/understanding/agent/state/) for more."
      ],
      "metadata": {
        "id": "Wzl7EtVdNHb8"
      }
    },
    {
      "cell_type": "markdown",
      "source": [
        "## Accessing Context from within tools\n",
        "\n",
        "Tools can also be defined that have access to the workflow context. This means you can set and retrieve variables from the context and use them in the tool or between tools.\n",
        "\n",
        "`AgentWorkflow` uses a context variable called `state` that gets passed to every agent. You can rely on information in `state` being available without explicitly having to pass it in.\n",
        "\n",
        "**Note:** To access the `Context`, the Context parameter should be the first parameter of the tool."
      ],
      "metadata": {
        "id": "K1gqNRe4Oktd"
      }
    },
    {
      "cell_type": "code",
      "execution_count": null,
      "metadata": {
        "colab": {
          "base_uri": "https://localhost:8080/"
        },
        "id": "Ya-VYQ9I08Sh",
        "outputId": "d9d7b625-f9a1-43a6-e9d4-d2ced48230ba"
      },
      "outputs": [
        {
          "output_type": "stream",
          "name": "stdout",
          "text": [
            "Nice to meet you, Laurie! How can I assist you today?\n",
            "Name as stored in state:  Laurie\n"
          ]
        }
      ],
      "source": [
        "from llama_index.core.workflow import Context\n",
        "\n",
        "# we've set the first parameter to be of type Context\n",
        "async def set_name(ctx: Context, name: str) -> str:\n",
        "    state = await ctx.get(\"state\")\n",
        "    state[\"name\"] = name\n",
        "    await ctx.set(\"state\", state)\n",
        "    return f\"Name set to {name}\"\n",
        "\n",
        "\n",
        "stateful_workflow = AgentWorkflow.from_tools_or_functions(\n",
        "    [set_name],\n",
        "    llm=llm,\n",
        "    system_prompt=\"You are a helpful assistant that can set a name.\",\n",
        "    initial_state={\"name\": \"unset\"},\n",
        ")\n",
        "\n",
        "stateful_workflow_context = Context(stateful_workflow)\n",
        "\n",
        "# this workflow will save data to the `state` variable in the context\n",
        "response = await stateful_workflow.run(user_msg=\"My name is Laurie\", ctx=stateful_workflow_context)\n",
        "print(str(response))\n",
        "\n",
        "# we can retrieve the value of `state` from the context directly\n",
        "state = await stateful_workflow_context.get(\"state\")\n",
        "print(\"Name as stored in state: \",state[\"name\"])"
      ]
    },
    {
      "cell_type": "markdown",
      "metadata": {
        "id": "-Oj6IbXz08Sh"
      },
      "source": [
        "## Streaming output and events\n",
        "\n",
        "In addition to returning a single string when the workflow completes, the `AgentWorkflow` also supports streaming. Since the `AgentWorkflow` is a `Workflow`, it can be streamed like any other `Workflow`. This works by using the handler that is returned from the workflow. The stream returns a variety of event types as the workflow executes, and you can select which ones to handle.\n",
        "\n",
        "* If you want to stream the LLM output, you can use the `AgentStream` events, which contain a `delta` of the new output each time\n",
        "* `AgentInput` events will tell you which agent is running (our current workflow just has one agent)\n",
        "* `AgentOutput` events will tell you what the agents returned, including which tools they called\n",
        "* `ToolCall` and `ToolCallResults` will track tools as they are called and their outputs\n",
        "\n",
        "In this example we're only handling the `AgentStream` events, but you can see in the commented-out code how we'd handle the other kinds. You can tell our handling is working because the output will appear in chunks as you run the cell, rather than appearing all at once."
      ]
    },
    {
      "cell_type": "code",
      "execution_count": null,
      "metadata": {
        "colab": {
          "base_uri": "https://localhost:8080/"
        },
        "id": "v1yfIe1608Sh",
        "outputId": "e3e57c5f-4053-4ab4-bcbb-7019280dbe5b"
      },
      "outputs": [
        {
          "output_type": "stream",
          "name": "stdout",
          "text": [
            "The current weather in Saskatoon is partly cloudy with a temperature of 22.1°C (71.8°F). The wind is coming from the northwest at 17.4 mph (28.1 kph). The humidity is 35%, and it feels like 24.5°C (76.1°F)."
          ]
        }
      ],
      "source": [
        "from llama_index.core.agent.workflow import (\n",
        "    AgentInput,\n",
        "    AgentOutput,\n",
        "    ToolCall,\n",
        "    ToolCallResult,\n",
        "    AgentStream,\n",
        ")\n",
        "\n",
        "handler = workflow.run(user_msg=\"What is the weather in Saskatoon?\")\n",
        "\n",
        "async for event in handler.stream_events():\n",
        "    if isinstance(event, AgentStream):\n",
        "        print(event.delta, end=\"\", flush=True)\n",
        "        # print(event.response)  # the current full response\n",
        "        # print(event.raw)  # the raw llm api response\n",
        "        # print(event.current_agent_name)  # the current agent name\n",
        "    # elif isinstance(event, AgentInput):\n",
        "    #    print(event.input)  # the current input messages\n",
        "    #    print(event.current_agent_name)  # the current agent name\n",
        "    # elif isinstance(event, AgentOutput):\n",
        "    #    print(event.response)  # the current full response\n",
        "    #    print(event.tool_calls)  # the selected tool calls, if any\n",
        "    #    print(event.raw)  # the raw llm api response\n",
        "    # elif isinstance(event, ToolCallResult):\n",
        "    #    print(event.tool_name)  # the tool name\n",
        "    #    print(event.tool_kwargs)  # the tool kwargs\n",
        "    #    print(event.tool_output)  # the tool output\n",
        "    # elif isinstance(event, ToolCall):\n",
        "    #     print(event.tool_name)  # the tool name\n",
        "    #     print(event.tool_kwargs)  # the tool kwargs"
      ]
    },
    {
      "cell_type": "markdown",
      "source": [
        "Let's see what's happening in more detail by turning on more logging and running it again."
      ],
      "metadata": {
        "id": "ieQE1kbbPXjS"
      }
    },
    {
      "cell_type": "code",
      "source": [
        "from llama_index.core.agent.workflow import (\n",
        "    AgentInput,\n",
        "    AgentOutput,\n",
        "    ToolCall,\n",
        "    ToolCallResult,\n",
        "    AgentStream,\n",
        ")\n",
        "\n",
        "handler = workflow.run(user_msg=\"What is the weather in Saskatoon?\")\n",
        "\n",
        "async for event in handler.stream_events():\n",
        "    if isinstance(event, AgentInput):\n",
        "       print(\"Agent input: \", event.input)  # the current input messages\n",
        "       print(\"Agent name:\", event.current_agent_name)  # the current agent name\n",
        "    elif isinstance(event, AgentOutput):\n",
        "       print(\"Agent output: \", event.response)  # the current full response\n",
        "       print(\"Tool calls made: \", event.tool_calls)  # the selected tool calls, if any\n",
        "       print(\"Raw LLM response: \", event.raw)  # the raw llm api response\n",
        "    elif isinstance(event, ToolCallResult):\n",
        "       print(\"Tool called: \", event.tool_name)  # the tool name\n",
        "       print(\"Arguments to the tool: \", event.tool_kwargs)  # the tool kwargs\n",
        "       print(\"Tool output: \", event.tool_output)  # the tool output"
      ],
      "metadata": {
        "colab": {
          "base_uri": "https://localhost:8080/"
        },
        "id": "5dTsGvQ_Pb0r",
        "outputId": "f50ab344-aabf-4d8b-f31f-8eb9fb701b9c"
      },
      "execution_count": null,
      "outputs": [
        {
          "output_type": "stream",
          "name": "stdout",
          "text": [
            "Agent input:  [ChatMessage(role=<MessageRole.SYSTEM: 'system'>, additional_kwargs={}, blocks=[TextBlock(block_type='text', text=\"You are a helpful assistant that answers questions. If you don't know the answer, you can search the web for information.\")]), ChatMessage(role=<MessageRole.USER: 'user'>, additional_kwargs={}, blocks=[TextBlock(block_type='text', text='What is the weather in Saskatoon?')])]\n",
            "Agent name: Agent\n",
            "Agent output:  assistant: None\n",
            "Tool calls made:  [ToolSelection(tool_id='call_c3QqO3iDhYyWWpaMR524mPhW', tool_name='search_web', tool_kwargs={'query': 'current weather in Saskatoon'})]\n",
            "Raw LLM response:  {'id': 'chatcmpl-BTbRXxbnqxv1t3qZQRd2jfKpUun1u', 'choices': [{'delta': {'content': None, 'function_call': None, 'refusal': None, 'role': None, 'tool_calls': None}, 'finish_reason': 'tool_calls', 'index': 0, 'logprobs': None}], 'created': 1746395143, 'model': 'gpt-4.1-mini-2025-04-14', 'object': 'chat.completion.chunk', 'service_tier': 'default', 'system_fingerprint': 'fp_38647f5e19', 'usage': None}\n",
            "Tool called:  search_web\n",
            "Arguments to the tool:  {'query': 'current weather in Saskatoon'}\n",
            "Tool output:  {'query': 'current weather in Saskatoon', 'follow_up_questions': None, 'answer': None, 'images': [], 'results': [{'title': 'Weather in Saskatoon', 'url': 'https://www.weatherapi.com/', 'content': \"{'location': {'name': 'Saskatoon', 'region': 'Saskatchewan', 'country': 'Canada', 'lat': 52.1333, 'lon': -106.6667, 'tz_id': 'America/Regina', 'localtime_epoch': 1746395091, 'localtime': '2025-05-04 15:44'}, 'current': {'last_updated_epoch': 1746394200, 'last_updated': '2025-05-04 15:30', 'temp_c': 22.1, 'temp_f': 71.8, 'is_day': 1, 'condition': {'text': 'Partly cloudy', 'icon': '//cdn.weatherapi.com/weather/64x64/day/116.png', 'code': 1003}, 'wind_mph': 17.4, 'wind_kph': 28.1, 'wind_degree': 316, 'wind_dir': 'NW', 'pressure_mb': 1005.0, 'pressure_in': 29.68, 'precip_mm': 0.0, 'precip_in': 0.0, 'humidity': 35, 'cloud': 75, 'feelslike_c': 24.5, 'feelslike_f': 76.1, 'windchill_c': 20.0, 'windchill_f': 67.9, 'heatindex_c': 20.0, 'heatindex_f': 68.0, 'dewpoint_c': 10.1, 'dewpoint_f': 50.1, 'vis_km': 24.0, 'vis_miles': 14.0, 'uv': 4.9, 'gust_mph': 20.1, 'gust_kph': 32.3}}\", 'score': 0.9691973, 'raw_content': None}, {'title': 'April 2025 Weather History in Saskatoon Saskatchewan, Canada', 'url': 'https://weatherspark.com/h/m/3392/2025/4/Historical-Weather-in-April-2025-in-Saskatoon-Saskatchewan-Canada', 'content': 'April 2025 Weather History in Saskatoon Saskatchewan, ... Latest Report — 10:00 PM. Wed, Apr 30, 2025 21 min ago UTC 04:00 Call Sign CYXE. Temp. 48 °F. cold. Dew Pt. 28°F dry Rel. Humidity: 46% Precipitation No Report. Wind. 11.5 mph. gentle breeze. Wind Dir. ... 05 PM: S: 227,764 mi: Humidity Comfort Levels in April 2025 in Saskatoon', 'score': 0.8593928, 'raw_content': None}, {'title': '2025 Weather History in Saskatoon Saskatchewan, Canada', 'url': 'https://weatherspark.com/h/y/3392/2025/Historical-Weather-during-2025-in-Saskatoon-Saskatchewan-Canada', 'content': '2025 Weather History in Saskatoon Saskatchewan, ... Latest Report — 11:00 PM. Wed, Apr 30, 2025 16 min ago UTC 05:00 Call Sign CYXE. Temp. 48 °F. cold. Dew Pt. 28°F dry Rel. Humidity: 46% ... 15.00 mi Alt. 29.68 inHg: Raw: CYXE 300500Z 28010KT 15SM FEW300 09/M02 A2968 RMK CI1 SLP064. This report shows the past weather for Saskatoon', 'score': 0.82761955, 'raw_content': None}, {'title': 'Weather in Saskatoon in April 2025', 'url': 'https://world-weather.info/forecast/canada/saskatoon/april-2025/', 'content': 'Detailed ⚡ Saskatoon Weather Forecast for April 2025 - day/night 🌡️ temperatures, precipitations - World-Weather.info. Add the current city. Search. Weather; Archive; Widgets °F. World; Canada; Saskatchewan; Weather in Saskatoon;', 'score': 0.80126834, 'raw_content': None}, {'title': 'Saskatoon, SK - 7 Day Forecast - Environment Canada', 'url': 'https://weather.gc.ca/city/jump_e.html?city=Saskatoon,+SK', 'content': \"Current conditions and forecasts including 7 day outlook, daily high/low temperature, warnings, chance of precipitation, pressure, humidity/wind chill (when applicable) historical data, normals, record values and sunrise/sunset times ... 8:00 PM CST Friday 2 May 2025 Observed at: Saskatoon Diefenbaker Int'l Airport. Past 24 hour Conditions\", 'score': 0.6437107, 'raw_content': None}], 'response_time': 2.29}\n",
            "Agent input:  [ChatMessage(role=<MessageRole.SYSTEM: 'system'>, additional_kwargs={}, blocks=[TextBlock(block_type='text', text=\"You are a helpful assistant that answers questions. If you don't know the answer, you can search the web for information.\")]), ChatMessage(role=<MessageRole.USER: 'user'>, additional_kwargs={}, blocks=[TextBlock(block_type='text', text='What is the weather in Saskatoon?')]), ChatMessage(role=<MessageRole.ASSISTANT: 'assistant'>, additional_kwargs={'tool_calls': [ChoiceDeltaToolCall(index=0, id='call_c3QqO3iDhYyWWpaMR524mPhW', function=ChoiceDeltaToolCallFunction(arguments='{\"query\":\"current weather in Saskatoon\"}', name='search_web'), type='function')]}, blocks=[TextBlock(block_type='text', text='')]), ChatMessage(role=<MessageRole.TOOL: 'tool'>, additional_kwargs={'tool_call_id': 'call_c3QqO3iDhYyWWpaMR524mPhW'}, blocks=[TextBlock(block_type='text', text='{\\'query\\': \\'current weather in Saskatoon\\', \\'follow_up_questions\\': None, \\'answer\\': None, \\'images\\': [], \\'results\\': [{\\'title\\': \\'Weather in Saskatoon\\', \\'url\\': \\'https://www.weatherapi.com/\\', \\'content\\': \"{\\'location\\': {\\'name\\': \\'Saskatoon\\', \\'region\\': \\'Saskatchewan\\', \\'country\\': \\'Canada\\', \\'lat\\': 52.1333, \\'lon\\': -106.6667, \\'tz_id\\': \\'America/Regina\\', \\'localtime_epoch\\': 1746395091, \\'localtime\\': \\'2025-05-04 15:44\\'}, \\'current\\': {\\'last_updated_epoch\\': 1746394200, \\'last_updated\\': \\'2025-05-04 15:30\\', \\'temp_c\\': 22.1, \\'temp_f\\': 71.8, \\'is_day\\': 1, \\'condition\\': {\\'text\\': \\'Partly cloudy\\', \\'icon\\': \\'//cdn.weatherapi.com/weather/64x64/day/116.png\\', \\'code\\': 1003}, \\'wind_mph\\': 17.4, \\'wind_kph\\': 28.1, \\'wind_degree\\': 316, \\'wind_dir\\': \\'NW\\', \\'pressure_mb\\': 1005.0, \\'pressure_in\\': 29.68, \\'precip_mm\\': 0.0, \\'precip_in\\': 0.0, \\'humidity\\': 35, \\'cloud\\': 75, \\'feelslike_c\\': 24.5, \\'feelslike_f\\': 76.1, \\'windchill_c\\': 20.0, \\'windchill_f\\': 67.9, \\'heatindex_c\\': 20.0, \\'heatindex_f\\': 68.0, \\'dewpoint_c\\': 10.1, \\'dewpoint_f\\': 50.1, \\'vis_km\\': 24.0, \\'vis_miles\\': 14.0, \\'uv\\': 4.9, \\'gust_mph\\': 20.1, \\'gust_kph\\': 32.3}}\", \\'score\\': 0.9691973, \\'raw_content\\': None}, {\\'title\\': \\'April 2025 Weather History in Saskatoon Saskatchewan, Canada\\', \\'url\\': \\'https://weatherspark.com/h/m/3392/2025/4/Historical-Weather-in-April-2025-in-Saskatoon-Saskatchewan-Canada\\', \\'content\\': \\'April 2025 Weather History in Saskatoon Saskatchewan, ... Latest Report — 10:00 PM. Wed, Apr 30, 2025 21 min ago UTC 04:00 Call Sign CYXE. Temp. 48 °F. cold. Dew Pt. 28°F dry Rel. Humidity: 46% Precipitation No Report. Wind. 11.5 mph. gentle breeze. Wind Dir. ... 05 PM: S: 227,764 mi: Humidity Comfort Levels in April 2025 in Saskatoon\\', \\'score\\': 0.8593928, \\'raw_content\\': None}, {\\'title\\': \\'2025 Weather History in Saskatoon Saskatchewan, Canada\\', \\'url\\': \\'https://weatherspark.com/h/y/3392/2025/Historical-Weather-during-2025-in-Saskatoon-Saskatchewan-Canada\\', \\'content\\': \\'2025 Weather History in Saskatoon Saskatchewan, ... Latest Report — 11:00 PM. Wed, Apr 30, 2025 16 min ago UTC 05:00 Call Sign CYXE. Temp. 48 °F. cold. Dew Pt. 28°F dry Rel. Humidity: 46% ... 15.00 mi Alt. 29.68 inHg: Raw: CYXE 300500Z 28010KT 15SM FEW300 09/M02 A2968 RMK CI1 SLP064. This report shows the past weather for Saskatoon\\', \\'score\\': 0.82761955, \\'raw_content\\': None}, {\\'title\\': \\'Weather in Saskatoon in April 2025\\', \\'url\\': \\'https://world-weather.info/forecast/canada/saskatoon/april-2025/\\', \\'content\\': \\'Detailed ⚡ Saskatoon Weather Forecast for April 2025 - day/night 🌡️ temperatures, precipitations - World-Weather.info. Add the current city. Search. Weather; Archive; Widgets °F. World; Canada; Saskatchewan; Weather in Saskatoon;\\', \\'score\\': 0.80126834, \\'raw_content\\': None}, {\\'title\\': \\'Saskatoon, SK - 7 Day Forecast - Environment Canada\\', \\'url\\': \\'https://weather.gc.ca/city/jump_e.html?city=Saskatoon,+SK\\', \\'content\\': \"Current conditions and forecasts including 7 day outlook, daily high/low temperature, warnings, chance of precipitation, pressure, humidity/wind chill (when applicable) historical data, normals, record values and sunrise/sunset times ... 8:00 PM CST Friday 2 May 2025 Observed at: Saskatoon Diefenbaker Int\\'l Airport. Past 24 hour Conditions\", \\'score\\': 0.6437107, \\'raw_content\\': None}], \\'response_time\\': 2.29}')])]\n",
            "Agent name: Agent\n",
            "Agent output:  assistant: The current weather in Saskatoon is partly cloudy with a temperature of 22.1°C (71.8°F). The wind is coming from the northwest at 17.4 mph (28.1 kph). The humidity is at 35%, and it feels like 24.5°C (76.1°F).\n",
            "Tool calls made:  []\n",
            "Raw LLM response:  {'id': 'chatcmpl-BTbRaQRnIXXYyRVQXaJttDaP5FZkU', 'choices': [{'delta': {'content': None, 'function_call': None, 'refusal': None, 'role': None, 'tool_calls': None}, 'finish_reason': 'stop', 'index': 0, 'logprobs': None}], 'created': 1746395146, 'model': 'gpt-4.1-mini-2025-04-14', 'object': 'chat.completion.chunk', 'service_tier': 'default', 'system_fingerprint': 'fp_38647f5e19', 'usage': None}\n"
          ]
        }
      ]
    },
    {
      "cell_type": "markdown",
      "source": [
        "You can see the agent accepting input, picking the web search tool, calling it with appropriate arguments, and returning the output."
      ],
      "metadata": {
        "id": "ROSqJW2wQRdm"
      }
    },
    {
      "cell_type": "markdown",
      "metadata": {
        "id": "2-4RZwpr08Sh"
      },
      "source": [
        "## Human in the Loop\n",
        "\n",
        "Tools can also be defined that involve a human in the loop. This is useful for tasks that require human input, such as confirming an important action before the agent takes it, or providing feedback on an agent's work from an expert human.\n",
        "\n",
        "As we'll see in the next section, the way `Workflow`s work under the hood of `AgentWorkflow` is by running `step`s which both emit and receive events. Here's a diagram of the steps (in blue) that makes up an AgentWorkflow and the events (in green) that pass data between them. You'll recognize these events, they're the same ones we were handling in the output stream earlier."
      ]
    },
    {
      "cell_type": "markdown",
      "source": [
        "<img width=\"500\" src=\"data:image/jpeg;base64,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\">"
      ],
      "metadata": {
        "id": "hFEHh8AZcYN8"
      }
    },
    {
      "cell_type": "markdown",
      "source": [
        " To get a human in the loop, we'll get our tool to emit a specific kind of event that isn't received by any other step in the workflow. We'll then tell our tool to wait until it receives a specific kind of \"reply\" event.\n",
        "\n",
        "To do this, we use the built-in `InputRequiredEvent` and `HumanResponseEvent` events to use for this purpose. These events expect human input in the form of a simple string. If you want to capture more nuanced forms of human input, you can subclass these events to match the needs of your application."
      ],
      "metadata": {
        "id": "St0f_kgScXFG"
      }
    },
    {
      "cell_type": "code",
      "execution_count": null,
      "metadata": {
        "id": "yJmt0ppQ08Si"
      },
      "outputs": [],
      "source": [
        "from llama_index.core.workflow import (\n",
        "    Context,\n",
        "    InputRequiredEvent,\n",
        "    HumanResponseEvent,\n",
        ")\n",
        "\n",
        "# a tool that performs a dangerous task\n",
        "async def dangerous_task(ctx: Context) -> str:\n",
        "    \"\"\"A dangerous task that requires human confirmation.\"\"\"\n",
        "\n",
        "    # emits an InputRequiredEvent,\n",
        "    # then waits until we see a HumanResponseEvent\n",
        "    response = await ctx.wait_for_event(\n",
        "        HumanResponseEvent,\n",
        "        waiter_event=InputRequiredEvent(\n",
        "            prefix=\"Are you sure you want to proceed? \",\n",
        "            user_name=\"Laurie\",\n",
        "        ),\n",
        "        requirements={\"user_name\": \"Laurie\"}\n",
        "    )\n",
        "\n",
        "    # act on the input from the event\n",
        "    if response.response.strip().lower() == \"yes\":\n",
        "        return \"Dangerous task completed successfully.\"\n",
        "    else:\n",
        "        return \"Dangerous task aborted.\"\n",
        "\n",
        "\n",
        "workflow = AgentWorkflow.from_tools_or_functions(\n",
        "    [dangerous_task],\n",
        "    llm=llm,\n",
        "    system_prompt=\"You are a helpful assistant that can perform dangerous tasks.\",\n",
        ")"
      ]
    },
    {
      "cell_type": "markdown",
      "source": [
        "To capture the event, we use the same streaming interface we used earlier and look for an `InputRequiredEvent`. Then we can use `input` to capture a response from the user, and send it back using the `send_event` method."
      ],
      "metadata": {
        "id": "8YMO88S5Ycuy"
      }
    },
    {
      "cell_type": "code",
      "execution_count": null,
      "metadata": {
        "colab": {
          "base_uri": "https://localhost:8080/"
        },
        "id": "7ArX48Sw08Si",
        "outputId": "57a72642-7b63-4dda-917c-9ec04593d4c4"
      },
      "outputs": [
        {
          "output_type": "stream",
          "name": "stdout",
          "text": [
            "Are you sure you want to proceed? yes\n",
            "The dangerous task has been completed successfully. If you need any further assistance, please let me know.\n"
          ]
        }
      ],
      "source": [
        "handler = workflow.run(user_msg=\"I want to proceed with the dangerous task.\")\n",
        "\n",
        "async for event in handler.stream_events():\n",
        "    # capture InputRequiredEvent\n",
        "    if isinstance(event, InputRequiredEvent):\n",
        "        # capture keyboard input\n",
        "        response = input(event.prefix)\n",
        "        # send our response back\n",
        "        handler.ctx.send_event(\n",
        "            HumanResponseEvent(\n",
        "                response=response,\n",
        "                user_name=event.user_name,\n",
        "            )\n",
        "        )\n",
        "\n",
        "response = await handler\n",
        "print(str(response))"
      ]
    },
    {
      "cell_type": "markdown",
      "source": [
        "## Congratulations!\n",
        "\n",
        "You've created your first agent. But `AgentWorkflow`s can do more than single agents; they can also create teams of agents that work together, a very flexible and powerful pattern. Let's see how that works by creating a system that can generate a report on a given topic."
      ],
      "metadata": {
        "id": "FiSJ0GxDabsb"
      }
    },
    {
      "cell_type": "markdown",
      "source": [
        "# Multi-agent System with AgentWorkflow\n",
        "\n",
        "Our system will have three agents:\n",
        "\n",
        "1. A `ResearchAgent` that will search the web for information on the given topic.\n",
        "2. A `WriteAgent` that will write the report using the information found by the `ResearchAgent`.\n",
        "3. A `ReviewAgent` that will review the report and provide feedback.\n",
        "\n",
        "We will use the `AgentWorkflow` class to create a multi-agent system that will execute these agents in order.\n",
        "\n",
        "There are a lot of ways we could go about building a system to perform this task. In this example, we will use a few tools to help with the research and writing processes.\n",
        "\n",
        "1. A `web_search` tool to search the web for information on the given topic.\n",
        "2. A `record_notes` tool which will save research found on the web to the state so that the other tools can use it.\n",
        "3. A `write_report` tool to write the report using the information found by the `ResearchAgent`\n",
        "4. A `review_report` tool to review the report and provide feedback.\n",
        "\n",
        "Utilizing the `Context` class, we can pass state between agents, and each agent will have access to the current state of the system.\n"
      ],
      "metadata": {
        "id": "FfaqqT4JayH2"
      }
    },
    {
      "cell_type": "markdown",
      "source": [
        "We'll use the same Tavily tool we used in our basic agent to help us again."
      ],
      "metadata": {
        "id": "PkdbK0q2a_9M"
      }
    },
    {
      "cell_type": "code",
      "source": [
        "async def search_web(query: str) -> str:\n",
        "    \"\"\"Useful for using the web to answer questions.\"\"\"\n",
        "    client = AsyncTavilyClient(api_key=tavily_api_key)\n",
        "    return str(await client.search(query))\n",
        "\n",
        "async def record_notes(ctx: Context, notes: str, notes_title: str) -> str:\n",
        "    \"\"\"Useful for recording notes on a given topic.\"\"\"\n",
        "    current_state = await ctx.get(\"state\")\n",
        "    if \"research_notes\" not in current_state:\n",
        "        current_state[\"research_notes\"] = {}\n",
        "    current_state[\"research_notes\"][notes_title] = notes\n",
        "    await ctx.set(\"state\", current_state)\n",
        "    return \"Notes recorded.\"\n",
        "\n",
        "\n",
        "async def write_report(ctx: Context, report_content: str) -> str:\n",
        "    \"\"\"Useful for writing a report on a given topic.\"\"\"\n",
        "    current_state = await ctx.get(\"state\")\n",
        "    current_state[\"report_content\"] = report_content\n",
        "    await ctx.set(\"state\", current_state)\n",
        "    return \"Report written.\"\n",
        "\n",
        "\n",
        "async def review_report(ctx: Context, review: str) -> str:\n",
        "    \"\"\"Useful for reviewing a report and providing feedback.\"\"\"\n",
        "    current_state = await ctx.get(\"state\")\n",
        "    current_state[\"review\"] = review\n",
        "    await ctx.set(\"state\", current_state)\n",
        "    return \"Report reviewed.\""
      ],
      "metadata": {
        "id": "2FSdTHAcbDxo"
      },
      "execution_count": null,
      "outputs": []
    },
    {
      "cell_type": "markdown",
      "source": [
        "With our tools defined, we can now create our agents.\n",
        "\n",
        "If the LLM you are using supports tool calling (most big models do), you can use the `FunctionAgent` class, which is a little more efficient. Otherwise, you can use the `ReActAgent` class.\n",
        "\n",
        "Here, the name and description of each agent is used so that the system knows what each agent is responsible for and when to hand off control to the next agent.\n",
        "\n",
        "Like our single-agent system did before, each agent takes a `system_prompt` that tells it what it should do, and suggests how to work with the other agents.\n",
        "\n",
        "You can also optionally help your multi-agent system constrain itself by listing which other agents an agent can talk to using `can_handoff_to` (otherwise it will just try to figure this out on its own)."
      ],
      "metadata": {
        "id": "NysBWF0TdrLe"
      }
    },
    {
      "cell_type": "code",
      "source": [
        "from llama_index.core.agent.workflow import FunctionAgent, ReActAgent\n",
        "\n",
        "research_agent = FunctionAgent(\n",
        "    name=\"ResearchAgent\",\n",
        "    description=\"Useful for searching the web for information on a given topic and recording notes on the topic.\",\n",
        "    system_prompt=(\n",
        "        \"You are the ResearchAgent that can search the web for information on a given topic and record notes on the topic. \"\n",
        "        \"Once notes are recorded and you are satisfied, you should hand off control to the WriteAgent to write a report on the topic.\"\n",
        "    ),\n",
        "    llm=llm,\n",
        "    tools=[search_web, record_notes],\n",
        "    can_handoff_to=[\"WriteAgent\"],\n",
        ")\n",
        "\n",
        "write_agent = FunctionAgent(\n",
        "    name=\"WriteAgent\",\n",
        "    description=\"Useful for writing a report on a given topic.\",\n",
        "    system_prompt=(\n",
        "        \"You are the WriteAgent that can write a report on a given topic. \"\n",
        "        \"Your report should be in a markdown format. The content should be grounded in the research notes. \"\n",
        "        \"Once the report is written, you should get feedback at least once from the ReviewAgent.\"\n",
        "    ),\n",
        "    llm=llm,\n",
        "    tools=[write_report],\n",
        "    can_handoff_to=[\"ReviewAgent\", \"ResearchAgent\"],\n",
        ")\n",
        "\n",
        "review_agent = FunctionAgent(\n",
        "    name=\"ReviewAgent\",\n",
        "    description=\"Useful for reviewing a report and providing feedback.\",\n",
        "    system_prompt=(\n",
        "        \"You are the ReviewAgent that can review a report and provide feedback. \"\n",
        "        \"Your feedback should either approve the current report or request changes for the WriteAgent to implement.\"\n",
        "    ),\n",
        "    llm=llm,\n",
        "    tools=[review_report],\n",
        "    can_handoff_to=[\"ResearchAgent\",\"WriteAgent\"],\n",
        ")"
      ],
      "metadata": {
        "id": "nyYmO25nduSq"
      },
      "execution_count": null,
      "outputs": []
    },
    {
      "cell_type": "markdown",
      "source": [
        "## Running the Workflow\n",
        "\n",
        "With our agents defined, we can create our `AgentWorkflow` and run it. Since this is a multi-agent system, instantiating it looks a little different. Instead of using the `from_tools_or_functions` helper, we instantiate it directly. It takes these arguments:\n",
        "* an array of agents\n",
        "* the name of the agent that it should start with (this will receive the initial `user_msg`)\n",
        "* an `initial_state` which populates the context variable `state` we mentioned earlier"
      ],
      "metadata": {
        "id": "1Pt0RUhodxQP"
      }
    },
    {
      "cell_type": "code",
      "source": [
        "from llama_index.core.agent.workflow import AgentWorkflow\n",
        "\n",
        "agent_workflow = AgentWorkflow(\n",
        "    agents=[research_agent, write_agent, review_agent],\n",
        "    root_agent=research_agent.name,\n",
        "    initial_state={\n",
        "        \"research_notes\": {},\n",
        "        \"report_content\": \"Not written yet.\",\n",
        "        \"review\": \"Review required.\",\n",
        "    },\n",
        ")"
      ],
      "metadata": {
        "id": "KiOguLyydzl3"
      },
      "execution_count": null,
      "outputs": []
    },
    {
      "cell_type": "markdown",
      "source": [
        "As the workflow is running, we will stream the events to get an idea of what is happening under the hood. We've added some decoration to the output to make this a little easier to read."
      ],
      "metadata": {
        "id": "YoaXPKSCd3jw"
      }
    },
    {
      "cell_type": "code",
      "source": [
        "from llama_index.core.agent.workflow import (\n",
        "    AgentInput,\n",
        "    AgentOutput,\n",
        "    ToolCall,\n",
        "    ToolCallResult,\n",
        "    AgentStream,\n",
        ")\n",
        "\n",
        "handler = agent_workflow.run(\n",
        "    user_msg=\"\"\"Write me a report on the history of the web.\n",
        "      Briefly describe the history of the world wide web, including\n",
        "      the development of the internet and the development of the web,\n",
        "      including 21st century developments\"\"\"\n",
        ")\n",
        "\n",
        "current_agent = None\n",
        "current_tool_calls = \"\"\n",
        "async for event in handler.stream_events():\n",
        "    if (\n",
        "        hasattr(event, \"current_agent_name\")\n",
        "        and event.current_agent_name != current_agent\n",
        "    ):\n",
        "        current_agent = event.current_agent_name\n",
        "        print(f\"\\n{'='*50}\")\n",
        "        print(f\"🤖 Agent: {current_agent}\")\n",
        "        print(f\"{'='*50}\\n\")\n",
        "    elif isinstance(event, AgentOutput):\n",
        "        if event.response.content:\n",
        "            print(\"📤 Output:\", event.response.content)\n",
        "        if event.tool_calls:\n",
        "            print(\n",
        "                \"🛠️  Planning to use tools:\",\n",
        "                [call.tool_name for call in event.tool_calls],\n",
        "            )\n",
        "    elif isinstance(event, ToolCallResult):\n",
        "        print(f\"🔧 Tool Result ({event.tool_name}):\")\n",
        "        print(f\"  Arguments: {event.tool_kwargs}\")\n",
        "        print(f\"  Output: {event.tool_output}\")\n",
        "    elif isinstance(event, ToolCall):\n",
        "        print(f\"🔨 Calling Tool: {event.tool_name}\")\n",
        "        print(f\"  With arguments: {event.tool_kwargs}\")"
      ],
      "metadata": {
        "colab": {
          "base_uri": "https://localhost:8080/"
        },
        "id": "N0bahrGzd5_1",
        "outputId": "5c452184-d6e0-40fc-eda6-5e63aec31355"
      },
      "execution_count": null,
      "outputs": [
        {
          "output_type": "stream",
          "name": "stdout",
          "text": [
            "\n",
            "==================================================\n",
            "🤖 Agent: ResearchAgent\n",
            "==================================================\n",
            "\n",
            "🛠️  Planning to use tools: ['search_web']\n",
            "🔨 Calling Tool: search_web\n",
            "  With arguments: {'query': 'history of the world wide web including development of the internet and 21st century developments'}\n",
            "🔧 Tool Result (search_web):\n",
            "  Arguments: {'query': 'history of the world wide web including development of the internet and 21st century developments'}\n",
            "  Output: {'query': 'history of the world wide web including development of the internet and 21st century developments', 'follow_up_questions': None, 'answer': None, 'images': [], 'results': [{'title': 'History of the World Wide Web - Wikipedia', 'url': 'https://en.wikipedia.org/wiki/History_of_the_World_Wide_Web', 'content': 'World Wide Web The Web\\'s former logo by Robert Cailliau Inventor Tim Berners-Lee Inception 12 March 1989; 35 years ago History of computing Hardware Hardware 1960s to present Software SoftwareSoftware configuration managementUnixFree software and open-source software Computer science Artificial intelligenceCompiler constructionEarly computer scienceOperating systemsProgramming languagesProminent pioneersSoftware engineering Modern concepts General-purpose CPUsGraphical user interfaceInternetLaptopsPersonal computersVideo gamesWorld Wide WebCloudQuantum By country BulgariaEastern BlocPolandRomaniaSouth AmericaSoviet UnionYugoslavia Timeline of computing before 19501950–19791980–19891990–19992000–20092010–20192020–presentmore timelines ... Glossary of computer science Category vte The World Wide Web (\"WWW\", \"W3\" or simply \"the Web\") is a global information medium that users can access via computers connected to the Internet. Tim Berners-Lee invented the World Wide Web while working at CERN in 1989. [1][2] He developed the first web server, the first web browser, and a document formatting protocol, called Hypertext Markup Language (HTML). After publishing the markup language in 1991, and releasing the browser source code for public use in 1993, many other web browsers were soon developed, with Marc Andreessen\\'s Mosaic (later Netscape Navigator), being particularly easy to use and install, and often credited with sparking the Internet boom of the 1990s. This spurred competition in server and browser software, highlighted in the Browser wars which was initially dominated by Netscape Navigator and Internet Explorer.', 'score': 0.73981786, 'raw_content': None}, {'title': 'History of the Internet and World Wide Web (WWW)', 'url': 'https://www.encyclopedia.com/economics/encyclopedias-almanacs-transcripts-and-maps/history-internet-and-world-wide-web-www', 'content': 'History of the Internet and World Wide Web (WWW) | Encyclopedia.com History of the Internet and World Wide Web (WWW) History of the Internet and World Wide Web (WWW) HISTORY OF THE INTERNET AND WORLD WIDE WEB (WWW) \"History of the Internet and World Wide Web (WWW) .\" Gale Encyclopedia of E-Commerce. \"History of the Internet and World Wide Web (WWW) .\" Gale Encyclopedia of E-Commerce. https://www.encyclopedia.com/economics/encyclopedias-almanacs-transcripts-and-maps/history-internet-and-world-wide-web-www \"History of the Internet and World Wide Web (WWW) .\" Gale Encyclopedia of E-Commerce. . Retrieved January 08, 2025 from Encyclopedia.com: https://www.encyclopedia.com/economics/encyclopedias-almanacs-transcripts-and-maps/history-internet-and-world-wide-web-www History of the Internet and World Wide Web (WWW) History of the Internet and World Wide Web (WWW)', 'score': 0.49948794, 'raw_content': None}, {'title': 'Development of the Internet and the World Wide Web', 'url': 'https://nap.nationalacademies.org/read/6323/chapter/9', 'content': \"Most of the work was funded by ARPA, although the NSF provided educational support for many researchers and was beginning to consider establishing a large-scale academic network. Its work was largely ignored by AT&T, and the major computer companies, notably IBM and DEC, began to offer proprietary networking solutions that competed with, rather than applied, the ARPA-developed technologies.3 Yet the technologies developed under ARPA contract ultimately resulted in today's Internet. Continued support for experimentation led to the development of networking protocols and applications, such as e-mail, that were used on the ARPANET and, subsequently, the Internet. Although DARPA and the NSF were successful in creating an expansive packet-switched network to facilitate communication among researchers, it took the invention of the Web and its browsers to make the Internet more broadly accessible and useful to society.\", 'score': 0.46832922, 'raw_content': None}, {'title': 'Rise of the Internet and the World Wide Web | EBSCO', 'url': 'https://www.ebsco.com/research-starters/history/rise-internet-and-world-wide-web', 'content': 'Rise of the Internet and the World Wide Web | EBSCO Research Starters The rise of the Internet and the World Wide Web marks a significant transformation in global communication and information exchange. The World Wide Web, introduced by Tim Berners-Lee in 1990, provided a more accessible interface, enabling users to navigate information through hypertext links. The Internet is a loose collection of interconnecting commercial and noncommercial computer networks, including online information services, that use standard protocols (or rules) to exchange information. The World Wide Web, or Web, is a user-friendly “front end” to the information already on the Internet. He developed the standards for addressing, linking language, and transferring multimedia documents on the Web. This software provided a protocol for requesting readable information (including text, graphics, figures, and databases) stored on remote computer systems, using networks.', 'score': 0.4549328, 'raw_content': None}, {'title': 'PDF', 'url': 'https://ijstr.org/final-print/sep2019/Development-History-Of-The-World-Wide-Web.pdf', 'content': 'Web 2.0 Started in 2003 by Dale Dougherty Read and Write user can post and write on sits JavaScript and XML, DOM, REST, XML and CSS Most popular web and it is allow user more features Web 3.0 started in 2014 Executable more features allows the user execute some application LLC, CEO HTML5, CSS JavaScript Very rich feature for user but not standardized all levels Semantic Web Started in 2015 Very intelligence easy for user RDF,RDFS, OWL and SPARQL More intelligent for search about information but complex for developer 4 CONCLUSION Through the history of web developments, we noticed that the web is growing form the basic web that just has very few tools and control into huge intelligence database of information.', 'score': 0.38929167, 'raw_content': None}], 'response_time': 1.81}\n",
            "🛠️  Planning to use tools: ['record_notes', 'record_notes', 'record_notes']\n",
            "🔨 Calling Tool: record_notes\n",
            "  With arguments: {'notes': 'The World Wide Web (WWW) was invented by Tim Berners-Lee in 1989 while working at CERN. He developed the first web server, the first web browser, and the Hypertext Markup Language (HTML) protocol. The markup language was published in 1991, and the browser source code was released for public use in 1993. This led to the development of many other web browsers, including Mosaic and Netscape Navigator, which contributed to the Internet boom of the 1990s. The Internet itself evolved from ARPA-funded research, with the ARPANET being a precursor. DARPA and NSF played significant roles in developing networking protocols and applications like email. The Web made the Internet more accessible and useful to society by providing a user-friendly interface through hypertext links. In the 21st century, the Web has seen developments such as Web 2.0 starting in 2003, which introduced interactive and user-generated content features using technologies like JavaScript, XML, DOM, REST, and CSS. Web 3.0 began around 2014, focusing on richer features and more executable applications, though not fully standardized. The Semantic Web started around 2015, aiming to create a more intelligent and easily searchable web using technologies like RDF, RDFS, OWL, and SPARQL, though it remains complex for developers.', 'notes_title': 'History of the World Wide Web and Internet Development'}\n",
            "🔧 Tool Result (record_notes):\n",
            "  Arguments: {'notes': 'The World Wide Web (WWW) was invented by Tim Berners-Lee in 1989 while working at CERN. He developed the first web server, the first web browser, and the Hypertext Markup Language (HTML) protocol. The markup language was published in 1991, and the browser source code was released for public use in 1993. This led to the development of many other web browsers, including Mosaic and Netscape Navigator, which contributed to the Internet boom of the 1990s. The Internet itself evolved from ARPA-funded research, with the ARPANET being a precursor. DARPA and NSF played significant roles in developing networking protocols and applications like email. The Web made the Internet more accessible and useful to society by providing a user-friendly interface through hypertext links. In the 21st century, the Web has seen developments such as Web 2.0 starting in 2003, which introduced interactive and user-generated content features using technologies like JavaScript, XML, DOM, REST, and CSS. Web 3.0 began around 2014, focusing on richer features and more executable applications, though not fully standardized. The Semantic Web started around 2015, aiming to create a more intelligent and easily searchable web using technologies like RDF, RDFS, OWL, and SPARQL, though it remains complex for developers.', 'notes_title': 'History of the World Wide Web and Internet Development'}\n",
            "  Output: Notes recorded.\n",
            "🔨 Calling Tool: record_notes\n",
            "  With arguments: {'notes': 'The Internet is a collection of interconnected commercial and noncommercial networks using standard protocols to exchange information. The World Wide Web is a user-friendly front end to the information on the Internet, introduced by Tim Berners-Lee in 1990. The Web provided standards for addressing, linking language, and transferring multimedia documents, enabling users to navigate information through hypertext links. Early developments included the ARPANET and the creation of networking protocols and applications such as email. The 21st century has seen significant transformations with the rise of Web 2.0 and Web 3.0, enhancing user interaction and intelligence on the web.', 'notes_title': 'Summary of Internet and Web Development'}\n",
            "🔧 Tool Result (record_notes):\n",
            "  Arguments: {'notes': 'The Internet is a collection of interconnected commercial and noncommercial networks using standard protocols to exchange information. The World Wide Web is a user-friendly front end to the information on the Internet, introduced by Tim Berners-Lee in 1990. The Web provided standards for addressing, linking language, and transferring multimedia documents, enabling users to navigate information through hypertext links. Early developments included the ARPANET and the creation of networking protocols and applications such as email. The 21st century has seen significant transformations with the rise of Web 2.0 and Web 3.0, enhancing user interaction and intelligence on the web.', 'notes_title': 'Summary of Internet and Web Development'}\n",
            "  Output: Notes recorded.\n",
            "🔨 Calling Tool: record_notes\n",
            "  With arguments: {'notes': \"The development of the Internet was largely funded by ARPA, with NSF supporting academic networks. Major companies initially ignored ARPA's work, offering proprietary networking solutions. However, ARPA's technologies led to today's Internet. The invention of the Web and its browsers made the Internet broadly accessible and useful to society. The Web introduced a protocol for requesting readable information stored on remote systems using networks, including text, graphics, figures, and databases.\", 'notes_title': 'Development of the Internet and Web Accessibility'}\n",
            "🔧 Tool Result (record_notes):\n",
            "  Arguments: {'notes': \"The development of the Internet was largely funded by ARPA, with NSF supporting academic networks. Major companies initially ignored ARPA's work, offering proprietary networking solutions. However, ARPA's technologies led to today's Internet. The invention of the Web and its browsers made the Internet broadly accessible and useful to society. The Web introduced a protocol for requesting readable information stored on remote systems using networks, including text, graphics, figures, and databases.\", 'notes_title': 'Development of the Internet and Web Accessibility'}\n",
            "  Output: Notes recorded.\n",
            "🛠️  Planning to use tools: ['handoff']\n",
            "🔨 Calling Tool: handoff\n",
            "  With arguments: {'to_agent': 'WriteAgent', 'reason': 'Research on the history of the web and internet development is complete. Ready to write the report.'}\n",
            "🔧 Tool Result (handoff):\n",
            "  Arguments: {'to_agent': 'WriteAgent', 'reason': 'Research on the history of the web and internet development is complete. Ready to write the report.'}\n",
            "  Output: Agent WriteAgent is now handling the request due to the following reason: Research on the history of the web and internet development is complete. Ready to write the report..\n",
            "Please continue with the current request.\n",
            "\n",
            "==================================================\n",
            "🤖 Agent: WriteAgent\n",
            "==================================================\n",
            "\n",
            "🛠️  Planning to use tools: ['write_report']\n",
            "🔨 Calling Tool: write_report\n",
            "  With arguments: {'report_content': \"# History of the World Wide Web\\n\\nThe World Wide Web (WWW) is a global information medium that revolutionized how people access and share information. It was invented by Tim Berners-Lee in 1989 while he was working at CERN. Berners-Lee developed the first web server, the first web browser, and the Hypertext Markup Language (HTML) protocol, which allowed documents to be linked through hypertext. The markup language was published in 1991, and the browser source code was released for public use in 1993. This openness led to the rapid development of many web browsers, including Mosaic and Netscape Navigator, which played a significant role in sparking the Internet boom of the 1990s.\\n\\n## Development of the Internet\\n\\nThe Internet itself evolved from research funded primarily by the Advanced Research Projects Agency (ARPA) in the United States. The ARPANET, an early packet-switching network, laid the foundation for the modern Internet. The National Science Foundation (NSF) also supported the creation of academic networks. Although major companies initially pursued proprietary networking solutions, ARPA's technologies ultimately formed the backbone of today's Internet. Key networking protocols and applications, such as email, were developed during this period.\\n\\n## The Web's Impact and 21st Century Developments\\n\\nWhile the Internet provided the infrastructure, the invention of the Web and its browsers made the Internet broadly accessible and useful to society by providing a user-friendly interface through hypertext links. The Web introduced standards for addressing, linking, and transferring multimedia documents, enabling users to navigate information easily.\\n\\nIn the 21st century, the Web has undergone significant transformations:\\n\\n- **Web 2.0 (starting around 2003):** Marked by interactive and user-generated content, Web 2.0 introduced technologies such as JavaScript, XML, DOM, REST, and CSS. This era allowed users to post, write, and interact on websites, making the Web more dynamic and social.\\n\\n- **Web 3.0 (starting around 2014):** Focused on richer features and more executable applications, Web 3.0 aimed to enhance user experience with advanced technologies like HTML5, CSS, and JavaScript. However, it is not fully standardized across all levels.\\n\\n- **Semantic Web (starting around 2015):** This development seeks to create a more intelligent and easily searchable Web using technologies such as RDF, RDFS, OWL, and SPARQL. The Semantic Web aims to improve information retrieval but remains complex for developers.\\n\\n## Conclusion\\n\\nThe history of the World Wide Web is a story of innovation that transformed the Internet from a research network into a global information medium accessible to billions. From its inception in 1989 to the dynamic, intelligent Web of the 21st century, the Web continues to evolve, shaping how society communicates, learns, and interacts.\"}\n",
            "🔧 Tool Result (write_report):\n",
            "  Arguments: {'report_content': \"# History of the World Wide Web\\n\\nThe World Wide Web (WWW) is a global information medium that revolutionized how people access and share information. It was invented by Tim Berners-Lee in 1989 while he was working at CERN. Berners-Lee developed the first web server, the first web browser, and the Hypertext Markup Language (HTML) protocol, which allowed documents to be linked through hypertext. The markup language was published in 1991, and the browser source code was released for public use in 1993. This openness led to the rapid development of many web browsers, including Mosaic and Netscape Navigator, which played a significant role in sparking the Internet boom of the 1990s.\\n\\n## Development of the Internet\\n\\nThe Internet itself evolved from research funded primarily by the Advanced Research Projects Agency (ARPA) in the United States. The ARPANET, an early packet-switching network, laid the foundation for the modern Internet. The National Science Foundation (NSF) also supported the creation of academic networks. Although major companies initially pursued proprietary networking solutions, ARPA's technologies ultimately formed the backbone of today's Internet. Key networking protocols and applications, such as email, were developed during this period.\\n\\n## The Web's Impact and 21st Century Developments\\n\\nWhile the Internet provided the infrastructure, the invention of the Web and its browsers made the Internet broadly accessible and useful to society by providing a user-friendly interface through hypertext links. The Web introduced standards for addressing, linking, and transferring multimedia documents, enabling users to navigate information easily.\\n\\nIn the 21st century, the Web has undergone significant transformations:\\n\\n- **Web 2.0 (starting around 2003):** Marked by interactive and user-generated content, Web 2.0 introduced technologies such as JavaScript, XML, DOM, REST, and CSS. This era allowed users to post, write, and interact on websites, making the Web more dynamic and social.\\n\\n- **Web 3.0 (starting around 2014):** Focused on richer features and more executable applications, Web 3.0 aimed to enhance user experience with advanced technologies like HTML5, CSS, and JavaScript. However, it is not fully standardized across all levels.\\n\\n- **Semantic Web (starting around 2015):** This development seeks to create a more intelligent and easily searchable Web using technologies such as RDF, RDFS, OWL, and SPARQL. The Semantic Web aims to improve information retrieval but remains complex for developers.\\n\\n## Conclusion\\n\\nThe history of the World Wide Web is a story of innovation that transformed the Internet from a research network into a global information medium accessible to billions. From its inception in 1989 to the dynamic, intelligent Web of the 21st century, the Web continues to evolve, shaping how society communicates, learns, and interacts.\"}\n",
            "  Output: Report written.\n",
            "🛠️  Planning to use tools: ['handoff']\n",
            "🔨 Calling Tool: handoff\n",
            "  With arguments: {'to_agent': 'ReviewAgent', 'reason': 'The report on the history of the web has been written and needs review for quality and completeness.'}\n",
            "🔧 Tool Result (handoff):\n",
            "  Arguments: {'to_agent': 'ReviewAgent', 'reason': 'The report on the history of the web has been written and needs review for quality and completeness.'}\n",
            "  Output: Agent ReviewAgent is now handling the request due to the following reason: The report on the history of the web has been written and needs review for quality and completeness..\n",
            "Please continue with the current request.\n",
            "\n",
            "==================================================\n",
            "🤖 Agent: ReviewAgent\n",
            "==================================================\n",
            "\n",
            "🛠️  Planning to use tools: ['review_report']\n",
            "🔨 Calling Tool: review_report\n",
            "  With arguments: {'review': 'The report provides a clear and concise overview of the history of the World Wide Web, including the development of the Internet and key 21st century developments. It covers the invention of the Web by Tim Berners-Lee, the role of ARPA and NSF in the development of the Internet, and the impact of the Web in making the Internet accessible and useful. The report also appropriately highlights the evolution through Web 2.0, Web 3.0, and the Semantic Web, explaining their significance and technological advancements.\\n\\nThe structure is logical, starting from the origins and moving through to modern developments, making it easy to follow. The language is clear and suitable for a general audience. The report meets the requirements of briefly describing the history and including 21st century developments.\\n\\nNo significant errors or omissions are noted. The report is well-rounded and informative.\\n\\nRecommendation: Approve the report as is.'}\n",
            "🔧 Tool Result (review_report):\n",
            "  Arguments: {'review': 'The report provides a clear and concise overview of the history of the World Wide Web, including the development of the Internet and key 21st century developments. It covers the invention of the Web by Tim Berners-Lee, the role of ARPA and NSF in the development of the Internet, and the impact of the Web in making the Internet accessible and useful. The report also appropriately highlights the evolution through Web 2.0, Web 3.0, and the Semantic Web, explaining their significance and technological advancements.\\n\\nThe structure is logical, starting from the origins and moving through to modern developments, making it easy to follow. The language is clear and suitable for a general audience. The report meets the requirements of briefly describing the history and including 21st century developments.\\n\\nNo significant errors or omissions are noted. The report is well-rounded and informative.\\n\\nRecommendation: Approve the report as is.'}\n",
            "  Output: Report reviewed.\n",
            "📤 Output: The report on the history of the World Wide Web is well-written, clear, and comprehensive. It effectively covers the invention of the Web, the development of the Internet, and key 21st century advancements such as Web 2.0, Web 3.0, and the Semantic Web. The structure and language are appropriate, and the content meets the requested brief.\n",
            "\n",
            "I approve the report as it stands.\n"
          ]
        }
      ]
    },
    {
      "cell_type": "markdown",
      "source": [
        "Now we can see the final output:"
      ],
      "metadata": {
        "id": "h1JccN5cebfc"
      }
    },
    {
      "cell_type": "code",
      "source": [
        "state = await handler.ctx.get(\"state\")\n",
        "print(state[\"report_content\"])"
      ],
      "metadata": {
        "colab": {
          "base_uri": "https://localhost:8080/"
        },
        "id": "DTevKuAYedci",
        "outputId": "464872df-f4ce-4fb3-c100-680bd51e7752"
      },
      "execution_count": null,
      "outputs": [
        {
          "output_type": "stream",
          "name": "stdout",
          "text": [
            "# History of the World Wide Web\n",
            "\n",
            "The World Wide Web (WWW) is a global information medium that revolutionized how people access and share information. It was invented by Tim Berners-Lee in 1989 while he was working at CERN. Berners-Lee developed the first web server, the first web browser, and the Hypertext Markup Language (HTML) protocol, which allowed documents to be linked through hypertext. The markup language was published in 1991, and the browser source code was released for public use in 1993. This openness led to the rapid development of many web browsers, including Mosaic and Netscape Navigator, which played a significant role in sparking the Internet boom of the 1990s.\n",
            "\n",
            "## Development of the Internet\n",
            "\n",
            "The Internet itself evolved from research funded primarily by the Advanced Research Projects Agency (ARPA) in the United States. The ARPANET, an early packet-switching network, laid the foundation for the modern Internet. The National Science Foundation (NSF) also supported the creation of academic networks. Although major companies initially pursued proprietary networking solutions, ARPA's technologies ultimately formed the backbone of today's Internet. Key networking protocols and applications, such as email, were developed during this period.\n",
            "\n",
            "## The Web's Impact and 21st Century Developments\n",
            "\n",
            "While the Internet provided the infrastructure, the invention of the Web and its browsers made the Internet broadly accessible and useful to society by providing a user-friendly interface through hypertext links. The Web introduced standards for addressing, linking, and transferring multimedia documents, enabling users to navigate information easily.\n",
            "\n",
            "In the 21st century, the Web has undergone significant transformations:\n",
            "\n",
            "- **Web 2.0 (starting around 2003):** Marked by interactive and user-generated content, Web 2.0 introduced technologies such as JavaScript, XML, DOM, REST, and CSS. This era allowed users to post, write, and interact on websites, making the Web more dynamic and social.\n",
            "\n",
            "- **Web 3.0 (starting around 2014):** Focused on richer features and more executable applications, Web 3.0 aimed to enhance user experience with advanced technologies like HTML5, CSS, and JavaScript. However, it is not fully standardized across all levels.\n",
            "\n",
            "- **Semantic Web (starting around 2015):** This development seeks to create a more intelligent and easily searchable Web using technologies such as RDF, RDFS, OWL, and SPARQL. The Semantic Web aims to improve information retrieval but remains complex for developers.\n",
            "\n",
            "## Conclusion\n",
            "\n",
            "The history of the World Wide Web is a story of innovation that transformed the Internet from a research network into a global information medium accessible to billions. From its inception in 1989 to the dynamic, intelligent Web of the 21st century, the Web continues to evolve, shaping how society communicates, learns, and interacts.\n"
          ]
        }
      ]
    },
    {
      "cell_type": "markdown",
      "source": [
        "And also what the reviewer agent thought. The reviewer agent could have decided to hand back control to the `WriteAgent` to try again, but in this case it did not."
      ],
      "metadata": {
        "id": "KBJA5pJ9ZeBt"
      }
    },
    {
      "cell_type": "code",
      "source": [
        "print(state[\"review\"])"
      ],
      "metadata": {
        "colab": {
          "base_uri": "https://localhost:8080/"
        },
        "id": "izgsc1MkWmOO",
        "outputId": "4a1de377-806c-4fa0-e607-31be71637148"
      },
      "execution_count": null,
      "outputs": [
        {
          "output_type": "stream",
          "name": "stdout",
          "text": [
            "The report provides a clear and concise overview of the history of the World Wide Web, including the development of the Internet and key 21st century developments. It covers the invention of the Web by Tim Berners-Lee, the role of ARPA and NSF in the development of the Internet, and the impact of the Web in making the Internet accessible and useful. The report also appropriately highlights the evolution through Web 2.0, Web 3.0, and the Semantic Web, explaining their significance and technological advancements.\n",
            "\n",
            "The structure is logical, starting from the origins and moving through to modern developments, making it easy to follow. The language is clear and suitable for a general audience. The report meets the requirements of briefly describing the history and including 21st century developments.\n",
            "\n",
            "No significant errors or omissions are noted. The report is well-rounded and informative.\n",
            "\n",
            "Recommendation: Approve the report as is.\n"
          ]
        }
      ]
    },
    {
      "cell_type": "markdown",
      "source": [
        "## Congratulations again!\n",
        "\n",
        "You've successfully put together a multi-agent system using `AgentWorkflow`. `AgentWorkflow` is designed to be a simple jumping-off point for putting together a team of agents to solve a problem. But LlamaIndex can do even more!"
      ],
      "metadata": {
        "id": "nIJWflLAg6zr"
      }
    },
    {
      "cell_type": "markdown",
      "source": [
        "# Building agentic workflows from scratch\n",
        "\n",
        "As mentioned, `AgentWorkflow` is a pre-built `Workflow`, so you've already encountered many of the concepts you need to build a workflow from scratch.\n",
        "\n",
        "You can easily build your own workflows directly to create multi-agent systems that are customized to your needs. There's a number of reasons you might want to branch out from AgentWorkflow to rolling your own workflow:\n",
        "\n",
        "* **Fine-grained flow control**: Workflows allow looping, branching, parallel calls and map-reduce behavior. Workflows allow you to precisely specify how data gets passed around your system.\n",
        "\n",
        "* **Structured inputs and outputs**: If you want your inputs and outputs to be richer than simple strings, or to kick off with more than just a `user_msg`, workflows allow you to do that.\n",
        "\n",
        "* **Multimodality**: LlamaIndex can handle more than just text! You can handle images, audio and video as well.\n",
        "\n",
        "* **Query planning**: a custom workflow can execute complex planning of how to run based on its inputs, rather than immediately jumping into a team.\n",
        "\n",
        "* **Reflection**: A powerful technique for agents is their ability to examine their own output and decide whether it's sufficient, or if they need to try again. Using looping, you can implement this pattern.\n"
      ],
      "metadata": {
        "id": "fe0jHDkRkdut"
      }
    },
    {
      "cell_type": "markdown",
      "source": [
        "## Creating a new workflow\n",
        "\n",
        "Under the hood, Workflows are regular Python classes. They are defined as a series of `steps`, each of which receives certain classes of events and emits certain classes of events.\n",
        "\n",
        "Here's the most basic form of a workflow, with a single step:"
      ],
      "metadata": {
        "id": "BdivtbxHmxjL"
      }
    },
    {
      "cell_type": "code",
      "source": [
        "from llama_index.core.workflow import (\n",
        "    StartEvent,\n",
        "    StopEvent,\n",
        "    Workflow,\n",
        "    step,\n",
        ")\n",
        "\n",
        "class MyWorkflow(Workflow):\n",
        "    @step\n",
        "    async def my_step(self, ev: StartEvent) -> StopEvent:\n",
        "        # do something here\n",
        "        return StopEvent(result=\"Hello, world!\")"
      ],
      "metadata": {
        "id": "fMCRR_GenK1N"
      },
      "execution_count": null,
      "outputs": []
    },
    {
      "cell_type": "markdown",
      "source": [
        "This new `MyWorkflow` class:\n",
        "* Uses the `@step` decorator to declare a function to be a step\n",
        "* Has a single step called `my_step` which accepts a `StartEvent`. `StartEvent` is a special event which is always generated when a workflow first runs.\n",
        "* `my_step` returns a `StopEvent`, which is another special event. When a `StopEvent` is emitted the workflow returns it and stops running.\n",
        "\n",
        "You instantiate it and run it just like you ran the the `AgentWorkflow`:"
      ],
      "metadata": {
        "id": "cBGDxot7nUjG"
      }
    },
    {
      "cell_type": "code",
      "source": [
        "workflow = MyWorkflow(timeout=10, verbose=False)\n",
        "result = await workflow.run()\n",
        "print(result)"
      ],
      "metadata": {
        "colab": {
          "base_uri": "https://localhost:8080/"
        },
        "id": "AlZBKZKhn3hB",
        "outputId": "c45e8ebb-029d-4579-fc01-52c923e881fe"
      },
      "execution_count": null,
      "outputs": [
        {
          "output_type": "stream",
          "name": "stdout",
          "text": [
            "Hello, world!\n"
          ]
        }
      ]
    },
    {
      "cell_type": "markdown",
      "source": [
        "## Type annotations for steps\n",
        "\n",
        "The type annotations (e.g. `ev: StartEvent` and `-> StopEvent`) are essential to the way Workflows work. The expected types determine what event types will trigger a step. Tools like the visualizer (see later) also rely on these annotations to determine what types are generated and therefore where control flow goes next."
      ],
      "metadata": {
        "id": "cLtZoxLRoeTQ"
      }
    },
    {
      "cell_type": "markdown",
      "source": [
        "## Aside: running a workflow in regular python\n",
        "\n",
        "Workflows are async by default, so you use `await` to get the result of the `run` command. This will work fine in a notebook environment; in a vanilla python script you will need to import `asyncio` and wrap your code in an async function, like this:\n",
        "\n",
        "```\n",
        "async def main():\n",
        "    w = MyWorkflow(timeout=10, verbose=False)\n",
        "    result = await w.run()\n",
        "    print(result)\n",
        "\n",
        "\n",
        "if __name__ == \"__main__\":\n",
        "    import asyncio\n",
        "    asyncio.run(main())\n",
        "```\n",
        "\n",
        "Since we're in a notebook right now, we won't execute the above code as it won't work!"
      ],
      "metadata": {
        "id": "T6zX3DLipK2S"
      }
    },
    {
      "cell_type": "markdown",
      "source": [
        "## Visualizing a workflow\n",
        "\n",
        "A great feature of workflows is the built-in visualizer, which we will install now:\n"
      ],
      "metadata": {
        "id": "0Z0RQiJ2poca"
      }
    },
    {
      "cell_type": "code",
      "source": [
        "!pip install llama-index-utils-workflow"
      ],
      "metadata": {
        "colab": {
          "base_uri": "https://localhost:8080/"
        },
        "collapsed": true,
        "id": "WQrdF_1MpSAp",
        "outputId": "67953572-04c7-4d35-9420-96944675e479"
      },
      "execution_count": null,
      "outputs": [
        {
          "output_type": "stream",
          "name": "stdout",
          "text": [
            "Collecting llama-index-utils-workflow\n",
            "  Downloading llama_index_utils_workflow-0.3.1-py3-none-any.whl.metadata (665 bytes)\n",
            "Requirement already satisfied: llama-index-core<0.13.0,>=0.12.0 in /usr/local/lib/python3.11/dist-packages (from llama-index-utils-workflow) (0.12.34.post1)\n",
            "Collecting pyvis<0.4.0,>=0.3.2 (from llama-index-utils-workflow)\n",
            "  Downloading pyvis-0.3.2-py3-none-any.whl.metadata (1.7 kB)\n",
            "Requirement already satisfied: aiohttp<4,>=3.8.6 in /usr/local/lib/python3.11/dist-packages (from llama-index-core<0.13.0,>=0.12.0->llama-index-utils-workflow) (3.11.15)\n",
            "Requirement already satisfied: banks<3,>=2.0.0 in /usr/local/lib/python3.11/dist-packages (from llama-index-core<0.13.0,>=0.12.0->llama-index-utils-workflow) (2.1.2)\n",
            "Requirement already satisfied: dataclasses-json in /usr/local/lib/python3.11/dist-packages (from llama-index-core<0.13.0,>=0.12.0->llama-index-utils-workflow) (0.6.7)\n",
            "Requirement already satisfied: deprecated>=1.2.9.3 in /usr/local/lib/python3.11/dist-packages (from llama-index-core<0.13.0,>=0.12.0->llama-index-utils-workflow) (1.2.18)\n",
            "Requirement already satisfied: dirtyjson<2,>=1.0.8 in /usr/local/lib/python3.11/dist-packages (from llama-index-core<0.13.0,>=0.12.0->llama-index-utils-workflow) (1.0.8)\n",
            "Requirement already satisfied: filetype<2,>=1.2.0 in /usr/local/lib/python3.11/dist-packages (from llama-index-core<0.13.0,>=0.12.0->llama-index-utils-workflow) (1.2.0)\n",
            "Requirement already satisfied: fsspec>=2023.5.0 in /usr/local/lib/python3.11/dist-packages (from llama-index-core<0.13.0,>=0.12.0->llama-index-utils-workflow) (2025.3.2)\n",
            "Requirement already satisfied: httpx in /usr/local/lib/python3.11/dist-packages (from llama-index-core<0.13.0,>=0.12.0->llama-index-utils-workflow) (0.28.1)\n",
            "Requirement already satisfied: nest-asyncio<2,>=1.5.8 in /usr/local/lib/python3.11/dist-packages (from llama-index-core<0.13.0,>=0.12.0->llama-index-utils-workflow) (1.6.0)\n",
            "Requirement already satisfied: networkx>=3.0 in /usr/local/lib/python3.11/dist-packages (from llama-index-core<0.13.0,>=0.12.0->llama-index-utils-workflow) (3.4.2)\n",
            "Requirement already satisfied: nltk>3.8.1 in /usr/local/lib/python3.11/dist-packages (from llama-index-core<0.13.0,>=0.12.0->llama-index-utils-workflow) (3.9.1)\n",
            "Requirement already satisfied: numpy in /usr/local/lib/python3.11/dist-packages (from llama-index-core<0.13.0,>=0.12.0->llama-index-utils-workflow) (2.0.2)\n",
            "Requirement already satisfied: pillow>=9.0.0 in /usr/local/lib/python3.11/dist-packages (from llama-index-core<0.13.0,>=0.12.0->llama-index-utils-workflow) (11.2.1)\n",
            "Requirement already satisfied: pydantic>=2.8.0 in /usr/local/lib/python3.11/dist-packages (from llama-index-core<0.13.0,>=0.12.0->llama-index-utils-workflow) (2.11.3)\n",
            "Requirement already satisfied: pyyaml>=6.0.1 in /usr/local/lib/python3.11/dist-packages (from llama-index-core<0.13.0,>=0.12.0->llama-index-utils-workflow) (6.0.2)\n",
            "Requirement already satisfied: requests>=2.31.0 in /usr/local/lib/python3.11/dist-packages (from llama-index-core<0.13.0,>=0.12.0->llama-index-utils-workflow) (2.32.3)\n",
            "Requirement already satisfied: sqlalchemy>=1.4.49 in /usr/local/lib/python3.11/dist-packages (from sqlalchemy[asyncio]>=1.4.49->llama-index-core<0.13.0,>=0.12.0->llama-index-utils-workflow) (2.0.40)\n",
            "Requirement already satisfied: tenacity!=8.4.0,<10.0.0,>=8.2.0 in /usr/local/lib/python3.11/dist-packages (from llama-index-core<0.13.0,>=0.12.0->llama-index-utils-workflow) (9.1.2)\n",
            "Requirement already satisfied: tiktoken>=0.7.0 in /usr/local/lib/python3.11/dist-packages (from llama-index-core<0.13.0,>=0.12.0->llama-index-utils-workflow) (0.9.0)\n",
            "Requirement already satisfied: tqdm<5,>=4.66.1 in /usr/local/lib/python3.11/dist-packages (from llama-index-core<0.13.0,>=0.12.0->llama-index-utils-workflow) (4.67.1)\n",
            "Requirement already satisfied: typing-extensions>=4.5.0 in /usr/local/lib/python3.11/dist-packages (from llama-index-core<0.13.0,>=0.12.0->llama-index-utils-workflow) (4.13.2)\n",
            "Requirement already satisfied: typing-inspect>=0.8.0 in /usr/local/lib/python3.11/dist-packages (from llama-index-core<0.13.0,>=0.12.0->llama-index-utils-workflow) (0.9.0)\n",
            "Requirement already satisfied: wrapt in /usr/local/lib/python3.11/dist-packages (from llama-index-core<0.13.0,>=0.12.0->llama-index-utils-workflow) (1.17.2)\n",
            "Requirement already satisfied: ipython>=5.3.0 in /usr/local/lib/python3.11/dist-packages (from pyvis<0.4.0,>=0.3.2->llama-index-utils-workflow) (7.34.0)\n",
            "Requirement already satisfied: jinja2>=2.9.6 in /usr/local/lib/python3.11/dist-packages (from pyvis<0.4.0,>=0.3.2->llama-index-utils-workflow) (3.1.6)\n",
            "Requirement already satisfied: jsonpickle>=1.4.1 in /usr/local/lib/python3.11/dist-packages (from pyvis<0.4.0,>=0.3.2->llama-index-utils-workflow) (4.0.5)\n",
            "Requirement already satisfied: aiohappyeyeballs>=2.3.0 in /usr/local/lib/python3.11/dist-packages (from aiohttp<4,>=3.8.6->llama-index-core<0.13.0,>=0.12.0->llama-index-utils-workflow) (2.6.1)\n",
            "Requirement already satisfied: aiosignal>=1.1.2 in /usr/local/lib/python3.11/dist-packages (from aiohttp<4,>=3.8.6->llama-index-core<0.13.0,>=0.12.0->llama-index-utils-workflow) (1.3.2)\n",
            "Requirement already satisfied: attrs>=17.3.0 in /usr/local/lib/python3.11/dist-packages (from aiohttp<4,>=3.8.6->llama-index-core<0.13.0,>=0.12.0->llama-index-utils-workflow) (25.3.0)\n",
            "Requirement already satisfied: frozenlist>=1.1.1 in /usr/local/lib/python3.11/dist-packages (from aiohttp<4,>=3.8.6->llama-index-core<0.13.0,>=0.12.0->llama-index-utils-workflow) (1.6.0)\n",
            "Requirement already satisfied: multidict<7.0,>=4.5 in /usr/local/lib/python3.11/dist-packages (from aiohttp<4,>=3.8.6->llama-index-core<0.13.0,>=0.12.0->llama-index-utils-workflow) (6.4.3)\n",
            "Requirement already satisfied: propcache>=0.2.0 in /usr/local/lib/python3.11/dist-packages (from aiohttp<4,>=3.8.6->llama-index-core<0.13.0,>=0.12.0->llama-index-utils-workflow) (0.3.1)\n",
            "Requirement already satisfied: yarl<2.0,>=1.17.0 in /usr/local/lib/python3.11/dist-packages (from aiohttp<4,>=3.8.6->llama-index-core<0.13.0,>=0.12.0->llama-index-utils-workflow) (1.20.0)\n",
            "Requirement already satisfied: griffe in /usr/local/lib/python3.11/dist-packages (from banks<3,>=2.0.0->llama-index-core<0.13.0,>=0.12.0->llama-index-utils-workflow) (1.7.3)\n",
            "Requirement already satisfied: platformdirs in /usr/local/lib/python3.11/dist-packages (from banks<3,>=2.0.0->llama-index-core<0.13.0,>=0.12.0->llama-index-utils-workflow) (4.3.7)\n",
            "Requirement already satisfied: setuptools>=18.5 in /usr/local/lib/python3.11/dist-packages (from ipython>=5.3.0->pyvis<0.4.0,>=0.3.2->llama-index-utils-workflow) (75.2.0)\n",
            "Collecting jedi>=0.16 (from ipython>=5.3.0->pyvis<0.4.0,>=0.3.2->llama-index-utils-workflow)\n",
            "  Downloading jedi-0.19.2-py2.py3-none-any.whl.metadata (22 kB)\n",
            "Requirement already satisfied: decorator in /usr/local/lib/python3.11/dist-packages (from ipython>=5.3.0->pyvis<0.4.0,>=0.3.2->llama-index-utils-workflow) (4.4.2)\n",
            "Requirement already satisfied: pickleshare in /usr/local/lib/python3.11/dist-packages (from ipython>=5.3.0->pyvis<0.4.0,>=0.3.2->llama-index-utils-workflow) (0.7.5)\n",
            "Requirement already satisfied: traitlets>=4.2 in /usr/local/lib/python3.11/dist-packages (from ipython>=5.3.0->pyvis<0.4.0,>=0.3.2->llama-index-utils-workflow) (5.7.1)\n",
            "Requirement already satisfied: prompt-toolkit!=3.0.0,!=3.0.1,<3.1.0,>=2.0.0 in /usr/local/lib/python3.11/dist-packages (from ipython>=5.3.0->pyvis<0.4.0,>=0.3.2->llama-index-utils-workflow) (3.0.51)\n",
            "Requirement already satisfied: pygments in /usr/local/lib/python3.11/dist-packages (from ipython>=5.3.0->pyvis<0.4.0,>=0.3.2->llama-index-utils-workflow) (2.19.1)\n",
            "Requirement already satisfied: backcall in /usr/local/lib/python3.11/dist-packages (from ipython>=5.3.0->pyvis<0.4.0,>=0.3.2->llama-index-utils-workflow) (0.2.0)\n",
            "Requirement already satisfied: matplotlib-inline in /usr/local/lib/python3.11/dist-packages (from ipython>=5.3.0->pyvis<0.4.0,>=0.3.2->llama-index-utils-workflow) (0.1.7)\n",
            "Requirement already satisfied: pexpect>4.3 in /usr/local/lib/python3.11/dist-packages (from ipython>=5.3.0->pyvis<0.4.0,>=0.3.2->llama-index-utils-workflow) (4.9.0)\n",
            "Requirement already satisfied: MarkupSafe>=2.0 in /usr/local/lib/python3.11/dist-packages (from jinja2>=2.9.6->pyvis<0.4.0,>=0.3.2->llama-index-utils-workflow) (3.0.2)\n",
            "Requirement already satisfied: click in /usr/local/lib/python3.11/dist-packages (from nltk>3.8.1->llama-index-core<0.13.0,>=0.12.0->llama-index-utils-workflow) (8.1.8)\n",
            "Requirement already satisfied: joblib in /usr/local/lib/python3.11/dist-packages (from nltk>3.8.1->llama-index-core<0.13.0,>=0.12.0->llama-index-utils-workflow) (1.4.2)\n",
            "Requirement already satisfied: regex>=2021.8.3 in /usr/local/lib/python3.11/dist-packages (from nltk>3.8.1->llama-index-core<0.13.0,>=0.12.0->llama-index-utils-workflow) (2024.11.6)\n",
            "Requirement already satisfied: annotated-types>=0.6.0 in /usr/local/lib/python3.11/dist-packages (from pydantic>=2.8.0->llama-index-core<0.13.0,>=0.12.0->llama-index-utils-workflow) (0.7.0)\n",
            "Requirement already satisfied: pydantic-core==2.33.1 in /usr/local/lib/python3.11/dist-packages (from pydantic>=2.8.0->llama-index-core<0.13.0,>=0.12.0->llama-index-utils-workflow) (2.33.1)\n",
            "Requirement already satisfied: typing-inspection>=0.4.0 in /usr/local/lib/python3.11/dist-packages (from pydantic>=2.8.0->llama-index-core<0.13.0,>=0.12.0->llama-index-utils-workflow) (0.4.0)\n",
            "Requirement already satisfied: charset-normalizer<4,>=2 in /usr/local/lib/python3.11/dist-packages (from requests>=2.31.0->llama-index-core<0.13.0,>=0.12.0->llama-index-utils-workflow) (3.4.1)\n",
            "Requirement already satisfied: idna<4,>=2.5 in /usr/local/lib/python3.11/dist-packages (from requests>=2.31.0->llama-index-core<0.13.0,>=0.12.0->llama-index-utils-workflow) (3.10)\n",
            "Requirement already satisfied: urllib3<3,>=1.21.1 in /usr/local/lib/python3.11/dist-packages (from requests>=2.31.0->llama-index-core<0.13.0,>=0.12.0->llama-index-utils-workflow) (2.4.0)\n",
            "Requirement already satisfied: certifi>=2017.4.17 in /usr/local/lib/python3.11/dist-packages (from requests>=2.31.0->llama-index-core<0.13.0,>=0.12.0->llama-index-utils-workflow) (2025.4.26)\n",
            "Requirement already satisfied: greenlet>=1 in /usr/local/lib/python3.11/dist-packages (from sqlalchemy>=1.4.49->sqlalchemy[asyncio]>=1.4.49->llama-index-core<0.13.0,>=0.12.0->llama-index-utils-workflow) (3.2.1)\n",
            "Requirement already satisfied: mypy-extensions>=0.3.0 in /usr/local/lib/python3.11/dist-packages (from typing-inspect>=0.8.0->llama-index-core<0.13.0,>=0.12.0->llama-index-utils-workflow) (1.1.0)\n",
            "Requirement already satisfied: marshmallow<4.0.0,>=3.18.0 in /usr/local/lib/python3.11/dist-packages (from dataclasses-json->llama-index-core<0.13.0,>=0.12.0->llama-index-utils-workflow) (3.26.1)\n",
            "Requirement already satisfied: anyio in /usr/local/lib/python3.11/dist-packages (from httpx->llama-index-core<0.13.0,>=0.12.0->llama-index-utils-workflow) (4.9.0)\n",
            "Requirement already satisfied: httpcore==1.* in /usr/local/lib/python3.11/dist-packages (from httpx->llama-index-core<0.13.0,>=0.12.0->llama-index-utils-workflow) (1.0.9)\n",
            "Requirement already satisfied: h11>=0.16 in /usr/local/lib/python3.11/dist-packages (from httpcore==1.*->httpx->llama-index-core<0.13.0,>=0.12.0->llama-index-utils-workflow) (0.16.0)\n",
            "Requirement already satisfied: parso<0.9.0,>=0.8.4 in /usr/local/lib/python3.11/dist-packages (from jedi>=0.16->ipython>=5.3.0->pyvis<0.4.0,>=0.3.2->llama-index-utils-workflow) (0.8.4)\n",
            "Requirement already satisfied: packaging>=17.0 in /usr/local/lib/python3.11/dist-packages (from marshmallow<4.0.0,>=3.18.0->dataclasses-json->llama-index-core<0.13.0,>=0.12.0->llama-index-utils-workflow) (24.2)\n",
            "Requirement already satisfied: ptyprocess>=0.5 in /usr/local/lib/python3.11/dist-packages (from pexpect>4.3->ipython>=5.3.0->pyvis<0.4.0,>=0.3.2->llama-index-utils-workflow) (0.7.0)\n",
            "Requirement already satisfied: wcwidth in /usr/local/lib/python3.11/dist-packages (from prompt-toolkit!=3.0.0,!=3.0.1,<3.1.0,>=2.0.0->ipython>=5.3.0->pyvis<0.4.0,>=0.3.2->llama-index-utils-workflow) (0.2.13)\n",
            "Requirement already satisfied: sniffio>=1.1 in /usr/local/lib/python3.11/dist-packages (from anyio->httpx->llama-index-core<0.13.0,>=0.12.0->llama-index-utils-workflow) (1.3.1)\n",
            "Requirement already satisfied: colorama>=0.4 in /usr/local/lib/python3.11/dist-packages (from griffe->banks<3,>=2.0.0->llama-index-core<0.13.0,>=0.12.0->llama-index-utils-workflow) (0.4.6)\n",
            "Downloading llama_index_utils_workflow-0.3.1-py3-none-any.whl (3.7 kB)\n",
            "Downloading pyvis-0.3.2-py3-none-any.whl (756 kB)\n",
            "\u001b[2K   \u001b[90m━━━━━━━━━━━━━━━━━━━━━━━━━━━━━━━━━━━━━━━━\u001b[0m \u001b[32m756.0/756.0 kB\u001b[0m \u001b[31m10.3 MB/s\u001b[0m eta \u001b[36m0:00:00\u001b[0m\n",
            "\u001b[?25hDownloading jedi-0.19.2-py2.py3-none-any.whl (1.6 MB)\n",
            "\u001b[2K   \u001b[90m━━━━━━━━━━━━━━━━━━━━━━━━━━━━━━━━━━━━━━━━\u001b[0m \u001b[32m1.6/1.6 MB\u001b[0m \u001b[31m49.6 MB/s\u001b[0m eta \u001b[36m0:00:00\u001b[0m\n",
            "\u001b[?25hInstalling collected packages: jedi, pyvis, llama-index-utils-workflow\n",
            "Successfully installed jedi-0.19.2 llama-index-utils-workflow-0.3.1 pyvis-0.3.2\n"
          ]
        }
      ]
    },
    {
      "cell_type": "markdown",
      "source": [
        "Let's visualize the simple workflow we just created:"
      ],
      "metadata": {
        "id": "vyMSD0G6ptOY"
      }
    },
    {
      "cell_type": "code",
      "source": [
        "from llama_index.utils.workflow import draw_all_possible_flows\n",
        "\n",
        "draw_all_possible_flows(MyWorkflow, filename=\"basic_workflow.html\")"
      ],
      "metadata": {
        "colab": {
          "base_uri": "https://localhost:8080/"
        },
        "collapsed": true,
        "id": "W4wGN8gwpwwu",
        "outputId": "82d53f0b-35de-4a16-8ffa-95eda2fdcbde"
      },
      "execution_count": null,
      "outputs": [
        {
          "output_type": "stream",
          "name": "stdout",
          "text": [
            "basic_workflow.html\n"
          ]
        }
      ]
    },
    {
      "cell_type": "markdown",
      "source": [
        "This creates a file called `basic_workflow.html` in the notebook's file system. You can open up the file pane and download the file, then open it in your browser. You'll see something like this:"
      ],
      "metadata": {
        "id": "UMOGId0Vqrk7"
      }
    },
    {
      "cell_type": "markdown",
      "source": [
        "<img width=\"500\" src=\"https://seldo.com/uploads/2025/basic_flow.png\">"
      ],
      "metadata": {
        "id": "sz2rpD0Rq2H9"
      }
    },
    {
      "cell_type": "markdown",
      "source": [
        "Of course, a flow with a single step is not very useful! Let's define a multi-step workflow."
      ],
      "metadata": {
        "id": "u8eNxpb6rFcX"
      }
    },
    {
      "cell_type": "markdown",
      "source": [
        "## Custom Events\n",
        "\n",
        "Multiple steps are created by defining custom events that can be emitted by steps and trigger other steps. Let's define a simple 3-step workflow by defining two custom events, `FirstEvent` and `SecondEvent`. These classes can have any names and properties, but must inherit from `Event`:\n"
      ],
      "metadata": {
        "id": "-oc0OGSPrPBG"
      }
    },
    {
      "cell_type": "code",
      "source": [
        "from llama_index.core.workflow import Event\n",
        "\n",
        "class FirstEvent(Event):\n",
        "    first_output: str\n",
        "\n",
        "class SecondEvent(Event):\n",
        "    second_output: str"
      ],
      "metadata": {
        "id": "-1htaG19rUMs"
      },
      "execution_count": null,
      "outputs": []
    },
    {
      "cell_type": "markdown",
      "source": [
        "## Defining the workflow\n",
        "\n",
        "Now we define the workflow itself. We do this by defining the input and output types on each step.\n",
        "\n",
        "* `step_one` takes a `StartEvent` and returns a `FirstEvent`\n",
        "* `step_two` takes a `FirstEvent` and returns a `SecondEvent`\n",
        "* `step_three` takes a `SecondEvent` and returns a `StopEvent`"
      ],
      "metadata": {
        "id": "N5e9cM7JrmgE"
      }
    },
    {
      "cell_type": "code",
      "source": [
        "class MyWorkflow(Workflow):\n",
        "    @step\n",
        "    async def step_one(self, ev: StartEvent) -> FirstEvent:\n",
        "        print(ev.first_input)\n",
        "        return FirstEvent(first_output=\"First step complete.\")\n",
        "\n",
        "    @step\n",
        "    async def step_two(self, ev: FirstEvent) -> SecondEvent:\n",
        "        print(ev.first_output)\n",
        "        return SecondEvent(second_output=\"Second step complete.\")\n",
        "\n",
        "    @step\n",
        "    async def step_three(self, ev: SecondEvent) -> StopEvent:\n",
        "        print(ev.second_output)\n",
        "        return StopEvent(result=\"Workflow complete.\")\n",
        "\n",
        "\n",
        "w = MyWorkflow(timeout=10, verbose=False)\n",
        "result = await w.run(first_input=\"Start the workflow.\")\n",
        "print(result)"
      ],
      "metadata": {
        "colab": {
          "base_uri": "https://localhost:8080/"
        },
        "id": "qFXi7VfArpQQ",
        "outputId": "f0286014-e399-4c5e-af3d-1f5cd25ca6c7"
      },
      "execution_count": null,
      "outputs": [
        {
          "output_type": "stream",
          "name": "stdout",
          "text": [
            "Start the workflow.\n",
            "First step complete.\n",
            "Second step complete.\n",
            "Workflow complete.\n"
          ]
        }
      ]
    },
    {
      "cell_type": "markdown",
      "source": [
        "If we run this through the visualizer, we'll get something like this:\n",
        "\n",
        "<img width=\"500\" src=\"https://seldo.com/uploads/2025/multi_step.png\">"
      ],
      "metadata": {
        "id": "Olt56qZ6shXN"
      }
    },
    {
      "cell_type": "markdown",
      "source": [
        "## Looping\n",
        "\n",
        "However, there's not much point to a workflow if it just runs straight through! A key feature of Workflows is their enablement of branching and looping logic, more simply and flexibly than graph-based approaches. To enable looping, we'll create a new `LoopEvent` (LoopEvent is not special, any event can be used to loop)."
      ],
      "metadata": {
        "id": "JdGptrFTsyBt"
      }
    },
    {
      "cell_type": "code",
      "source": [
        "class LoopEvent(Event):\n",
        "    first_input: str"
      ],
      "metadata": {
        "id": "qBQsGdmls_S3"
      },
      "execution_count": null,
      "outputs": []
    },
    {
      "cell_type": "markdown",
      "source": [
        "Now we'll edit our `step_two` to make a random decision about whether to execute serially or loop back:"
      ],
      "metadata": {
        "id": "AMuN-XnFtEMY"
      }
    },
    {
      "cell_type": "code",
      "source": [
        "import random\n",
        "\n",
        "class MyWorkflow(Workflow):\n",
        "\n",
        "    # step_one will trigger on a StartEvent or a LoopEvent\n",
        "    @step\n",
        "    async def step_one(self, ev: StartEvent | LoopEvent) -> FirstEvent:\n",
        "        print(ev.first_input)\n",
        "        return FirstEvent(first_output=\"First step complete\")\n",
        "\n",
        "    # step two returns either a SecondEvent or a LoopEvent\n",
        "    @step\n",
        "    async def step_two(self, ev: FirstEvent) -> SecondEvent | LoopEvent:\n",
        "        print(ev.first_output)\n",
        "        if random.randint(0, 1) == 0:\n",
        "            print(\"Bad thing happened\")\n",
        "            return LoopEvent(first_input=\"Back to step one.\")\n",
        "        else:\n",
        "            print(\"Good thing happened\")\n",
        "            return SecondEvent(second_output=\"Second step complete.\")\n",
        "\n",
        "    @step\n",
        "    async def step_three(self, ev: SecondEvent) -> StopEvent:\n",
        "        print(ev.second_output)\n",
        "        return StopEvent(result=\"Workflow complete.\")\n",
        "\n",
        "\n",
        "w = MyWorkflow(timeout=10, verbose=False)\n",
        "result = await w.run(first_input=\"Start the workflow.\")\n",
        "print(result)"
      ],
      "metadata": {
        "colab": {
          "base_uri": "https://localhost:8080/"
        },
        "id": "azvvRewntJ40",
        "outputId": "894497e2-13ce-43cc-d5a6-b77240997d68"
      },
      "execution_count": null,
      "outputs": [
        {
          "output_type": "stream",
          "name": "stdout",
          "text": [
            "Start the workflow.\n",
            "First step complete\n",
            "Bad thing happened\n",
            "Back to step one.\n",
            "First step complete\n",
            "Good thing happened\n",
            "Second step complete.\n",
            "Workflow complete.\n"
          ]
        }
      ]
    },
    {
      "cell_type": "markdown",
      "source": [
        "Note the new type annotations on `step_one`: we now accept either a `StartEvent` or a `LoopEvent` to trigger the step. In step two, we emit either a `SecondEvent` or a `LoopEvent`.\n",
        "\n",
        "In this run, the \"bad\" outcome happened once, repeating step one, then the \"good\" outcome happened, allowing the workflow to complete.\n",
        "\n",
        "Our new, looping workflow visualizes like this:"
      ],
      "metadata": {
        "id": "erF6mq780tKI"
      }
    },
    {
      "cell_type": "markdown",
      "source": [
        "<img width=\"600\" src=\"https://seldo.com/uploads/2025/Screenshot%202025-05-04%20at%203.41.03%E2%80%AFPM.png\">"
      ],
      "metadata": {
        "id": "2KPKGiqC0NVP"
      }
    },
    {
      "cell_type": "markdown",
      "source": [
        "## Branching\n",
        "\n",
        "The same constructs that allow us to loop allow us to create branches. Here's a workflow that executes two different branches depending on an early decision:"
      ],
      "metadata": {
        "id": "hWqX10_zTewZ"
      }
    },
    {
      "cell_type": "code",
      "source": [
        "class BranchA1Event(Event):\n",
        "    payload: str\n",
        "\n",
        "\n",
        "class BranchA2Event(Event):\n",
        "    payload: str\n",
        "\n",
        "\n",
        "class BranchB1Event(Event):\n",
        "    payload: str\n",
        "\n",
        "\n",
        "class BranchB2Event(Event):\n",
        "    payload: str\n",
        "\n",
        "\n",
        "class BranchWorkflow(Workflow):\n",
        "    @step\n",
        "    async def start(self, ev: StartEvent) -> BranchA1Event | BranchB1Event:\n",
        "        if random.randint(0, 1) == 0:\n",
        "            print(\"Go to branch A\")\n",
        "            return BranchA1Event(payload=\"Branch A\")\n",
        "        else:\n",
        "            print(\"Go to branch B\")\n",
        "            return BranchB1Event(payload=\"Branch B\")\n",
        "\n",
        "    @step\n",
        "    async def step_a1(self, ev: BranchA1Event) -> BranchA2Event:\n",
        "        print(ev.payload)\n",
        "        return BranchA2Event(payload=ev.payload)\n",
        "\n",
        "    @step\n",
        "    async def step_b1(self, ev: BranchB1Event) -> BranchB2Event:\n",
        "        print(ev.payload)\n",
        "        return BranchB2Event(payload=ev.payload)\n",
        "\n",
        "    @step\n",
        "    async def step_a2(self, ev: BranchA2Event) -> StopEvent:\n",
        "        print(ev.payload)\n",
        "        return StopEvent(result=\"Branch A complete.\")\n",
        "\n",
        "    @step\n",
        "    async def step_b2(self, ev: BranchB2Event) -> StopEvent:\n",
        "        print(ev.payload)\n",
        "        return StopEvent(result=\"Branch B complete.\")"
      ],
      "metadata": {
        "id": "DF5-IyrlTrV1"
      },
      "execution_count": null,
      "outputs": []
    },
    {
      "cell_type": "markdown",
      "source": [
        "It visualizes like this:"
      ],
      "metadata": {
        "id": "xePaVRapTtk1"
      }
    },
    {
      "cell_type": "markdown",
      "source": [
        "<img width=\"700\" src=\"https://seldo.com/uploads/2025/branching.png\">"
      ],
      "metadata": {
        "id": "MJSTw10lTxHd"
      }
    },
    {
      "cell_type": "markdown",
      "source": [
        "## Concurrent execution\n",
        "\n",
        "The final form of flow control you can implement in workflows is concurrent execution. This allows you to efficiently run long-running tasks in parallel, and gather them together when they are needed. This can also let you perform map-reduce style tasks."
      ],
      "metadata": {
        "id": "SQjp_nLJVXUK"
      }
    },
    {
      "cell_type": "markdown",
      "source": [
        "To do this, we'll be using the `Context` object that we already encountered when working with `AgentWorkflow`. The `Context` is available to every step in a workflow: to access it, declare it as an argument to your step and it will be automatically populated.\n",
        "\n",
        "In this example, we use a new method, `Context.send_event` rather than returning an event. This allows us to emit multiple events in parallel rather than returning just one as we have previously."
      ],
      "metadata": {
        "id": "DRNmuEiHXwB6"
      }
    },
    {
      "cell_type": "code",
      "source": [
        "import asyncio\n",
        "\n",
        "class StepTwoEvent(Event):\n",
        "    query: str\n",
        "\n",
        "class ParallelFlow(Workflow):\n",
        "    @step\n",
        "    async def start(self, ctx: Context, ev: StartEvent) -> StepTwoEvent:\n",
        "        ctx.send_event(StepTwoEvent(query=\"Query 1\"))\n",
        "        ctx.send_event(StepTwoEvent(query=\"Query 2\"))\n",
        "        ctx.send_event(StepTwoEvent(query=\"Query 3\"))\n",
        "\n",
        "    @step(num_workers=4)\n",
        "    async def step_two(self, ctx: Context, ev: StepTwoEvent) -> StopEvent:\n",
        "        print(\"Running slow query \", ev.query)\n",
        "        await asyncio.sleep(random.randint(1, 5))\n",
        "\n",
        "        return StopEvent(result=ev.query)"
      ],
      "metadata": {
        "id": "shy7HdqWVwb6"
      },
      "execution_count": null,
      "outputs": []
    },
    {
      "cell_type": "code",
      "source": [
        "w = ParallelFlow(timeout=10, verbose=False)\n",
        "result = await w.run(message=\"Start the workflow.\")\n",
        "print(result)"
      ],
      "metadata": {
        "colab": {
          "base_uri": "https://localhost:8080/"
        },
        "id": "vI2GTegXXRCm",
        "outputId": "9c0e95aa-77f9-4668-ed15-245e4ffd71f4"
      },
      "execution_count": null,
      "outputs": [
        {
          "output_type": "stream",
          "name": "stdout",
          "text": [
            "Running slow query  Query 1\n",
            "Running slow query  Query 2\n",
            "Running slow query  Query 3\n",
            "Query 1\n"
          ]
        }
      ]
    },
    {
      "cell_type": "markdown",
      "source": [
        "As you can see, it executes all 3 queries. The first one to complete emits a StopEvent, at which point the workflow halts without waiting for the other 2 events.\n",
        "\n",
        "## Collecting events\n",
        "\n",
        "But what if we do want the output of all 3 events? Another method, `Context.collect_events`, exists for that purpose:"
      ],
      "metadata": {
        "id": "pZIvbbNGX6Gr"
      }
    },
    {
      "cell_type": "code",
      "source": [
        "class StepThreeEvent(Event):\n",
        "    result: str\n",
        "\n",
        "class ConcurrentFlow(Workflow):\n",
        "    @step\n",
        "    async def start(self, ctx: Context, ev: StartEvent) -> StepTwoEvent:\n",
        "        ctx.send_event(StepTwoEvent(query=\"Query 1\"))\n",
        "        ctx.send_event(StepTwoEvent(query=\"Query 2\"))\n",
        "        ctx.send_event(StepTwoEvent(query=\"Query 3\"))\n",
        "\n",
        "    @step(num_workers=4)\n",
        "    async def step_two(self, ctx: Context, ev: StepTwoEvent) -> StepThreeEvent:\n",
        "        print(\"Running query \", ev.query)\n",
        "        await asyncio.sleep(random.randint(1, 5))\n",
        "        return StepThreeEvent(result=ev.query)\n",
        "\n",
        "    @step\n",
        "    async def step_three(self, ctx: Context, ev: StepThreeEvent) -> StopEvent:\n",
        "        # wait until we receive 3 events\n",
        "        result = ctx.collect_events(ev, [StepThreeEvent] * 3)\n",
        "        if result is None:\n",
        "            print(\"Not all events received yet.\")\n",
        "            return None\n",
        "\n",
        "        # do something with all 3 results together\n",
        "        print(result)\n",
        "        return StopEvent(result=\"Done\")"
      ],
      "metadata": {
        "id": "31jPpE3ZYcMr"
      },
      "execution_count": null,
      "outputs": []
    },
    {
      "cell_type": "code",
      "source": [
        "w = ConcurrentFlow(timeout=10, verbose=False)\n",
        "result = await w.run(message=\"Start the workflow.\")\n",
        "print(result)"
      ],
      "metadata": {
        "colab": {
          "base_uri": "https://localhost:8080/"
        },
        "id": "NS_TmHrsYkT6",
        "outputId": "106904b5-22d5-4258-9d40-68a42f3ecfe8"
      },
      "execution_count": null,
      "outputs": [
        {
          "output_type": "stream",
          "name": "stdout",
          "text": [
            "Running query  Query 1\n",
            "Running query  Query 2\n",
            "Running query  Query 3\n",
            "Not all events received yet.\n",
            "Not all events received yet.\n",
            "[StepThreeEvent(result='Query 2'), StepThreeEvent(result='Query 1'), StepThreeEvent(result='Query 3')]\n",
            "Done\n"
          ]
        }
      ]
    },
    {
      "cell_type": "markdown",
      "source": [
        "In the above example, we emit three `StepTwoEvent`s which trigger `step_two`, each execution of which eventually emits a `StepThreeEvent`.\n",
        "\n",
        "`step_three` gets triggered whenever a `StepThreeEvent` fires. What `collect_events` does is store the events in the context until it has collected the number and type of events specified in its second argument. In this case, we've told it to wait for 3 events.\n",
        "\n",
        "If an event fires and `collect_events` hasn't yet seen the right number of events, it returns `None`, so we tell `step_three` to do nothing in that case. When `collect_events` receives the right number of events it returns them as an array, which you can see us printing in the final output. Note that in the array they are stored in the order they returned, not the order they were emitted.\n",
        "\n",
        "To implement a map-reduce pattern, you would split your task up into as many steps as necessary, and use `Context` to store that number with `ctx.set(\"num_events\", some_number)`. Then in `step_three` you would wait for the number stored in the context using `await ctx.get(\"num_events\")`. So you don't need to know in advance exactly how many concurrent steps you're taking."
      ],
      "metadata": {
        "id": "-twFHecxYrYD"
      }
    },
    {
      "cell_type": "markdown",
      "source": [
        "## Collecting different event types\n",
        "\n",
        "We don't just have to wait for multiple events of the same kind. In this example, we'll emit 3 totally different events and collect them at the end."
      ],
      "metadata": {
        "id": "8_pBezDRbLo_"
      }
    },
    {
      "cell_type": "code",
      "source": [
        "class StepAEvent(Event):\n",
        "    query: str\n",
        "\n",
        "class StepACompleteEvent(Event):\n",
        "    result: str\n",
        "\n",
        "class StepBEvent(Event):\n",
        "    query: str\n",
        "\n",
        "class StepBCompleteEvent(Event):\n",
        "    result: str\n",
        "\n",
        "class StepCEvent(Event):\n",
        "    query: str\n",
        "\n",
        "class StepCCompleteEvent(Event):\n",
        "    result: str\n",
        "\n",
        "class ConcurrentFlow(Workflow):\n",
        "    @step\n",
        "    async def start(\n",
        "        self, ctx: Context, ev: StartEvent\n",
        "    ) -> StepAEvent | StepBEvent | StepCEvent:\n",
        "        ctx.send_event(StepAEvent(query=\"Query 1\"))\n",
        "        ctx.send_event(StepBEvent(query=\"Query 2\"))\n",
        "        ctx.send_event(StepCEvent(query=\"Query 3\"))\n",
        "\n",
        "    @step\n",
        "    async def step_a(self, ctx: Context, ev: StepAEvent) -> StepACompleteEvent:\n",
        "        print(\"Doing something A-ish\")\n",
        "        return StepACompleteEvent(result=ev.query)\n",
        "\n",
        "    @step\n",
        "    async def step_b(self, ctx: Context, ev: StepBEvent) -> StepBCompleteEvent:\n",
        "        print(\"Doing something B-ish\")\n",
        "        return StepBCompleteEvent(result=ev.query)\n",
        "\n",
        "    @step\n",
        "    async def step_c(self, ctx: Context, ev: StepCEvent) -> StepCCompleteEvent:\n",
        "        print(\"Doing something C-ish\")\n",
        "        return StepCCompleteEvent(result=ev.query)\n",
        "\n",
        "    @step\n",
        "    async def step_three(\n",
        "        self,\n",
        "        ctx: Context,\n",
        "        ev: StepACompleteEvent | StepBCompleteEvent | StepCCompleteEvent,\n",
        "    ) -> StopEvent:\n",
        "        print(\"Received event \", ev.result)\n",
        "\n",
        "        # wait until we receive 3 events\n",
        "        events = ctx.collect_events(\n",
        "            ev,\n",
        "            [StepCCompleteEvent, StepACompleteEvent, StepBCompleteEvent],\n",
        "        )\n",
        "        if (events is None):\n",
        "            return None\n",
        "\n",
        "        # do something with all 3 results together\n",
        "        print(\"All events received: \", events)\n",
        "        return StopEvent(result=\"Done\")"
      ],
      "metadata": {
        "id": "49PgTaPdbWWq"
      },
      "execution_count": null,
      "outputs": []
    },
    {
      "cell_type": "markdown",
      "source": [
        "When we run, it will do all three things and wait for them in `step_three`."
      ],
      "metadata": {
        "id": "U5PRkhhcb2eA"
      }
    },
    {
      "cell_type": "code",
      "source": [
        "w = ConcurrentFlow(timeout=10, verbose=False)\n",
        "result = await w.run(message=\"Start the workflow.\")\n",
        "print(result)"
      ],
      "metadata": {
        "colab": {
          "base_uri": "https://localhost:8080/"
        },
        "id": "szxEmaaZbpE3",
        "outputId": "30064c05-72da-4500-d2b7-912f8932c018"
      },
      "execution_count": null,
      "outputs": [
        {
          "output_type": "stream",
          "name": "stdout",
          "text": [
            "Doing something A-ish\n",
            "Doing something B-ish\n",
            "Doing something C-ish\n",
            "Received event  Query 1\n",
            "Received event  Query 2\n",
            "Received event  Query 3\n",
            "All events received:  [StepCCompleteEvent(result='Query 3'), StepACompleteEvent(result='Query 1'), StepBCompleteEvent(result='Query 2')]\n",
            "Done\n"
          ]
        }
      ]
    },
    {
      "cell_type": "markdown",
      "source": [
        "Note that the order of the events is significant: `collect_events` was told to expect Step C, then A, then B, and that's the order they are in the return array."
      ],
      "metadata": {
        "id": "MBCY2z5Tb0WA"
      }
    },
    {
      "cell_type": "markdown",
      "source": [
        "These changes have a pretty pleasing visualization:"
      ],
      "metadata": {
        "id": "BIfqQPhlb8uL"
      }
    },
    {
      "cell_type": "markdown",
      "source": [
        "<img width=\"700\" src=\"https://seldo.com/uploads/2025/different_events.png\">"
      ],
      "metadata": {
        "id": "C3ZOoB79cD6B"
      }
    },
    {
      "cell_type": "markdown",
      "source": [
        "## Streaming\n",
        "\n",
        "We already saw `AgentWorkflow` emit a stream of events that we could handle and filter when we run the event. Let's see how those get emitted in this example, using `Context.write_event_to_stream`:"
      ],
      "metadata": {
        "id": "fVEy_h3_dn0E"
      }
    },
    {
      "cell_type": "code",
      "source": [
        "class FirstEvent(Event):\n",
        "    first_output: str\n",
        "\n",
        "class SecondEvent(Event):\n",
        "    second_output: str\n",
        "    response: str\n",
        "\n",
        "class TextEvent(Event):\n",
        "    delta: str\n",
        "\n",
        "class ProgressEvent(Event):\n",
        "    msg: str\n",
        "\n",
        "class MyWorkflow(Workflow):\n",
        "    @step\n",
        "    async def step_one(self, ctx: Context, ev: StartEvent) -> FirstEvent:\n",
        "        ctx.write_event_to_stream(ProgressEvent(msg=\"Step one is happening\"))\n",
        "        return FirstEvent(first_output=\"First step complete.\")\n",
        "\n",
        "    @step\n",
        "    async def step_two(self, ctx: Context, ev: FirstEvent) -> SecondEvent:\n",
        "        llm = OpenAI(model=\"gpt-4.1-mini\", api_key=api_key) # the OpenAI key we set up at the beginning\n",
        "        generator = await llm.astream_complete(\n",
        "            \"Please give me the first 50 words of Moby Dick, a book in the public domain.\"\n",
        "        )\n",
        "        async for response in generator:\n",
        "            # Allow the workflow to stream this piece of response\n",
        "            ctx.write_event_to_stream(TextEvent(delta=response.delta))\n",
        "        return SecondEvent(\n",
        "            second_output=\"Second step complete, full response attached\",\n",
        "            response=str(response),\n",
        "        )\n",
        "\n",
        "    @step\n",
        "    async def step_three(self, ctx: Context, ev: SecondEvent) -> StopEvent:\n",
        "        ctx.write_event_to_stream(ProgressEvent(msg=\"Step three is happening\"))\n",
        "        return StopEvent(result=\"Workflow complete.\")"
      ],
      "metadata": {
        "id": "vb4H-W2pdy8E"
      },
      "execution_count": null,
      "outputs": []
    },
    {
      "cell_type": "markdown",
      "source": [
        "We handle this output exactly the same way we did for `AgentWorkflow`:"
      ],
      "metadata": {
        "id": "hivrZ9s5fWn-"
      }
    },
    {
      "cell_type": "code",
      "source": [
        "workflow = MyWorkflow(timeout=30, verbose=False)\n",
        "handler = workflow.run(first_input=\"Start the workflow.\")\n",
        "\n",
        "async for ev in handler.stream_events():\n",
        "    if isinstance(ev, ProgressEvent):\n",
        "        print(\"\\n\"+ev.msg)\n",
        "    if isinstance(ev, TextEvent):\n",
        "        print(ev.delta, end=\"\")\n",
        "\n",
        "final_result = await handler\n",
        "print(\"Final result = \", final_result)"
      ],
      "metadata": {
        "colab": {
          "base_uri": "https://localhost:8080/"
        },
        "id": "VowYKxzreD1p",
        "outputId": "466c61b6-ab1c-4148-9581-f70800221716"
      },
      "execution_count": null,
      "outputs": [
        {
          "output_type": "stream",
          "name": "stdout",
          "text": [
            "\n",
            "Step one is happening\n",
            "Certainly! Here are the first 50 words of *Moby-Dick* by Herman Melville:\n",
            "\n",
            "\"Call me Ishmael. Some years ago—never mind how long precisely—having little or no money in my purse, and nothing particular to interest me on shore, I thought I would sail about a little and see the watery part of the world. It is a way I have of driving off the spleen...\"\n",
            "Step three is happening\n",
            "Final result =  Workflow complete.\n"
          ]
        }
      ]
    },
    {
      "cell_type": "markdown",
      "source": [
        "## Congratulations yet again!\n",
        "\n",
        "You've now put together a Workflow from scratch, and learned the primitives necessary to build any workflow."
      ],
      "metadata": {
        "id": "LKubiNTj0B1p"
      }
    },
    {
      "cell_type": "markdown",
      "source": [
        "# Putting together a multi-agent system\n",
        "\n",
        "Now we've seen all the ways workflows can work, let's construct our own multi-agent system! This will be our Deep Research multi-agent system.\n",
        "\n",
        "It will have three agents:\n",
        "* `QuestionAgent` which accepts a research topic and generates a bunch of questions\n",
        "* `AnswerAgent` which answers a specific question (we'll need to call it many times)\n",
        "* `ReportAgent` which aggregates all the answers and generates a report.\n",
        "\n",
        "We'll create these as `FunctionAgent`s, the same as we did when creating agents for `AgentWorkflow`."
      ],
      "metadata": {
        "id": "elnYMephgF47"
      }
    },
    {
      "cell_type": "code",
      "source": [
        "question_agent = FunctionAgent(\n",
        "    tools=[],\n",
        "    llm=llm,\n",
        "    verbose=False,\n",
        "    system_prompt=\"\"\"You are part of a deep research system.\n",
        "      Given a research topic, you should come up with a bunch of questions\n",
        "      that a separate agent will answer in order to write a comprehensive\n",
        "      report on that topic. To make it easy to answer the questions separately,\n",
        "      you should provide the questions one per line. Don't include markdown\n",
        "      or any preamble in your response, just a list of questions.\"\"\"\n",
        ")\n",
        "answer_agent = FunctionAgent(\n",
        "    tools=[search_web],\n",
        "    llm=llm,\n",
        "    verbose=False,\n",
        "    system_prompt=\"\"\"You are part of a deep research system.\n",
        "      Given a specific question, your job is to come up with a deep answer\n",
        "      to that question, which will be combined with other answers on the topic\n",
        "      into a comprehensive report. You can search the web to get information\n",
        "      on the topic, as many times as you need.\"\"\"\n",
        ")\n",
        "report_agent = FunctionAgent(\n",
        "    tools=[],\n",
        "    llm=llm,\n",
        "    verbose=False,\n",
        "    system_prompt=\"\"\"You are part of a deep research system.\n",
        "      Given a set of answers to a set of questions, your job is to combine\n",
        "      them all into a comprehensive report on the topic.\"\"\"\n",
        ")"
      ],
      "metadata": {
        "id": "gPxFQpYQkRza"
      },
      "execution_count": null,
      "outputs": []
    },
    {
      "cell_type": "markdown",
      "source": [
        "The Workflow we'll need to handle this task needs to do a few things:\n",
        "* Accept the topic and pass it to the QuestionAgent\n",
        "* Take all the answers from the QuestionAgent and split them up, firing off one AnswerAgent for each question\n",
        "* Aggregate all the questions and answers from the AnswerAgents\n",
        "* Generate a single report from them"
      ],
      "metadata": {
        "id": "cH5sZbd335o7"
      }
    },
    {
      "cell_type": "code",
      "source": [
        "class GenerateEvent(Event):\n",
        "    research_topic: str\n",
        "\n",
        "class QuestionEvent(Event):\n",
        "    question: str\n",
        "\n",
        "class AnswerEvent(Event):\n",
        "    question: str\n",
        "    answer: str\n",
        "\n",
        "class ProgressEvent(Event):\n",
        "    msg: str\n",
        "\n",
        "class DeepResearchWorkflow(Workflow):\n",
        "\n",
        "    @step\n",
        "    async def setup(self, ctx: Context, ev: StartEvent) -> GenerateEvent:\n",
        "        self.question_agent = ev.question_agent\n",
        "        self.answer_agent = ev.answer_agent\n",
        "        self.report_agent = ev.report_agent\n",
        "\n",
        "        ctx.write_event_to_stream(ProgressEvent(msg=\"Starting research\"))\n",
        "\n",
        "        return GenerateEvent(research_topic=ev.research_topic)\n",
        "\n",
        "    @step\n",
        "    async def generate_questions(self, ctx: Context, ev: GenerateEvent) -> QuestionEvent:\n",
        "\n",
        "        await ctx.set(\"research_topic\", ev.research_topic)\n",
        "        ctx.write_event_to_stream(ProgressEvent(msg=f\"Research topic is {ev.research_topic}\"))\n",
        "\n",
        "        result = await self.question_agent.run(user_msg=f\"\"\"Generate some questions\n",
        "          on the topic <topic>{ev.research_topic}</topic>.\"\"\")\n",
        "\n",
        "        # some basic string manipulation to get separate questions\n",
        "        lines = str(result).split(\"\\n\")\n",
        "        questions = [line.strip() for line in lines if line.strip() != \"\"]\n",
        "\n",
        "        # record how many answers we're going to need to wait for\n",
        "        await ctx.set(\"total_questions\", len(questions))\n",
        "\n",
        "        # fire off multiple Answer Agents\n",
        "        for question in questions:\n",
        "            ctx.send_event(QuestionEvent(question=question))\n",
        "\n",
        "    @step\n",
        "    async def answer_question(self, ctx: Context, ev: QuestionEvent) -> AnswerEvent:\n",
        "\n",
        "        result = await self.answer_agent.run(user_msg=f\"\"\"Research the answer to this\n",
        "          question: <question>{ev.question}</question>. You can use web\n",
        "          search to help you find information on the topic, as many times\n",
        "          as you need. Return just the answer without preamble or markdown.\"\"\")\n",
        "\n",
        "        ctx.write_event_to_stream(ProgressEvent(msg=f\"\"\"Received question {ev.question}\n",
        "            Came up with answer: {str(result)}\"\"\"))\n",
        "\n",
        "        return AnswerEvent(question=ev.question,answer=str(result))\n",
        "\n",
        "    @step\n",
        "    async def write_report(self, ctx: Context, ev: AnswerEvent) -> StopEvent:\n",
        "\n",
        "        research = ctx.collect_events(ev, [AnswerEvent] * await ctx.get(\"total_questions\"))\n",
        "        # if we haven't received all the answers yet, this will be None\n",
        "        if research is None:\n",
        "            ctx.write_event_to_stream(ProgressEvent(msg=\"Collecting answers...\"))\n",
        "            return None\n",
        "\n",
        "        ctx.write_event_to_stream(ProgressEvent(msg=\"Generating report...\"))\n",
        "\n",
        "        # aggregate the questions and answers\n",
        "        all_answers = \"\"\n",
        "        for q_and_a in research:\n",
        "            all_answers += f\"Question: {q_and_a.question}\\nAnswer: {q_and_a.answer}\\n\\n\"\n",
        "\n",
        "        # prompt the report\n",
        "        result = await self.report_agent.run(user_msg=f\"\"\"You are part of a deep research system.\n",
        "          You have been given a complex topic on which to write a report:\n",
        "          <topic>{await ctx.get(\"research_topic\")}.\n",
        "\n",
        "          Other agents have already come up with a list of questions about the\n",
        "          topic and answers to those questions. Your job is to write a clear,\n",
        "          thorough report that combines all the information from those answers.\n",
        "\n",
        "          Here are the questions and answers:\n",
        "          <questions_and_answers>{all_answers}</questions_and_answers>\"\"\")\n",
        "\n",
        "        return StopEvent(result=str(result))"
      ],
      "metadata": {
        "id": "dqzaRydrrAgk"
      },
      "execution_count": null,
      "outputs": []
    },
    {
      "cell_type": "markdown",
      "source": [
        "Running it gets us a sequence of progress events plus our final report:"
      ],
      "metadata": {
        "id": "dLTEN0FZ4BFH"
      }
    },
    {
      "cell_type": "code",
      "source": [
        "workflow = DeepResearchWorkflow(timeout=300)\n",
        "handler = workflow.run(\n",
        "    research_topic=\"History of San Francisco\",\n",
        "    question_agent=question_agent,\n",
        "    answer_agent=answer_agent,\n",
        "    report_agent=report_agent\n",
        ")\n",
        "\n",
        "async for ev in handler.stream_events():\n",
        "    if isinstance(ev, ProgressEvent):\n",
        "        print(ev.msg)\n",
        "\n",
        "final_result = await handler\n",
        "print(\"==== The report ====\")\n",
        "print(final_result)"
      ],
      "metadata": {
        "colab": {
          "base_uri": "https://localhost:8080/"
        },
        "id": "I72M8ZqKum2I",
        "outputId": "19879b58-51a7-4dfc-9ce7-74d9f3142161"
      },
      "execution_count": null,
      "outputs": [
        {
          "output_type": "stream",
          "name": "stdout",
          "text": [
            "Starting research\n",
            "Research topic is History of San Francisco\n",
            "Received question When and by whom was San Francisco first established as a settlement?\n",
            "            Came up with answer: San Francisco was first established as a settlement in 1776 by Spanish colonizers. The Presidio of San Francisco was formally established on September 17, 1776, and Mission San Francisco was founded by Franciscan missionaries around the same time to convert the native people to Christianity.\n",
            "Collecting answers...\n",
            "Received question Who were the indigenous peoples living in the San Francisco area prior to colonization?\n",
            "            Came up with answer: The indigenous peoples living in the San Francisco area prior to colonization were the Ramaytush Ohlone. Specifically, the area that is now San Francisco County was home to a group of the Ramaytush Ohlone known as the Yelamu. The Ramaytush Ohlone inhabited and stewarded the land for at least 13,500 years before European colonization in the late 18th and early 19th centuries.\n",
            "Collecting answers...\n",
            "Received question What are the origins of San Francisco before European settlement?\n",
            "            Came up with answer: Before European settlement, the area now known as San Francisco was inhabited by indigenous peoples, primarily the Ohlone people. The indigenous name for San Francisco was Ahwaste, meaning \"place at the bay.\" The Ohlone were part of a contiguous set of bands living from south of the Golden Gate to San José, and they did not recognize the later imposed city or county boundaries. The earliest inhabitants' exact origins are unclear, but they were the ancestors of the Ohlone population encountered by the Spanish in the late 18th century. The region was rich in natural resources and had a deep cultural significance for these native peoples long before European explorers arrived.\n",
            "Collecting answers...\n",
            "Received question How did the California Gold Rush impact the growth and development of San Francisco?\n",
            "            Came up with answer: The California Gold Rush had a profound impact on the growth and development of San Francisco. It transformed the city into a bustling hub of entrepreneurial activity as people flocked there to capitalize on the opportunities created by the influx of miners. The population of San Francisco grew rapidly, attracting a remarkably diverse group of people from around the world. This rapid growth forced the city to expand quickly to meet the demands of the booming economy. The Gold Rush also accelerated California's admission into the Union as a state in 1850. San Francisco became a key supply and commercial center for the mining regions, which helped establish its importance in the region and laid the foundation for its future development as a major city.\n",
            "Collecting answers...\n",
            "Received question What major events shaped San Francisco during the 19th century?\n",
            "            Came up with answer: Major events that shaped San Francisco during the 19th century include:\n",
            "\n",
            "1. The California Gold Rush (starting in 1848 and peaking around 1850), which brought a massive influx of people to San Francisco and led to rapid population growth and economic development.\n",
            "2. The formation of San Francisco's fire department in 1849, an important step in urban organization.\n",
            "3. The beginning of the first cable car service on Clay Street in 1873, marking a significant development in the city's transportation infrastructure.\n",
            "4. The completion of the transcontinental railroad in 1869, which connected San Francisco to the rest of the United States, facilitating rapid movement of people and goods and enhancing the city's role as a commercial hub.\n",
            "\n",
            "These events collectively contributed to San Francisco's transformation into a thriving, rapidly growing city during the 19th century.\n",
            "Collecting answers...\n",
            "Received question What role did San Francisco play during World War II?\n",
            "            Came up with answer: During World War II, San Francisco played a crucial role as one of the most important seaport, commercial, and manufacturing centers in the United States. The San Francisco Bay Area became known as America's \"Arsenal of Democracy,\" serving as a major shipbuilding hub with a dozen or more major shipyards around the Bay, making it the number one shipbuilding area in the country. The region's shipyards, such as Kaiser's Richmond Shipyard Number Three, produced about 1,400 vessels during the war, averaging a ship a day. Additionally, San Francisco was a key coastal fortress and a critical port of embarkation for the movement of troops and supplies to the Pacific theater. The city's harbor defenses were manned by highly trained personnel who maintained and operated the coastal guns and base stations. Overall, San Francisco's industrial output, military installations, and strategic location made it vital to the U.S. war effort in the Pacific.\n",
            "Collecting answers...\n",
            "Received question How did the 1906 earthquake and fire affect the city’s infrastructure and population?\n",
            "            Came up with answer: The 1906 earthquake and subsequent fire had a devastating impact on the city's infrastructure and population. The earthquake, which struck early in the morning, caused widespread destruction to buildings, water supply systems, and transportation networks. The damage to the water transmission system severely hampered firefighting efforts, allowing fires to spread uncontrollably across large parts of the city. This led to the destruction of many neighborhoods and a significant portion of the urban infrastructure.\n",
            "\n",
            "The population was deeply affected, with many people losing their homes and livelihoods. The disaster prompted a rapid and large-scale rebuilding effort, which transformed the city's structural landscape and led to the adoption of new building codes and innovations in construction to improve earthquake resilience. The fire and earthquake also influenced long-term urban development patterns, with redevelopment initiatives increasing residential density in previously razed areas.\n",
            "\n",
            "Overall, the 1906 earthquake and fire caused massive destruction but also spurred advancements in urban planning, building safety, and disaster preparedness that shaped the city's future growth and resilience.\n",
            "Collecting answers...\n",
            "Received question How did immigration influence the cultural and demographic makeup of San Francisco over time?\n",
            "            Came up with answer: Immigration has profoundly influenced the cultural and demographic makeup of San Francisco over time, shaping it into a diverse and vibrant city. Beginning in the mid-19th century, Chinese immigrants arrived in large numbers, establishing San Francisco's Chinatown, the oldest and one of the largest Chinese communities in North America. Despite facing significant challenges and discrimination, Chinese immigrants contributed to the city's cultural richness and economic development.\n",
            "\n",
            "Italian immigrants also played a significant role, with waves of Italian migration beginning in the 19th century. They established strong communities, particularly in neighborhoods like North Beach, and contributed to San Francisco's identity through businesses, cultural institutions, and social networks.\n",
            "\n",
            "Latino populations, including Mexican and Central American immigrants, have also influenced the city's cultural landscape, particularly in neighborhoods like the Mission District. Infrastructure changes in the mid-20th century, such as the building of the Broadway Tunnel, affected Latino neighborhoods and contributed to demographic shifts within the city.\n",
            "\n",
            "Over time, San Francisco's immigrant populations have fluctuated, with periods of population loss and gain influenced by broader economic and social trends. In recent years, immigration continues to contribute to population growth and cultural diversity, although the city has experienced complex demographic changes including migration patterns within and outside the city.\n",
            "\n",
            "Overall, immigration has been a key driver in shaping San Francisco's demographic profile and cultural identity, making it a mosaic of ethnic communities, languages, traditions, and economic contributions that define the city's unique character.\n",
            "Collecting answers...\n",
            "Received question What are some key social and political movements that originated or were prominent in San Francisco?\n",
            "            Came up with answer: Some key social and political movements that originated or were prominent in San Francisco include:\n",
            "\n",
            "1. The Hippie Movement: Originating in the early 1960s, San Francisco was the cultural center of the hippie movement, known for promoting free love, drug use, and communal living.\n",
            "\n",
            "2. Civil Rights Movement: In the early 1960s, San Francisco was a site of civil rights activism, with efforts to contest entrenched social relationships, racial understandings, and economic status quo, leading to militant efforts for social change and racial justice in the late 1960s.\n",
            "\n",
            "3. LGBTQ+ Rights Movement: San Francisco has been pivotal in the modern LGBTQ+ rights movement, with a proliferation of gay bars and the formation of social and political groups in the gay community. The city is known for its activism and cultural contributions, including the San Francisco Gay Men's Chorus.\n",
            "\n",
            "4. Progressive Political Activism: Since the social upheavals of the 1960s, San Francisco has been a center of progressive activism, with Democrats and progressives dominating city politics and shaping the political landscape with a focus on social justice and equality.\n",
            "\n",
            "These movements have significantly influenced the cultural, racial, ethnic, and political identities of San Francisco and have had lasting impacts on the city's social and political fabric.\n",
            "Collecting answers...\n",
            "Received question How has San Francisco’s economy evolved from its founding to the present day?\n",
            "            Came up with answer: San Francisco's economy has evolved significantly from its founding to the present day. The city was founded in 1776 by Spanish colonists who established the Presidio of San Francisco and Mission San Francisco de Asís. Its major economic transformation began during the California Gold Rush of 1849, which rapidly turned San Francisco from a small settlement into a bustling city and commercial hub.\n",
            "\n",
            "The completion of the transcontinental railroad in 1869 further connected San Francisco to the rest of the United States, facilitating the rapid movement of people and goods and enhancing its role as a key commercial center. The city experienced rapid growth and prosperity, although this was interrupted by the devastating 1906 earthquake.\n",
            "\n",
            "Throughout the late 19th and early 20th centuries, San Francisco developed significant industrial and manufacturing sectors, particularly in areas like South of Market Street and Mission Bay. These industries helped shape the city's working-class neighborhoods and economic landscape.\n",
            "\n",
            "In the modern era, San Francisco has become known for its strong economy characterized by high GDP per capita and low unemployment rates. It is a major center for technology, finance, tourism, and innovation, with a diverse and dynamic economic base that reflects its historical roots and contemporary global significance.\n",
            "Collecting answers...\n",
            "Received question What architectural styles and landmarks are historically significant in San Francisco?\n",
            "            Came up with answer: San Francisco is historically significant for a variety of architectural styles and landmarks:\n",
            "\n",
            "Architectural Styles:\n",
            "- Queen Anne Victorian: The most recognizable style in San Francisco, characterized by long roofs, balustrade-segmented floors, whimsical ornamental embellishments such as bay windows, bold friezes, cornices, and colonnettes.\n",
            "- Italianate: Early styles featured simple flat-fronted buildings with multi-story octagonal bay windows.\n",
            "- Gothic Revival: Inspired by medieval cathedrals with ornate windows and spires, exemplified by Grace Cathedral built in 1927.\n",
            "- Other styles include Art Deco, Brutalist, and Postmodernism, reflecting the city's diverse architectural evolution.\n",
            "\n",
            "Historically Significant Landmarks:\n",
            "- Golden Gate Bridge: An iconic symbol of human ingenuity and resilience, vital for transportation.\n",
            "- Alcatraz Island: Famous former federal prison and historic site.\n",
            "- Fort Point: A historic military fortification beneath the Golden Gate Bridge.\n",
            "- Coit Tower: A symbol of San Francisco’s culture and artistic expression with panoramic city views.\n",
            "- San Francisco Museum of Modern Art (SFMOMA): Notable for contemporary design.\n",
            "- Twin Peaks Tavern: An iconic landmark opened in 1935.\n",
            "- Ghirardelli Square: A famous historic landmark.\n",
            "- The city's historic cable cars, representing its long history of transportation.\n",
            "\n",
            "These architectural styles and landmarks collectively reflect San Francisco's rich cultural heritage and its evolution through different historical periods.\n",
            "Collecting answers...\n",
            "Received question How did the tech boom of the late 20th and early 21st centuries transform San Francisco?\n",
            "            Came up with answer: The tech boom of the late 20th and early 21st centuries transformed San Francisco in several profound ways. The rise of Silicon Valley as a global tech hub attracted a diverse, international workforce, fueling rapid population growth and economic expansion in the Bay Area. San Francisco shifted from its historical identity tied to the Gold Rush and traditional industries to becoming a center for technology and innovation, with many major tech companies headquartered in the region. This transformation brought significant changes to the city's real estate market, leading to gentrification and increased housing demand. The influx of tech workers and capital also reshaped the cultural and social landscape of San Francisco, making it a melting pot of ideas and cultures but also creating challenges related to affordability and displacement of long-time residents. Overall, the tech boom turned San Francisco into a prestigious and dynamic tech metropolis, deeply influencing its economy, demographics, and urban development.\n",
            "Collecting answers...\n",
            "Received question How has San Francisco’s role as a port city influenced its historical development?\n",
            "            Came up with answer: San Francisco's role as a port city has profoundly influenced its historical development by shaping its economic, social, and physical landscape. The city's waterfront, including the Ferry Building and the Embarcadero, became a central hub for cargo loading, storage, and transportation, linking maritime and rail networks. This facilitated trade and immigration, contributing to San Francisco's growth as a major commercial center. The industrial piers along the eastern waterfront supported the import and export of goods, such as coffee and other commodities, which bolstered the local economy. The port also played a key role in the city's cultural and urban development, with the waterfront evolving from an industrial zone to a vibrant area featuring restored piers, restaurants, and public spaces. The port's historical significance is recognized through preservation efforts, reflecting its impact on San Francisco's identity and growth from the late 19th century through the mid-20th century.\n",
            "Collecting answers...\n",
            "Received question What challenges has San Francisco faced in terms of urban development and housing throughout its history?\n",
            "            Came up with answer: San Francisco has faced significant challenges in urban development and housing throughout its history due to several factors. The city has a severely constrained development potential because it occupies roughly 47 square miles on the tip of a peninsula, limiting its ability to expand through bay infill or annexation. It is largely \"built out,\" with almost all available land already developed. This limited land capacity has made it difficult to increase housing supply.\n",
            "\n",
            "Historically, San Francisco has undergone intense periods of city building, notably after the California Gold Rush, following the 1906 earthquake and fire, and during the rise of the modern high-rise city in the mid-20th century. Despite these rebuilding efforts, the city has struggled with affordable housing production. Affordable housing has primarily been produced by nonprofit developers, the San Francisco Housing Authority, and market-rate developers, but demand has often outpaced supply.\n",
            "\n",
            "Additionally, urban renewal efforts in the past led to displacement and loss of low-rent private housing stock, exacerbating housing challenges for lower-income residents. The city's constrained geography combined with high demand has contributed to ongoing issues with housing affordability, availability, and economic inclusion.\n",
            "Collecting answers...\n",
            "Received question What are some notable historical figures associated with San Francisco?\n",
            "            Came up with answer: Notable historical figures associated with San Francisco include:\n",
            "\n",
            "- Robert Frost, an influential American poet who was born in San Francisco and received four Pulitzer Prizes for Poetry.\n",
            "- Filmmaker Francis Ford Coppola, known for his work on \"The Godfather\" series and \"Apocalypse Now.\"\n",
            "- Tony Martin (Alvin Morris), an American singer born in San Francisco.\n",
            "- Various athletes such as Joe Hunt, an American tennis player, and several Major League Baseball players like Jim Baxes, Ping Bodie, Fred Breining, Dolph Camilli, Ike Caveney, and Gino Cimoli.\n",
            "- James Joseph Sweeney, an American Catholic prelate born in San Francisco.\n",
            "- Theodore Roberts, an American actor born in San Francisco.\n",
            "\n",
            "These figures reflect the city's diverse contributions to arts, sports, and culture.\n",
            "Collecting answers...\n",
            "Received question What impact did the LGBTQ+ rights movement have on the city’s history?\n",
            "            Came up with answer: The LGBTQ+ rights movement had a profound impact on the city's history, particularly exemplified by the Stonewall Riots in New York City's Greenwich Village in June 1969. These riots, sparked by a police raid on the Stonewall Inn, a gay bar, marked a pivotal turning point in the struggle for LGBTQ+ equality and acceptance. The event ignited the modern gay rights movement, leading to decades of activism and significant cultural and legal changes. The movement influenced the city's social fabric by fostering greater visibility, advocacy, and community organization for LGBTQ+ individuals. It also contributed to broader cultural shifts in media, arts, language, and public attitudes, shaping the city's identity as a center for LGBTQ+ rights and activism.\n",
            "Collecting answers...\n",
            "Received question How did San Francisco’s cultural scene develop and change over the decades?\n",
            "            Came up with answer: San Francisco’s cultural scene has developed and changed significantly over the decades, shaped by various social, artistic, and technological movements:\n",
            "\n",
            "- Early to mid-20th century: San Francisco developed a rich bohemian and artistic legacy. The city became a center for the Beat Generation in the 1950s, with influential figures like Allen Ginsberg and the publication of his seminal poem \"Howl\" helping to ignite the Beat movement. This era emphasized freedom, personal expression, and countercultural values.\n",
            "\n",
            "- 1960s: The city was a hub for the counterculture movement, including the hippie movement centered in neighborhoods like Haight-Ashbury. Iconic bands like the Grateful Dead emerged, and the city became synonymous with progressive social and cultural change.\n",
            "\n",
            "- 1980s: San Francisco experienced economic changes and cultural shifts, grappling with challenges while also advancing in technology and social movements. The city maintained its reputation for diversity and artistic innovation.\n",
            "\n",
            "- Recent decades: San Francisco has evolved into a global metropolis known for its diverse culture, progressive attitudes, and technological innovation. The city continues to have one of the highest concentrations of artists and arts organizations per capita in the U.S., supporting a vibrant creative and cultural scene that attracts tourists worldwide.\n",
            "\n",
            "Throughout its history, San Francisco’s cultural scene has been marked by a blend of artistic expression, social activism, and innovation, reflecting the city’s dynamic and diverse population.\n",
            "Collecting answers...\n",
            "Received question How have natural disasters shaped the city’s planning and rebuilding efforts?\n",
            "            Came up with answer: Natural disasters have significantly influenced city planning and rebuilding efforts by emphasizing the need for resilient infrastructure and urban design that can withstand future events. Cities have incorporated disaster risk assessments into their planning processes, leading to the development of robust building codes and land-use policies that reduce vulnerability. Urban planners and architects now prioritize resilient buildings and infrastructure, integrating features that enhance safety and durability against earthquakes, hurricanes, floods, and other hazards. Additionally, cities focus on community engagement and participation to ensure effective disaster response and recovery. Green infrastructure is also increasingly used to mitigate environmental impacts and enhance resilience. Post-disaster rebuilding efforts often include habitat restoration to preserve biodiversity and promote ecosystem resilience. Overall, natural disasters have driven cities to adopt forward-looking, comprehensive strategies that safeguard communities and enable quicker recovery after crises.\n",
            "Collecting answers...\n",
            "Received question What historical museums and archives preserve the history of San Francisco?\n",
            "            Came up with answer: Historical museums and archives that preserve the history of San Francisco include:\n",
            "\n",
            "1. The San Francisco Historical Society, which uncovers, preserves, and presents the city's diverse history through programs, walking tours, publications, exhibits, and collaborations with other local history groups.\n",
            "\n",
            "2. The Daniel E. Koshland San Francisco History Center at the San Francisco Public Library, which houses a research collection of books, newspapers, photographs, maps, posters, archives, and manuscript collections documenting all aspects of San Francisco life and history. It also serves as the archives for the City and County of San Francisco.\n",
            "\n",
            "3. The Wells Fargo Museum, which offers exhibits related to the history of Wells Fargo and its role in San Francisco.\n",
            "\n",
            "4. The GLBT Historical Society Museum, which preserves and shares the history of the LGBTQ+ community in San Francisco.\n",
            "\n",
            "5. The Tenderloin Museum, which focuses on the history of the Tenderloin neighborhood.\n",
            "\n",
            "Additionally, the San Francisco Armory is a historic building with a rich history, though it is more of a historic site than a museum.\n",
            "Collecting answers...\n",
            "Received question How does San Francisco’s history compare to other major cities in California and the United States?\n",
            "            Came up with answer: San Francisco's history is distinctive and influential both within California and the broader United States. Founded originally as a Spanish mission and presidio in the late 18th century, it quickly grew from a small village called Yerba Buena into California's major seaport by the mid-19th century, especially after the Gold Rush of 1848-49. This event triggered rapid population growth and economic development, making San Francisco a key commercial hub on the West Coast. The completion of the transcontinental railroad in 1869 further connected San Francisco to the rest of the country, enhancing its role in trade and migration.\n",
            "\n",
            "San Francisco has experienced significant challenges and transformations, including the devastating 1906 earthquake and fire, which destroyed much of the city but did not halt its growth. Throughout the 20th century, it became a center of wealth, military power, progressive culture, and technological innovation. The city is also known for its diverse culture and progressive social movements, including the Beatniks in the 1950s and later the counterculture movements.\n",
            "\n",
            "Compared to other major California cities like Los Angeles, which was founded earlier (1781) and grew into the state's largest city with a focus on entertainment and sprawling urban development, San Francisco has maintained a unique identity tied to its geography, history of immigration, and role as a financial and technological hub. Other California cities like San Diego and Sacramento have different historical trajectories, often tied to military, governmental, or regional economic roles.\n",
            "\n",
            "In the context of U.S. cities, San Francisco's history is notable for its rapid growth during the Gold Rush, its recovery from natural disasters, and its role in westward expansion and technological innovation. While cities like Boston and New York have longer colonial histories dating back to the 17th century and played central roles in early American history and industrialization, San Francisco represents the dynamic growth of the American West and the integration of diverse cultures and economies in the 19th and 20th centuries.\n",
            "\n",
            "Overall, San Francisco's history is marked by rapid growth, resilience in the face of disaster, cultural diversity, and economic innovation, distinguishing it from other major cities in California and across the United States.\n",
            "Generating report...\n",
            "==== The report ====\n",
            "**Comprehensive Report on the History of San Francisco**\n",
            "\n",
            "---\n",
            "\n",
            "### Introduction\n",
            "\n",
            "San Francisco, a city renowned for its cultural diversity, economic dynamism, and iconic landmarks, has a rich and multifaceted history that spans thousands of years. From its origins as indigenous land to its rise as a global metropolis, San Francisco’s development has been shaped by natural events, immigration, economic booms, social movements, and technological innovation. This report synthesizes key historical aspects of San Francisco, providing a thorough overview of its evolution.\n",
            "\n",
            "---\n",
            "\n",
            "### Indigenous Origins and Early Settlement\n",
            "\n",
            "Long before European colonization, the area now known as San Francisco was inhabited for at least 13,500 years by the Ramaytush Ohlone people, specifically the Yelamu group. The indigenous name for the region was *Ahwaste*, meaning \"place at the bay.\" The Ohlone lived in a network of bands extending from south of the Golden Gate to San José, stewarding the land and its rich natural resources with deep cultural significance.\n",
            "\n",
            "European settlement began in 1776 when Spanish colonizers established the Presidio of San Francisco on September 17 and founded Mission San Francisco de Asís (Mission Dolores) to convert native peoples to Christianity. This marked the beginning of San Francisco’s transformation from indigenous territory to a colonial outpost.\n",
            "\n",
            "---\n",
            "\n",
            "### 19th Century Growth and Transformation\n",
            "\n",
            "The 19th century was a period of rapid growth and transformation for San Francisco, driven primarily by the California Gold Rush beginning in 1848. The discovery of gold attracted a massive influx of people from around the world, turning San Francisco from a small settlement into a bustling commercial hub almost overnight. The city’s population swelled, and its economy diversified as it became the primary supply and commercial center for mining regions.\n",
            "\n",
            "Key developments during this century included:\n",
            "\n",
            "- **Formation of the Fire Department (1849):** Establishing organized urban services to support the growing population.\n",
            "- **Completion of the Transcontinental Railroad (1869):** Connecting San Francisco to the rest of the United States, facilitating trade and migration.\n",
            "- **Introduction of Cable Cars (1873):** Enhancing urban transportation and shaping the city’s infrastructure.\n",
            "  \n",
            "These events collectively solidified San Francisco’s status as a vital economic and transportation center on the West Coast.\n",
            "\n",
            "---\n",
            "\n",
            "### The 1906 Earthquake and Fire: Devastation and Rebirth\n",
            "\n",
            "On April 18, 1906, San Francisco was struck by a catastrophic earthquake followed by widespread fires that destroyed much of the city’s infrastructure and housing. The quake damaged water systems, severely hampering firefighting efforts and allowing fires to ravage neighborhoods. Thousands were displaced, and the urban landscape was dramatically altered.\n",
            "\n",
            "The disaster prompted a massive rebuilding effort characterized by:\n",
            "\n",
            "- Adoption of new building codes and construction techniques to improve earthquake resilience.\n",
            "- Urban redevelopment that increased residential density in affected areas.\n",
            "- Innovations in city planning and infrastructure to mitigate future risks.\n",
            "\n",
            "Despite the devastation, San Francisco’s recovery demonstrated remarkable resilience and set new standards for urban disaster preparedness.\n",
            "\n",
            "---\n",
            "\n",
            "### Immigration and Cultural Diversity\n",
            "\n",
            "Immigration has been a defining force in shaping San Francisco’s demographic and cultural identity. Beginning in the mid-19th century, waves of immigrants established vibrant communities:\n",
            "\n",
            "- **Chinese Immigrants:** Formed the city’s Chinatown, the oldest and one of the largest in North America, contributing significantly to cultural and economic life despite facing discrimination.\n",
            "- **Italian Immigrants:** Established strong enclaves, particularly in North Beach, influencing local culture and commerce.\n",
            "- **Latino Populations:** Including Mexican and Central American immigrants, who have shaped neighborhoods like the Mission District.\n",
            "\n",
            "Immigration patterns have fluctuated over time due to economic and social factors, but the city remains a mosaic of ethnicities, languages, and traditions, enriching its cultural fabric.\n",
            "\n",
            "---\n",
            "\n",
            "### Social and Political Movements\n",
            "\n",
            "San Francisco has been a crucible for numerous influential social and political movements:\n",
            "\n",
            "- **The Hippie Movement (1960s):** Centered in neighborhoods like Haight-Ashbury, promoting countercultural values such as free love and communal living.\n",
            "- **Civil Rights Activism:** Efforts in the 1960s challenged racial and economic inequalities, leading to militant social justice campaigns.\n",
            "- **LGBTQ+ Rights Movement:** The city became a pivotal center for LGBTQ+ activism, with a proliferation of gay bars, political organizations, and cultural institutions. The Stonewall Riots of 1969, though in New York, catalyzed activism that deeply influenced San Francisco’s LGBTQ+ community.\n",
            "- **Progressive Political Activism:** Since the 1960s, San Francisco has been a bastion of progressive politics, emphasizing social justice, equality, and inclusion.\n",
            "\n",
            "These movements have profoundly shaped the city’s identity and contributed to its reputation as a progressive and inclusive metropolis.\n",
            "\n",
            "---\n",
            "\n",
            "### Economic Evolution\n",
            "\n",
            "San Francisco’s economy has evolved from a colonial outpost to a global economic powerhouse:\n",
            "\n",
            "- **Gold Rush Era:** Rapid commercial expansion and population growth.\n",
            "- **Industrial and Manufacturing Growth:** Late 19th and early 20th centuries saw development of industrial sectors, particularly in South of Market and Mission Bay.\n",
            "- **World War II:** The city became America’s \"Arsenal of Democracy,\" with major shipyards producing vessels for the Pacific theater and serving as a critical military port.\n",
            "- **Post-War to Late 20th Century:** Transitioned towards finance, tourism, and service industries.\n",
            "- **Tech Boom (Late 20th and Early 21st Century):** The rise of Silicon Valley transformed San Francisco into a global technology and innovation hub, attracting a diverse workforce and capital. This shift brought economic prosperity but also challenges such as housing affordability and gentrification.\n",
            "\n",
            "Today, San Francisco boasts a high GDP per capita and low unemployment, with a diverse economy rooted in technology, finance, tourism, and creative industries.\n",
            "\n",
            "---\n",
            "\n",
            "### Urban Development and Housing Challenges\n",
            "\n",
            "San Francisco’s unique geography—occupying roughly 47 square miles on a peninsula—has constrained its physical expansion, leading to intense competition for land and housing. The city is largely \"built out,\" with limited opportunities for bay infill or annexation.\n",
            "\n",
            "Key challenges include:\n",
            "\n",
            "- Limited housing supply relative to demand, driving up prices and affordability issues.\n",
            "- Historical urban renewal projects that displaced low-income residents and reduced affordable housing stock.\n",
            "- Efforts by nonprofit organizations and public agencies to produce affordable housing, though demand often outpaces supply.\n",
            "\n",
            "These factors have made housing a persistent and complex issue in San Francisco’s urban development.\n",
            "\n",
            "---\n",
            "\n",
            "### Architectural Heritage and Landmarks\n",
            "\n",
            "San Francisco’s architectural landscape reflects its diverse history:\n",
            "\n",
            "- **Queen Anne Victorian:** The city’s most iconic style, featuring ornate embellishments, bay windows, and decorative cornices.\n",
            "- **Italianate and Gothic Revival:** Early styles exemplified by buildings like Grace Cathedral.\n",
            "- **Modern Styles:** Including Art Deco, Brutalist, and Postmodern architecture.\n",
            "\n",
            "Notable landmarks include:\n",
            "\n",
            "- **Golden Gate Bridge:** An engineering marvel and city symbol.\n",
            "- **Alcatraz Island:** Historic federal prison and tourist attraction.\n",
            "- **Fort Point:** Military fortification beneath the Golden Gate Bridge.\n",
            "- **Coit Tower:** Cultural icon with panoramic views.\n",
            "- **Historic Cable Cars:** Representing the city’s transportation heritage.\n",
            "- **Ghirardelli Square and Twin Peaks Tavern:** Cultural and historic sites.\n",
            "\n",
            "These landmarks and styles collectively narrate San Francisco’s architectural and cultural evolution.\n",
            "\n",
            "---\n",
            "\n",
            "### Role as a Port City\n",
            "\n",
            "San Francisco’s waterfront has been central to its development:\n",
            "\n",
            "- The port facilitated trade, immigration, and industrial growth.\n",
            "- The Ferry Building and Embarcadero served as hubs connecting maritime and rail transport.\n",
            "- Industrial piers supported commodity imports and exports, bolstering the economy.\n",
            "- The waterfront has evolved from industrial use to a vibrant public space with restaurants and cultural venues.\n",
            "\n",
            "The port’s historical and ongoing significance underscores San Francisco’s role as a gateway to the Pacific.\n",
            "\n",
            "---\n",
            "\n",
            "### Impact of Natural Disasters on Planning\n",
            "\n",
            "Natural disasters, especially the 1906 earthquake and fire, have profoundly influenced San Francisco’s urban planning:\n",
            "\n",
            "- Adoption of stringent building codes and resilient construction methods.\n",
            "- Integration of disaster risk assessments into city planning.\n",
            "- Emphasis on community engagement and preparedness.\n",
            "- Use of green infrastructure and habitat restoration to enhance environmental resilience.\n",
            "\n",
            "These measures have shaped San Francisco’s approach to safety, sustainability, and urban design.\n",
            "\n",
            "---\n",
            "\n",
            "### Cultural Development\n",
            "\n",
            "San Francisco’s cultural scene has been dynamic and influential:\n",
            "\n",
            "- **Beat Generation (1950s):** The city was a center for literary and artistic innovation.\n",
            "- **1960s Counterculture:** Hippie movement and iconic music scenes flourished.\n",
            "- **1980s and Beyond:** Continued cultural diversity and artistic innovation amid economic shifts.\n",
            "- Today, San Francisco maintains one of the highest concentrations of artists and cultural organizations per capita in the U.S., attracting global tourists and creatives.\n",
            "\n",
            "The city’s culture reflects its history of social activism, diversity, and innovation.\n",
            "\n",
            "---\n",
            "\n",
            "### Notable Historical Figures\n",
            "\n",
            "San Francisco has been home to influential individuals across various fields:\n",
            "\n",
            "- **Robert Frost:** Pulitzer Prize-winning poet born in the city.\n",
            "- **Francis Ford Coppola:** Renowned filmmaker.\n",
            "- **Tony Martin:** American singer.\n",
            "- **Athletes:** Including tennis player Joe Hunt and several Major League Baseball players.\n",
            "- **Religious and Cultural Figures:** Such as Catholic prelate James Joseph Sweeney and actor Theodore Roberts.\n",
            "\n",
            "These figures highlight the city’s contributions to arts, sports, and culture.\n",
            "\n",
            "---\n",
            "\n",
            "### Museums and Archives Preserving History\n",
            "\n",
            "San Francisco’s history is preserved and celebrated through several institutions:\n",
            "\n",
            "- **San Francisco Historical Society:** Offers programs, tours, and exhibits.\n",
            "- **Daniel E. Koshland San Francisco History Center:** Houses extensive archives and serves as the city’s official archive.\n",
            "- **Wells Fargo Museum:** Chronicles the company’s and city’s history.\n",
            "- **GLBT Historical Society Museum:** Documents LGBTQ+ history.\n",
            "- **Tenderloin Museum:** Focuses on neighborhood history.\n",
            "\n",
            "These institutions ensure the city’s rich heritage is accessible and preserved for future generations.\n",
            "\n",
            "---\n",
            "\n",
            "### Comparative Historical Context\n",
            "\n",
            "Compared to other major California and U.S. cities, San Francisco’s history is distinctive:\n",
            "\n",
            "- Founded as a Spanish mission and presidio, it rapidly grew due to the Gold Rush and became California’s major seaport.\n",
            "- Its recovery from the 1906 disaster and role in westward expansion set it apart.\n",
            "- Unlike Los Angeles, which developed earlier and focused on entertainment and sprawling growth, San Francisco’s identity is tied to its geography, immigration, and economic innovation.\n",
            "- Nationally, while older cities like Boston and New York have longer colonial histories, San Francisco represents the dynamic growth of the American West and integration of diverse cultures.\n",
            "\n",
            "San Francisco’s history is marked by rapid growth, resilience, cultural diversity, and economic innovation, distinguishing it within California and the nation.\n",
            "\n",
            "---\n",
            "\n",
            "### Conclusion\n",
            "\n",
            "San Francisco’s history is a tapestry woven from indigenous heritage, colonial beginnings, economic booms, cultural revolutions, and technological transformations. Its resilience in the face of natural disasters, its role as a port and commercial hub, and its vibrant social movements have shaped a city that is both historically rich and forward-looking. Today, San Francisco stands as a symbol of diversity, innovation, and progressive values, reflecting the complex and dynamic history that has defined it for centuries.\n",
            "\n",
            "---\n",
            "\n",
            "**End of Report**\n"
          ]
        }
      ]
    },
    {
      "cell_type": "markdown",
      "source": [
        "## Reflection\n",
        "\n",
        "We now have a deep research agent! It comprehensively researches a topic for us before providing a detailed answer. But we can do better!\n",
        "\n",
        "LLMs are capable of self-reflection: they can read their own work, critique it, and provide feedback, allowing them to take a second try when they fall short.\n",
        "\n",
        "Let's add reflection to our deep research agent! This will involve several changes:\n",
        "\n",
        "* In `research` we'll store the research into the context, since we might need to use it multiple times\n",
        "* We'll tell `write` that it can be triggered by a `RewriteEvent` in addition to a `WriteEvent`\n",
        "* If it's a `RewriteEvent` we'll add the review as feedback to the prompt\n",
        "* `review` will be changed to optionally emit a `RewriteEvent`\n",
        "* We'll get the LLM to decide if the review returned by the agent is a \"bad\" or \"good\" review"
      ],
      "metadata": {
        "id": "fekeyr5x4E1A"
      }
    },
    {
      "cell_type": "code",
      "source": [
        "class FeedbackEvent(Event):\n",
        "    feedback: str\n",
        "\n",
        "class ReviewEvent(Event):\n",
        "    report: str\n",
        "\n",
        "review_agent = FunctionAgent(\n",
        "    tools=[],\n",
        "    llm=llm,\n",
        "    verbose=False,\n",
        "    system_prompt=\"\"\"You are part of a deep research system.\n",
        "      Your job is to review a report that's been written and suggest\n",
        "      questions that could have been asked to produce a more comprehensive\n",
        "      report than the current version, or to decide that the current\n",
        "      report is comprehensive enough.\"\"\"\n",
        ")\n",
        "\n",
        "class DeepResearchWithReflectionWorkflow(Workflow):\n",
        "\n",
        "    @step\n",
        "    async def setup(self, ctx: Context, ev: StartEvent) -> GenerateEvent:\n",
        "        self.question_agent = ev.question_agent\n",
        "        self.answer_agent = ev.answer_agent\n",
        "        self.report_agent = ev.report_agent\n",
        "        self.review_agent = ev.review_agent\n",
        "        self.review_cycles = 0\n",
        "\n",
        "        ctx.write_event_to_stream(ProgressEvent(msg=\"Starting research\"))\n",
        "\n",
        "        return GenerateEvent(research_topic=ev.research_topic)\n",
        "\n",
        "    @step\n",
        "    async def generate_questions(self, ctx: Context, ev: GenerateEvent | FeedbackEvent) -> QuestionEvent:\n",
        "\n",
        "        await ctx.set(\"research_topic\", ev.research_topic)\n",
        "        ctx.write_event_to_stream(ProgressEvent(msg=f\"Research topic is {ev.research_topic}\"))\n",
        "\n",
        "        prompt = f\"\"\"Generate some questions on the topic <topic>{ev.research_topic}</topic>.\"\"\"\n",
        "\n",
        "        if isinstance(ev, FeedbackEvent):\n",
        "            ctx.write_event_to_stream(ProgressEvent(msg=f\"Got feedback: {ev.feedback}\"))\n",
        "            prompt += f\"\"\"You have previously researched this topic and\n",
        "                got the following feedback, consisting of additional questions\n",
        "                you might want to ask: <feedback>{ev.feedback}</feedback>.\n",
        "                Keep this in mind when formulating your questions.\"\"\"\n",
        "\n",
        "        result = await self.question_agent.run(user_msg=prompt)\n",
        "\n",
        "        # some basic string manipulation to get separate questions\n",
        "        lines = str(result).split(\"\\n\")\n",
        "        questions = [line.strip() for line in lines if line.strip() != \"\"]\n",
        "\n",
        "        # record how many answers we're going to need to wait for\n",
        "        await ctx.set(\"total_questions\", len(questions))\n",
        "\n",
        "        # fire off multiple Answer Agents\n",
        "        for question in questions:\n",
        "            ctx.send_event(QuestionEvent(question=question))\n",
        "\n",
        "    @step\n",
        "    async def answer_question(self, ctx: Context, ev: QuestionEvent) -> AnswerEvent:\n",
        "\n",
        "        result = await self.answer_agent.run(user_msg=f\"\"\"Research the answer to this\n",
        "          question: <question>{ev.question}</question>. You can use web\n",
        "          search to help you find information on the topic, as many times\n",
        "          as you need. Return just the answer without preamble or markdown.\"\"\")\n",
        "\n",
        "        ctx.write_event_to_stream(ProgressEvent(msg=f\"\"\"Received question {ev.question}\n",
        "            Came up with answer: {str(result)}\"\"\"))\n",
        "\n",
        "        return AnswerEvent(question=ev.question,answer=str(result))\n",
        "\n",
        "    @step\n",
        "    async def write_report(self, ctx: Context, ev: AnswerEvent) -> ReviewEvent:\n",
        "\n",
        "        research = ctx.collect_events(ev, [AnswerEvent] * await ctx.get(\"total_questions\"))\n",
        "        # if we haven't received all the answers yet, this will be None\n",
        "        if research is None:\n",
        "            ctx.write_event_to_stream(ProgressEvent(msg=\"Collecting answers...\"))\n",
        "            return None\n",
        "\n",
        "        ctx.write_event_to_stream(ProgressEvent(msg=\"Generating report...\"))\n",
        "\n",
        "        # aggregate the questions and answers\n",
        "        all_answers = \"\"\n",
        "        for q_and_a in research:\n",
        "            all_answers += f\"Question: {q_and_a.question}\\nAnswer: {q_and_a.answer}\\n\\n\"\n",
        "\n",
        "        # prompt the report\n",
        "        result = await self.report_agent.run(user_msg=f\"\"\"You are part of a deep research system.\n",
        "          You have been given a complex topic on which to write a report:\n",
        "          <topic>{await ctx.get(\"research_topic\")}.\n",
        "\n",
        "          Other agents have already come up with a list of questions about the\n",
        "          topic and answers to those questions. Your job is to write a clear,\n",
        "          thorough report that combines all the information from those answers.\n",
        "\n",
        "          Here are the questions and answers:\n",
        "          <questions_and_answers>{all_answers}</questions_and_answers>\"\"\")\n",
        "\n",
        "        return ReviewEvent(report=str(result))\n",
        "\n",
        "    @step\n",
        "    async def review(self, ctx: Context, ev: ReviewEvent) -> StopEvent | FeedbackEvent:\n",
        "\n",
        "        result = await self.review_agent.run(user_msg=f\"\"\"You are part of a deep research system.\n",
        "          You have just written a report about the topic {await ctx.get(\"research_topic\")}.\n",
        "          Here is the report: <report>{ev.report}</report>\n",
        "          Decide whether this report is sufficiently comprehensive.\n",
        "          If it is, respond with just the string \"ACCEPTABLE\" and nothing else.\n",
        "          If it needs more research, suggest some additional questions that could\n",
        "          have been asked.\"\"\")\n",
        "\n",
        "        self.review_cycles += 1\n",
        "\n",
        "        # either it's okay or we've already gone through 3 cycles\n",
        "        if str(result) == \"ACCEPTABLE\" or self.review_cycles >= 3:\n",
        "            return StopEvent(result=ev.report)\n",
        "        else:\n",
        "            ctx.write_event_to_stream(ProgressEvent(msg=\"Sending feedback\"))\n",
        "            return FeedbackEvent(\n",
        "                research_topic=await ctx.get(\"research_topic\"),\n",
        "                feedback=str(result)\n",
        "            )"
      ],
      "metadata": {
        "id": "lrX1sk7-4PDn"
      },
      "execution_count": null,
      "outputs": []
    },
    {
      "cell_type": "code",
      "source": [
        "workflow = DeepResearchWithReflectionWorkflow(timeout=300)\n",
        "handler = workflow.run(\n",
        "    research_topic=\"History of San Francisco\",\n",
        "    question_agent=question_agent,\n",
        "    answer_agent=answer_agent,\n",
        "    report_agent=report_agent,\n",
        "    review_agent=review_agent\n",
        ")\n",
        "\n",
        "async for ev in handler.stream_events():\n",
        "    if isinstance(ev, ProgressEvent):\n",
        "        print(ev.msg)\n",
        "\n",
        "final_result = await handler\n",
        "print(\"==== The report ====\")\n",
        "print(final_result)"
      ],
      "metadata": {
        "colab": {
          "base_uri": "https://localhost:8080/"
        },
        "id": "vaf3OwQG6Nzy",
        "outputId": "5b5f366b-054d-4d3f-abcc-0098e75a24e8"
      },
      "execution_count": null,
      "outputs": [
        {
          "output_type": "stream",
          "name": "stdout",
          "text": [
            "Starting research\n",
            "Research topic is History of San Francisco\n",
            "Received question When and by whom was San Francisco first established as a settlement?\n",
            "            Came up with answer: San Francisco was first established as a settlement in 1776 by Spanish colonists. The Presidio of San Francisco was formally established on September 17, 1776, and Mission San Francisco was founded by Franciscan missionaries around the same time.\n",
            "Collecting answers...\n",
            "Received question Who were the indigenous peoples inhabiting the San Francisco area prior to colonization?\n",
            "            Came up with answer: The indigenous peoples inhabiting the San Francisco area prior to colonization were primarily the Ramaytush Ohlone. They lived along the San Francisco Peninsula for at least 13,500 years and were the stewards of the land that is now San Francisco County. Additionally, the Yelamu, a group of the Ramaytush Ohlone, were specifically associated with the San Francisco area. The Ohlone people, also known as Costanoans, along with the Coastal Miwok, inhabited the broader San Francisco Bay region and relied on the coastal waters and marshes for food and resources.\n",
            "Collecting answers...\n",
            "Received question What are the origins of San Francisco before European settlement?\n",
            "            Came up with answer: Before European settlement, the area now known as San Francisco was inhabited by indigenous peoples, primarily the Ohlone people. The indigenous name for San Francisco was Ahwaste, meaning \"place at the bay.\" The Ohlone were part of a contiguous set of bands living from south of the Golden Gate to San José, and they did not recognize the later imposed city or county boundaries. The earliest inhabitants' exact origins are unclear, but they were the ancestors of the Ohlone population encountered by the Spanish in the late 18th century. The region was rich in natural resources and had a deep cultural significance for these native peoples long before European explorers arrived.\n",
            "Collecting answers...\n",
            "Received question How did the 1906 earthquake and subsequent fire affect the city’s infrastructure and population?\n",
            "            Came up with answer: The 1906 earthquake and subsequent fire had a devastating impact on San Francisco's infrastructure and population. The earthquake caused massive damage to the city's water supply system, which severely hampered firefighting efforts and allowed the fire to spread extensively. Much of the city's infrastructure was destroyed, including homes, businesses, and public utilities. The disaster led to a significant loss of life and displacement of residents.\n",
            "\n",
            "In the aftermath, the city underwent large-scale redevelopment efforts. The destruction removed barriers to redevelopment in many areas, leading to changes in land use and higher residential density in the razed parts of the city. The event also prompted revisions in building codes and advancements in earthquake preparedness and seismology, influencing how cities in earthquake-prone areas prepare for and respond to seismic events.\n",
            "\n",
            "Overall, the earthquake and fire caused widespread destruction and population displacement but also set the stage for urban redevelopment and improvements in disaster preparedness.\n",
            "Collecting answers...\n",
            "Received question What major events shaped San Francisco during the 19th century?\n",
            "            Came up with answer: Major events that shaped San Francisco during the 19th century include:\n",
            "\n",
            "1. The California Gold Rush (starting in 1848 and peaking around 1850), which brought a massive influx of people to San Francisco and rapidly increased its population and economic importance.\n",
            "2. The formation of San Francisco's fire department in 1849, reflecting the city's rapid growth and need for organized public services.\n",
            "3. The beginning of the first cable car service on Clay Street in 1873, marking a significant development in urban transportation.\n",
            "4. The completion of the transcontinental railroad in 1869, which connected San Francisco to the rest of the United States, facilitating the rapid movement of people and goods and enhancing the city's role as a commercial hub.\n",
            "5. The city's rapid growth and prosperity during the 19th century were foundational to its later development into a major metropolitan area.\n",
            "\n",
            "These events collectively contributed to San Francisco's transformation from a small settlement into a thriving, diverse, and economically significant city by the end of the 19th century.\n",
            "Collecting answers...\n",
            "Received question How did the California Gold Rush impact the growth and development of San Francisco?\n",
            "            Came up with answer: The California Gold Rush had a profound impact on the growth and development of San Francisco. Before the Gold Rush, San Francisco was a small, sleepy port town. The discovery of gold in 1848 transformed it almost overnight into a booming city filled with makeshift tent-houses, hotels, stores, saloons, gambling halls, and shanties. The Gold Rush attracted a remarkably diverse population of prospectors, entrepreneurs, and settlers eager to capitalize on the opportunities, which led to rapid population growth and economic expansion.\n",
            "\n",
            "San Francisco became a hub of entrepreneurial activity, supplying miners and serving as a gateway for goods and people heading to the goldfields. This rapid growth forced the city to expand its infrastructure and services quickly. The influx of wealth and people also expedited California's admission into the Union as a state in 1850. Overall, the Gold Rush transformed San Francisco from a modest settlement into a major urban center and economic powerhouse in the American West.\n",
            "Collecting answers...\n",
            "Received question What role did San Francisco play during World War II?\n",
            "            Came up with answer: During World War II, San Francisco played a crucial role as one of the most important seaports, commercial, and manufacturing centers in the United States. The San Francisco Bay Area became known as America's \"Arsenal of Democracy,\" serving as a major shipbuilding hub with a dozen or more major shipyards around the Bay, making it the number one shipbuilding area in the country. The region's shipyards, such as Kaiser's Richmond Shipyard Number Three, produced about 1,400 vessels during the war, averaging a ship a day. Additionally, San Francisco was a key coastal fortress and a critical port of embarkation for the movement of troops and supplies to the Pacific theater. The city's harbor defenses were manned by highly trained personnel who maintained and operated the coastal guns and defense stations. Overall, San Francisco's shipbuilding, military logistics, and coastal defense contributions were vital to the Allied war effort in the Pacific.\n",
            "Collecting answers...\n",
            "Received question What architectural styles and landmarks are significant in San Francisco’s historical development?\n",
            "            Came up with answer: San Francisco's historical development is marked by a rich variety of architectural styles and significant landmarks. Key architectural styles include Victorian-era styles (1870-1910), which are prominent in many neighborhoods, especially known for their ornate detailing and colorful facades. Early Settlement Era styles from 1848-1906 also contribute to the city's architectural heritage. The city also features modern architecture and landscape design from 1935-1970, reflecting its evolution over time.\n",
            "\n",
            "Significant landmarks that have shaped San Francisco's architectural identity include the Golden Gate Bridge, Alcatraz Island, Coit Tower, the Palace of Fine Arts, Lombard Street, Alamo Square, Fort Point, the Transamerica Pyramid, and Chinatown. These landmarks represent various periods and styles, from historic Victorian homes to iconic modern skyscrapers. Grace Cathedral is a notable example of Gothic Revival architecture, inspired by medieval cathedrals, dating to 1927.\n",
            "\n",
            "Overall, San Francisco's architecture is a blend of historic Victorian homes, early 20th-century buildings, and contemporary designs, reflecting its diverse neighborhoods and storied past from the Gold Rush era through post-earthquake rebuilding and modern innovation.\n",
            "Collecting answers...\n",
            "Received question What are some key social and political movements that originated or were prominent in San Francisco?\n",
            "            Came up with answer: Some key social and political movements that originated or were prominent in San Francisco include:\n",
            "\n",
            "1. The Hippie Movement: Originating in the early 1960s, San Francisco was the cultural center of the hippie movement, known for free love, drug use, and communal living. The Summer of Love in 1967 is a notable event associated with this movement.\n",
            "\n",
            "2. Civil Rights Movement: In the early 1960s, San Francisco saw significant civil rights activism challenging entrenched social relationships, racial understandings, and economic status quo, leading to militant efforts for social change and racial justice in the late 1960s.\n",
            "\n",
            "3. LGBTQ+ Rights Movement: San Francisco has been a pivotal city in the modern LGBTQ+ rights movement, with a proliferation of gay bars and the formation of social and political groups. The city played a central role in advancing LGBTQ+ activism and representation, including the establishment of the San Francisco Gay Men's Chorus.\n",
            "\n",
            "4. Progressive Political Activism: Since the social upheavals of the 1960s, San Francisco has been a center of progressive activism, with Democrats and progressives dominating city politics. The city is known for its progressive policies and active political participation.\n",
            "\n",
            "These movements have shaped the cultural, racial, ethnic, and political identities of San Francisco and have had a lasting impact on the city's geography, culture, ecology, and politics.\n",
            "Collecting answers...\n",
            "Received question How did immigration influence the cultural and demographic makeup of San Francisco throughout its history?\n",
            "            Came up with answer: Immigration has profoundly influenced the cultural and demographic makeup of San Francisco throughout its history. The city has long been a gateway for immigrants, shaping its diverse ethnic neighborhoods and cultural identity. Early immigrant groups, such as the Chinese, established vibrant communities like Chinatown, which became financially successful and contributed to greater racial tolerance and acceptance over time. North Beach, another historic immigrant gateway, attracted pioneer immigrants due to its proximity to the port, downtown, and affordable living, developing a distinct character.\n",
            "\n",
            "San Francisco's demographic composition reflects its status as a \"majority-minority city,\" with people of color making up about 58% of the population compared to 42% white. Immigration waves have brought a variety of ethnic groups, each contributing to the city's cultural richness, social networks, and economic development. Despite challenges such as gentrification disrupting long-standing communities, the legacy of immigration remains central to San Francisco's identity, influencing its neighborhoods, cultural institutions, and social fabric.\n",
            "Collecting answers...\n",
            "Received question What challenges has San Francisco faced in terms of urban development and housing over its history?\n",
            "            Came up with answer: San Francisco has faced significant challenges in urban development and housing throughout its history. Key challenges include:\n",
            "\n",
            "1. Limited Land Capacity: The city occupies roughly 47 square miles on the tip of a peninsula, with no ability to expand through bay infill or annexation. This geographic constraint severely limits development potential.\n",
            "\n",
            "2. Built-Out City: San Francisco is largely \"built out,\" meaning almost all available land has already been developed, restricting new housing construction.\n",
            "\n",
            "3. Housing Affordability: The city has struggled with affordable housing production, relying on nonprofit developers, public housing authorities, and market-rate developers to address the need.\n",
            "\n",
            "4. Historical Redevelopment: San Francisco has undergone intense periods of rebuilding, such as after the Gold Rush, the 1906 earthquake and fire, and during the rise of the modern high-rise city, each time facing challenges of urban renewal and displacement.\n",
            "\n",
            "5. Loss of Low-Rent Housing: In the 1970s, the city experienced a loss of low-rent private urban housing stock, exacerbating housing shortages for lower-income residents.\n",
            "\n",
            "Overall, San Francisco's urban development and housing challenges stem from its geographic constraints, historical redevelopment cycles, and ongoing struggles to provide affordable housing amid limited space.\n",
            "Collecting answers...\n",
            "Received question How has San Francisco’s economy evolved from its founding to the present day?\n",
            "            Came up with answer: San Francisco's economy has evolved significantly from its founding to the present day, marked by several distinct phases:\n",
            "\n",
            "1. Gold Rush Era (1848-1850s): San Francisco's economy was transformed by the California Gold Rush starting in 1848. The city rapidly grew from a small settlement to a booming port and commercial hub as miners, merchants, and entrepreneurs flocked to the area. The population surged from about 1,000 to 25,000 within a year, driven by gold prospecting and related trade.\n",
            "\n",
            "2. Late 19th to Early 20th Century: After the Gold Rush, San Francisco developed as a major port and industrial center. Manufacturing and shipping industries expanded, with industrial zones concentrated south of Market Street and Mission Bay. The city became a key gateway for trade and immigration on the West Coast.\n",
            "\n",
            "3. World War II Period: During WWII, San Francisco's economy was crucial due to its strategic port and military installations like the Presidio and Fort Mason. The war effort boosted shipbuilding, military supply industries, and related economic activity.\n",
            "\n",
            "4. Post-War to Late 20th Century: The city experienced suburbanization of manufacturing and growth in service sectors. San Francisco also became a cultural and financial center, with a diversified economy including finance, tourism, and technology emerging.\n",
            "\n",
            "5. Tech Boom (Late 20th Century to Present): The rise of Silicon Valley and the tech industry profoundly reshaped San Francisco's economy. The city became a hub for technology startups, venture capital, and innovation, leading to rapid economic growth, high GDP per capita, and a strong labor market. The tech boom has also driven real estate development and demographic changes.\n",
            "\n",
            "6. Current Trends: San Francisco continues to be a leading global tech and financial center, with ongoing growth in AI and other advanced technologies. The economy is characterized by high wages, low unemployment, and a dynamic mix of industries, though it also faces challenges like housing affordability and economic inequality.\n",
            "\n",
            "Overall, San Francisco's economy evolved from a Gold Rush boomtown to a diversified industrial and port city, and finally to a global technology and innovation hub.\n",
            "Collecting answers...\n",
            "Received question How have San Francisco’s neighborhoods changed over time?\n",
            "            Came up with answer: San Francisco's neighborhoods have changed significantly over time in terms of demographics, culture, and urban development. Historically, the city has been a collection of distinct neighborhoods built around a downtown core, each with its own unique identity. Over the decades, many neighborhoods have undergone drastic physical and social transformations.\n",
            "\n",
            "In recent years, population growth and demographic shifts have notably altered the makeup of neighborhoods. Between 2010 and 2020, San Francisco experienced an 8.5% population increase, largely driven by a growing Asian population. For example, Mission Bay's population nearly doubled in that decade, reflecting dynamic growth and urban development.\n",
            "\n",
            "Demographically, white residents make up about 43.4% of the city's population, Asians about 34.4%, and Black residents about 5.2%. Neighborhoods vary widely: 18 neighborhoods are more than half white, seven are more than half Asian, and only one neighborhood, Bayview-Hunters Point, has a Black population over 25%. The Black population in San Francisco has been declining since the 1970s, continuing a trend of out-migration.\n",
            "\n",
            "Cultural districts have been established to support historically marginalized communities, helping to preserve cultural identity and provide resources. These districts have played a role in community engagement and resilience, especially during public health challenges.\n",
            "\n",
            "Overall, San Francisco's neighborhoods have evolved from historically distinct enclaves to dynamic, diverse communities shaped by immigration, economic changes, urban development, and cultural preservation efforts.\n",
            "Collecting answers...\n",
            "Received question What is the history of San Francisco’s role in LGBTQ+ rights and culture?\n",
            "            Came up with answer: San Francisco has played a pivotal role in LGBTQ+ rights and culture, with its history dating back to the mid-19th century during the Gold Rush era when the city became populated with young men, and homosexuality became more common. The city emerged as a sanctuary and cultural hub for LGBTQ+ individuals, fostering a vibrant community.\n",
            "\n",
            "In the 20th century, San Francisco became a center for LGBTQ+ activism and visibility. One of the most significant figures was Harvey Milk, elected in 1977 to the San Francisco Board of Supervisors, becoming one of the first openly gay elected officials in the U.S. Milk advocated for LGBTQ+ rights and visibility, encouraging people to come out publicly to break down societal prejudices.\n",
            "\n",
            "San Francisco also became known for its LGBTQ+ cultural contributions, including the rise of queer performing arts and the establishment of the San Francisco Gay Men's Chorus, which played a key role in fostering community connections and championing LGBTQ+ representation in the arts.\n",
            "\n",
            "The city has been the site of major LGBTQ+ rights milestones and events, including the annual San Francisco Pride parade, which celebrates the community's resilience and progress. Over decades, San Francisco's LGBTQ+ community has endured pain and perseverance, leading to significant advances in rights and social acceptance both locally and nationally.\n",
            "Collecting answers...\n",
            "Received question How did the tech boom of the late 20th and early 21st centuries transform San Francisco?\n",
            "            Came up with answer: The tech boom of the late 20th and early 21st centuries profoundly transformed San Francisco in several key ways:\n",
            "\n",
            "1. Economic and Industry Shift: San Francisco and the surrounding Bay Area, including Silicon Valley, evolved from a region of orchards, farmland, and small townships into the global epicenter of the technology industry. The rise of Silicon Valley as a hub for technological innovation, entrepreneurship, and venture capital investment positioned the area as the world’s tech capital.\n",
            "\n",
            "2. Urban and Demographic Changes: The influx of tech companies and workers led to significant urban development and gentrification in San Francisco. The city experienced a surge in real estate demand, driving up housing prices and rents. This gentrification often displaced long-time residents and altered the socio-economic fabric of neighborhoods.\n",
            "\n",
            "3. Cultural and Social Impact: The tech boom brought a new culture of innovation and wealth to San Francisco, influencing the city’s identity and lifestyle. However, it also created tensions around affordability, displacement, and the changing character of the city.\n",
            "\n",
            "4. Real Estate and Infrastructure: The demand for office space, housing, and amenities surged, leading to competitive real estate markets and new development projects. The tech boom also impacted local policies and urban planning as the city adapted to rapid growth.\n",
            "\n",
            "Overall, the tech boom transformed San Francisco from a traditional urban center into a dynamic, high-tech metropolis with both opportunities and challenges related to economic growth, social equity, and urban development.\n",
            "Collecting answers...\n",
            "Received question How has San Francisco’s port and maritime industry influenced its history?\n",
            "            Came up with answer: San Francisco's port and maritime industry has been a central influence on the city's history and economic development. For much of its existence, maritime activities were the most important economic sector in San Francisco, with many residents working directly or indirectly in this field. The open piers and waterfront were highly visible public spaces that connected the broader society with maritime labor.\n",
            "\n",
            "Historically, the port served as a major hub for shipping and trade, including significant imports such as coffee from Central and South America, Mexico, and Africa. The waterfront infrastructure, including seawalls, bulkhead wharves, and piers, is recognized as a rare and important engineering heritage.\n",
            "\n",
            "In the mid-20th century, the port was a bustling center of cargo handling, with longshoremen playing a key role in loading and unloading ships. The advent of containerization in the 1960s and 1970s transformed maritime work, reducing the number of cargo-handling jobs but increasing efficiency.\n",
            "\n",
            "Although the Port of Oakland now handles the majority of containerized goods in Northern California, San Francisco's port remains historically significant and continues to be a major waterfront attraction. The Embarcadero Historic District, which includes much of the port area, is preserved as a historic and cultural asset, contributing to the city's identity and tourism economy.\n",
            "\n",
            "Overall, San Francisco's port and maritime industry shaped the city's economic foundation, labor history, urban development, and cultural heritage, making it a defining element of San Francisco's historical narrative.\n",
            "Collecting answers...\n",
            "Received question What are some notable historical figures associated with San Francisco?\n",
            "            Came up with answer: Notable historical figures associated with San Francisco include:\n",
            "\n",
            "- Robert Frost, an influential American poet honored with four Pulitzer Prizes for Poetry and the Congressional Gold Medal.\n",
            "- Theodore Roberts, an American actor born in San Francisco.\n",
            "- Robert Lindley Murray, an American tennis player born in San Francisco.\n",
            "- Will Wright, an American actor born in San Francisco.\n",
            "- James Joseph Sweeney, an American Catholic prelate born in San Francisco.\n",
            "- Lawrence Gray, an American actor born in San Francisco.\n",
            "- John Edmunds, an American composer born in San Francisco.\n",
            "- Tony Martin (Alvin Morris), an American singer born in San Francisco.\n",
            "- Joe Hunt, an American tennis player born in San Francisco.\n",
            "- Famous filmmakers associated with San Francisco include those known for works like \"The Godfather\" series and \"Apocalypse Now.\"\n",
            "- Notable entertainers from San Francisco include figures known for work on shows like \"The Talk\" and \"Whose Line Is It Anyway?\" who have advocated for inclusivity and women's rights.\n",
            "\n",
            "These individuals reflect the diverse cultural, artistic, and social history of San Francisco.\n",
            "Collecting answers...\n",
            "Received question How did San Francisco recover and rebuild after major disasters throughout its history?\n",
            "            Came up with answer: San Francisco has a history of recovering and rebuilding after major disasters through rapid reconstruction efforts, innovation, and community resilience.\n",
            "\n",
            "After the 1906 earthquake and subsequent fires, which destroyed more than 80% of the city and killed about 3,000 people, San Francisco undertook a massive rebuilding effort. The city quickly adopted new technologies and architectural innovations, transforming its structural landscape. Reconstruction was rapid and ambitious, with efforts to jumpstart the economy and rebuild infrastructure. The disaster also led to changes in urban planning and building codes to improve safety. Despite the devastation, the rebuilding produced a sense of wonder with new sights, products, and architecture emerging. However, social divisions were deepened, as poorer neighborhoods suffered more damage and received less attention during recovery.\n",
            "\n",
            "Following the 1989 Loma Prieta earthquake, which caused significant damage and loss of life, San Francisco focused on hazard mitigation, housing recovery, and infrastructure repair. The earthquake led to the removal of unsafe structures like the Embarcadero Freeway and spurred improvements in building codes and emergency preparedness. Recovery efforts emphasized making the city safer and more resilient to future quakes.\n",
            "\n",
            "Overall, San Francisco's recovery from disasters has involved a combination of rapid reconstruction, adoption of new technologies and safety standards, economic revitalization efforts, and community resilience, while also highlighting challenges related to social equity in disaster response.\n",
            "Collecting answers...\n",
            "Received question What historical events have contributed to San Francisco’s reputation as a cultural and artistic hub?\n",
            "            Came up with answer: Several historical events have contributed to San Francisco's reputation as a cultural and artistic hub:\n",
            "\n",
            "1. The California Gold Rush (1848-1855) transformed San Francisco from a small settlement into a bustling metropolis, attracting a diverse population and fostering a vibrant cultural scene.\n",
            "\n",
            "2. The completion of the transcontinental railroad in 1869 connected San Francisco to the rest of the United States, facilitating the movement of people and goods and enhancing the city's role as a commercial and cultural center.\n",
            "\n",
            "3. The 1906 earthquake and fire, while devastating, led to a massive rebuilding effort that shaped the city's unique architectural and cultural landscape.\n",
            "\n",
            "4. The Summer of Love in 1967, centered in the Haight-Ashbury neighborhood, had a lasting impact on American culture and solidified San Francisco's reputation as a center for progressive thought, counterculture, and artistic innovation.\n",
            "\n",
            "5. The San Francisco Pride March, beginning in 1972, grew into one of the largest and most well-known LGBTQIA+ pride events in the world, highlighting the city's role in civil rights activism and cultural diversity.\n",
            "\n",
            "6. San Francisco's history of civil rights activism, including events like the White Night Riots, has contributed to its identity as a forward-thinking city committed to social change.\n",
            "\n",
            "These events, among others, have shaped San Francisco's unique character as a diverse, progressive, and artistically vibrant city.\n",
            "Collecting answers...\n",
            "Received question How has San Francisco’s political landscape evolved from its founding to today?\n",
            "            Came up with answer: San Francisco's political landscape has evolved significantly from its founding to today. Originally inhabited by indigenous peoples, the area saw Spanish colonization in the late 18th century. The city's political development was shaped by rapid growth following the completion of the transcontinental railroad in 1869, which connected San Francisco to the rest of the United States and boosted its role as a commercial hub.\n",
            "\n",
            "In the late 19th and early 20th centuries, San Francisco's politics were marked by labor conflicts, such as the violent waterfront strike of 1901, which contributed to a polarized political environment. The 1906 earthquake and subsequent rebuilding also influenced urban development and political decision-making.\n",
            "\n",
            "Following the social upheavals of the 1960s, San Francisco became a center of progressive activism. Democrats and progressives have since dominated city politics, reflecting the city's liberal and inclusive culture. This trend is evident in local governance and voting patterns, with San Francisco consistently supporting progressive policies and Democratic candidates in presidential elections.\n",
            "\n",
            "Overall, San Francisco's political landscape has transitioned from early labor struggles and urban development challenges to becoming a stronghold of progressive politics and activism in the United States.\n",
            "Generating report...\n",
            "Sending feedback\n",
            "Research topic is History of San Francisco\n",
            "Got feedback: - How did the indigenous Ramaytush Ohlone people specifically interact with and manage the San Francisco environment before European contact?\n",
            "- What were the detailed impacts of Spanish, Mexican, and later American governance on the indigenous populations and their cultures?\n",
            "- How did immigration policies and national events influence the demographic shifts and ethnic compositions of San Francisco over time?\n",
            "- What were the specific social, economic, and political effects of major labor movements and strikes in San Francisco’s history?\n",
            "- How did San Francisco’s role in national and international events (e.g., World Wars, Cold War) shape its development?\n",
            "- What are the environmental and ecological histories of San Francisco, including changes to its natural landscape and waterfront?\n",
            "- How have housing policies and urban planning decisions historically affected issues of segregation, displacement, and gentrification?\n",
            "- What is the history and influence of San Francisco’s educational institutions and intellectual communities?\n",
            "- How have arts, literature, and music scenes evolved in San Francisco, and who were key contributors beyond those mentioned?\n",
            "- What are the histories of lesser-known neighborhoods and communities, including their cultural contributions and challenges?\n",
            "- How have San Francisco’s political movements influenced state and national policies?\n",
            "- What roles have women and other marginalized groups played in shaping the city’s history?\n",
            "- How has San Francisco’s relationship with Silicon Valley and the broader Bay Area evolved economically and socially?\n",
            "- What are the detailed histories of San Francisco’s public health, social services, and responses to crises such as pandemics?\n",
            "- How have transportation developments beyond the cable cars and railroads influenced urban growth and connectivity?\n",
            "\n",
            "These questions would deepen the report’s coverage and provide a more nuanced understanding of San Francisco’s multifaceted history.\n",
            "Received question What changes occurred under Mexican governance in San Francisco, particularly regarding indigenous communities and land use?\n",
            "            Came up with answer: Under Mexican governance in San Francisco, significant changes occurred particularly affecting indigenous communities and land use. After the Mexican Secularization Act of 1833, mission lands were secularized, which meant that the vast mission holdings were broken up and redistributed. However, only a few mission Indians were granted land, while the majority of indigenous people fled the missions and became an exploited laboring class on Mexican ranchos across the state. This secularization dispersed the remaining indigenous populations, dismantling their families and tribal structures. The indigenous communities faced extreme poverty, poor health care, substandard education, and unemployment, problems that have persisted to the present day. Land use shifted from mission-controlled communal lands to private ranchos, often controlled by Mexican landowners, which marginalized indigenous peoples from their ancestral territories. Despite these disruptions, some indigenous lineages and families survived, though their traditional knowledge and social structures were severely weakened.\n",
            "Collecting answers...\n",
            "Received question How did Spanish colonization impact the indigenous populations and their cultures in San Francisco?\n",
            "            Came up with answer: Spanish colonization had a profound and devastating impact on the indigenous populations and their cultures in San Francisco. By 1801, nearly all native people of the San Francisco Peninsula had been brought into Mission Dolores, where about eighty percent of the indigenous population died due to disease, harsh living conditions, and disruption of their traditional ways of life. The mission system dismantled indigenous families and tribes, leading to significant population decline and cultural loss. After the Mexican Secularization Act of 1833, only a few mission Indians were granted land, while most fled the missions and became exploited laborers on Spanish and Mexican ranchos. Despite this, some indigenous lineages and tribes survived but faced ongoing challenges such as extreme poverty, poor healthcare, substandard education, and unemployment. The Spanish imposed their language, Catholic religion, and social structures, which led to the erosion of indigenous languages, religious practices, and cultural traditions. Overall, Spanish colonization resulted in demographic collapse, cultural transformation through forced assimilation, and economic disruption for the native peoples of the San Francisco area.\n",
            "Collecting answers...\n",
            "Received question How did major national events, such as the Gold Rush and the Transcontinental Railroad, affect immigration and population growth in San Francisco?\n",
            "            Came up with answer: Major national events such as the California Gold Rush and the construction of the Transcontinental Railroad had profound effects on immigration and population growth in San Francisco.\n",
            "\n",
            "The Gold Rush, beginning in 1848, transformed San Francisco from a small settlement into a booming city almost overnight. News of gold discovery attracted a massive influx of people from across the United States and around the world, including immigrants from Latin America, Europe, Australia, and China. This rapid migration caused San Francisco's population to swell dramatically; by 1850, California was admitted as a state largely due to this population boom. The city became a hub of entrepreneurial activity, supplying miners and capitalizing on the economic opportunities created by the rush. The Gold Rush also established California as a cultural mosaic and accelerated westward expansion.\n",
            "\n",
            "The completion of the Transcontinental Railroad in 1869 further accelerated San Francisco's growth by connecting the city to the rest of the country. This infrastructure development facilitated easier and faster migration, encouraging more immigrants to settle in San Francisco and other parts of California. By 1900, nearly 40% of San Francisco's population was foreign-born, reflecting the city's role as a major immigration gateway. The railroad also stimulated economic development, creating jobs and attracting workers, including many immigrants, which fueled urbanization and population growth.\n",
            "\n",
            "Together, the Gold Rush and the Transcontinental Railroad transformed San Francisco into a major economic and cultural center with a diverse and rapidly growing population.\n",
            "Collecting answers...\n",
            "Received question What immigration policies influenced the demographic composition of San Francisco throughout its history?\n",
            "            Came up with answer: Several key immigration policies have significantly influenced the demographic composition of San Francisco throughout its history:\n",
            "\n",
            "1. Chinese Exclusion Act (1882): This was the first U.S. law to prohibit immigration based on ethnicity, specifically targeting Chinese immigrants. It severely restricted Chinese immigration to San Francisco and the U.S., leading to a stunted growth of the Chinese population and shaping the development of San Francisco's Chinatown as a segregated ethnic enclave. The act was renewed and made permanent in the early 1900s, reinforcing racial discrimination and limiting Chinese community growth.\n",
            "\n",
            "2. Angel Island Immigration Station (1910-1940): Located in San Francisco Bay, this station served as the main immigration processing center on the West Coast. It detained and interrogated immigrants, especially those from Asia, including an estimated 100,000 Chinese and tens of thousands of Japanese immigrants. The station's strict screening and detention policies reflected and reinforced exclusionary immigration laws, impacting the flow and composition of Asian immigrants entering San Francisco.\n",
            "\n",
            "3. Immigration Act of 1924 (Johnson-Reed Act): This federal law established national origins quotas that drastically limited immigration from Southern and Eastern Europe and completely excluded Asian immigrants. It reflected nativist and xenophobic attitudes and significantly altered the ethnic makeup of immigrants arriving in San Francisco by curtailing groups previously arriving in large numbers.\n",
            "\n",
            "Together, these policies contributed to shaping San Francisco's diverse but segregated immigrant communities, influencing the city's demographic patterns by restricting certain ethnic groups while allowing others, and creating a legacy of racial and ethnic stratification in the population.\n",
            "Collecting answers...\n",
            "Received question How did American annexation and governance transform the social, economic, and cultural landscape of San Francisco?\n",
            "            Came up with answer: American annexation and governance transformed the social, economic, and cultural landscape of San Francisco profoundly, especially following the 1848 Treaty of Guadalupe Hidalgo which ended the Mexican-American War and transferred California to U.S. control. The immediate catalyst for transformation was the California Gold Rush beginning in 1848, which triggered a massive influx of migrants from across the United States and around the world. This rapid population growth turned San Francisco from a small Mexican settlement into a booming economic and cultural hub.\n",
            "\n",
            "Economically, the Gold Rush spurred unprecedented growth. San Francisco became the primary port and commercial center for the gold mining regions, attracting investment, businesses, and infrastructure development. The city evolved into a vital gateway for Pacific trade, linking the U.S. to Asia and the Pacific Rim. The wealth generated accelerated industrial growth and urban development, laying the foundation for San Francisco’s future as a major economic powerhouse.\n",
            "\n",
            "Socially, the annexation and subsequent migration led to significant demographic shifts. The population became highly diverse, including Americans from the East, Europeans, Latin Americans, Chinese immigrants, and others, creating a multicultural mosaic. However, this growth also brought social tensions, including racial and class conflicts, displacement of Native American populations, and challenges related to rapid urbanization such as crime and vice.\n",
            "\n",
            "Culturally, American governance imposed new political and legal institutions, replacing Mexican systems and promoting Anglo-American cultural norms. The city’s cultural identity evolved with influences from its diverse immigrant communities, but also through the dominance of American political power and economic interests. The Gold Rush era accelerated cultural exchange but also led to the marginalization of indigenous and Mexican Californian cultures.\n",
            "\n",
            "In summary, American annexation transformed San Francisco from a modest Mexican town into a dynamic, multicultural metropolis with a booming economy centered on gold and trade, reshaping its social fabric and cultural identity under American political and economic systems.\n",
            "Collecting answers...\n",
            "Received question What is the pre-contact history of the Ramaytush Ohlone people in the San Francisco area, including their social structures and environmental management practices?\n",
            "            Came up with answer: The Ramaytush Ohlone people are the original inhabitants of the San Francisco Peninsula, with a pre-contact population estimated between 1,500 to 2,000 individuals. They were part of a larger socio-linguistic group known as the Ohlone or Costanoan peoples, who lived in over 50 villages and tribes across the region.\n",
            "\n",
            "Socially, the Ramaytush were organized into tribelets or villages, each led by a head or chief. Above the village level, there was a district leader who oversaw the Ramaytush district as a whole. This structure allowed for organized social and political governance within their linguistic territory. For example, the district leader Luciano Tiburcio was based at the village of Pruristac in the Aramai tribelet.\n",
            "\n",
            "In terms of environmental management, the Ramaytush Ohlone had a deep understanding of the interconnectedness of all living things and maintained harmony with nature for millennia. Their land management practices included stewardship of the land to restore and maintain its health, sustainable harvesting of natural resources such as shellfish (with archaeological evidence showing over 7,000 years of shellfish preparation at certain sites), and the use of controlled burns to manage vegetation and promote biodiversity. These practices were integral to their cultural and spiritual values and helped sustain the ecological balance of the San Francisco Peninsula.\n",
            "\n",
            "The Ramaytush also engaged in co-management and stewardship of their ancestral lands, a practice that continues today through organizations like the Ramaytush Land Trust, which aims to restore land health, serve the community, and preserve cultural heritage.\n",
            "\n",
            "Overall, the Ramaytush Ohlone people's pre-contact history reflects a sophisticated social structure and a sustainable, respectful relationship with their environment that allowed them to thrive in the San Francisco area for thousands of years.\n",
            "Collecting answers...\n",
            "Received question In what ways did San Francisco contribute to and experience the impacts of World War I, World War II, and the Cold War?\n",
            "            Came up with answer: San Francisco's contributions and experiences during World War I, World War II, and the Cold War were significant and multifaceted:\n",
            "\n",
            "World War I:\n",
            "- San Francisco played a role in military training and mobilization. Camp Fremont, located near San Francisco, was a major training camp for soldiers during World War I.\n",
            "- The city also saw social tensions and labor struggles during this period, including fights for labor rights such as the eight-hour workday.\n",
            "- The Presidio of San Francisco was a key military installation, with units like the 30th Infantry Regiment contributing to the war effort.\n",
            "\n",
            "World War II:\n",
            "- The San Francisco Bay Area became a critical hub for shipbuilding, known as the \"greatest shipbuilding center in the world\" during the war. Shipyards in the area produced a large percentage of the nation's cargo and warship tonnage.\n",
            "- The region was known as the \"Arsenal of Democracy,\" serving as a major coastal fortress and a pipeline to the Pacific theater.\n",
            "- The area also experienced social changes, including a significant increase in female industrial workers contributing to the war effort.\n",
            "- Japanese American internment affected the region, with assembly centers like the one at Tanforan race track near San Francisco used to detain thousands before they were sent to permanent camps inland.\n",
            "\n",
            "Cold War:\n",
            "- San Francisco was the site of the 1951 San Francisco Peace Treaty, where Japan signed a peace treaty with 48 countries, marking a significant post-World War II diplomatic event.\n",
            "- The treaty and the resulting \"San Francisco System\" had lasting impacts on geopolitical relations in the Asia-Pacific region during the Cold War.\n",
            "- The city and region were involved in the broader strategic and military dynamics of the Cold War, including issues related to U.S.-Japan relations and territorial disputes in the Pacific.\n",
            "\n",
            "Overall, San Francisco was a vital military, industrial, and diplomatic center during these major 20th-century conflicts, experiencing both the direct impacts of war and significant social and economic changes.\n",
            "Collecting answers...\n",
            "Received question What were the key labor movements and strikes in San Francisco, and what social, economic, and political effects did they have?\n",
            "            Came up with answer: Key labor movements and strikes in San Francisco include:\n",
            "\n",
            "1. Early Labor Movement during the Gold Rush Era (1850s): Workers in various trades such as printers, sailors, musicians, cigar makers, dockworkers, and painters began organizing unions. In 1853, the California State legislature passed a progressive labor law limiting work hours to ten per day, reflecting early labor activism.\n",
            "\n",
            "2. The 1901 General Strike on San Francisco's Waterfront: This massive three-month strike involved over 15,000 men from fourteen unions. It was a significant victory for labor, establishing unions permanently in San Francisco and strengthening the labor movement. The strike was seen as a defeat for employers who had resisted unionization.\n",
            "\n",
            "3. The 1934 San Francisco General Strike: One of the most famous labor actions in the city's history, this strike was part of the broader Pacific Coast waterfront strike. It involved longshoremen and other workers and lasted several days. The strike was marked by violent confrontations, including \"Bloody Thursday,\" when police clashed with strikers. It resulted in improved labor conditions and union recognition.\n",
            "\n",
            "Social, economic, and political effects of these labor movements and strikes:\n",
            "\n",
            "- Socially, the strikes fostered solidarity among diverse groups of workers, including immigrants and marginalized communities, strengthening the labor movement's social fabric.\n",
            "\n",
            "- Economically, the strikes led to better wages, working conditions, and hours for workers, contributing to the rise of the middle class and improved standards of living for many laborers.\n",
            "\n",
            "- Politically, the strikes influenced local and national labor policies. For example, the 1934 strike demonstrated the impact of federal labor policy such as the National Industrial Recovery Act and the federal labor board. The strikes also contributed to shifts in political power, with labor unions gaining influence in municipal politics and reforms.\n",
            "\n",
            "- The 1934 strike highlighted the fraying of social bonds during the Great Depression, reflecting broader economic and social tensions.\n",
            "\n",
            "- These labor movements helped establish the right to organize and collective bargaining as fundamental labor rights in San Francisco and beyond.\n",
            "\n",
            "Overall, the key labor movements and strikes in San Francisco played a crucial role in shaping the city's labor landscape, improving workers' rights, and influencing social and political reforms during the late 19th and early 20th centuries.\n",
            "Collecting answers...\n",
            "Received question How has San Francisco’s natural environment and waterfront changed over time due to urban development and ecological factors?\n",
            "            Came up with answer: San Francisco's natural environment and waterfront have undergone significant changes over time due to urban development and ecological factors. Historically, the waterfront was a natural shoreline with wetlands, sloughs, and tidal marshes. Urban development, especially since the California Gold Rush and subsequent city expansions, transformed much of this natural landscape into industrial piers, shipping docks, and urban infrastructure. The construction of the Embarcadero and the filling in of wetlands altered the natural hydrology and habitats.\n",
            "\n",
            "The seawall, built over 100 years ago, protects the city’s waterfront but is now in need of reinforcement due to aging and increasing threats from earthquakes and sea-level rise. Urban development has led to the loss of natural habitats and increased ecological stress on the bay area. The waterfront has also been physically separated from the city by infrastructure like the Embarcadero Freeway (removed in 1991), which had created barriers to public access.\n",
            "\n",
            "Ecologically, the area faces challenges from climate change, including sea-level rise projected to be about 55 inches (140 cm) by the end of the century, threatening urban development and natural habitats. Restoration efforts are underway in areas like Yosemite Slough and Islais Creek to improve ecological resilience and access. The city is also implementing resilience programs such as the Embarcadero Seawall resilience program to protect against flooding and erosion.\n",
            "\n",
            "In summary, San Francisco’s waterfront has shifted from a natural coastal ecosystem to a heavily urbanized and industrialized zone, with ongoing efforts to balance urban development with ecological restoration and climate resilience.\n",
            "Collecting answers...\n",
            "Received question What historical housing policies and urban planning decisions have influenced segregation, displacement, and gentrification in San Francisco?\n",
            "            Came up with answer: Historical housing policies and urban planning decisions have significantly influenced segregation, displacement, and gentrification in San Francisco. Key factors include:\n",
            "\n",
            "1. Segregation and Housing Discrimination:\n",
            "- Throughout the 20th century, institutional discrimination and housing policies segregated African Americans primarily into neighborhoods like Bayview/Hunters Point. This segregation was reinforced by discriminatory practices and lack of effective legislation.\n",
            "- In the 1950s, San Francisco was one of the few West Coast cities that continued segregation in public housing projects, as revealed by a 1952 federal investigation.\n",
            "- Historical housing discrimination, including exclusionary zoning and racially restrictive covenants, contributed to segregated and substandard housing conditions for minority communities.\n",
            "\n",
            "2. Urban Planning and Displacement:\n",
            "- Urban redevelopment and public housing projects often led to displacement of minority and low-income residents. Redevelopment efforts in neighborhoods like the Western Addition and Fillmore District displaced many African American residents.\n",
            "- Recent urban planning efforts have recognized displacement pressures, with strategies like the Mission Action Plan 2030 aimed at combating displacement in gentrifying neighborhoods such as the Mission District.\n",
            "- Data analysis by the city's planning department and academic projects like UC Berkeley's Urban Displacement Project have highlighted ongoing displacement risks in various neighborhoods.\n",
            "\n",
            "3. Gentrification:\n",
            "- The Dot-Com Boom of the 1990s triggered a surge in demand for housing by tech workers, accelerating gentrification in historically poor immigrant neighborhoods, notably the Mission District.\n",
            "- Gentrification has led to rising housing costs, pushing out long-term residents and altering the racial and economic makeup of neighborhoods.\n",
            "- The city has experienced cycles of gentrification and displacement over decades, with ongoing debates about the impacts on ethnic communities and low-income residents.\n",
            "- Mapping and studies show that while some neighborhoods have stabilized, others remain at risk of gentrification and displacement, with significant racial disparities in housing cost burdens.\n",
            "\n",
            "Overall, San Francisco's history of racially discriminatory housing policies, urban renewal projects that displaced minority communities, and economic shifts driven by the tech industry have combined to shape patterns of segregation, displacement, and gentrification in the city. Efforts to address these issues continue through planning initiatives and community advocacy.\n",
            "Collecting answers...\n",
            "Received question How have San Francisco’s educational institutions evolved, and what roles have they played in the city’s intellectual and cultural development?\n",
            "            Came up with answer: San Francisco’s educational institutions have evolved significantly since the mid-19th century, playing a crucial role in the city's intellectual and cultural development. The San Francisco Unified School District (SFUSD), established in 1851, has been central to this evolution, initially reflecting the city's diverse population and later grappling with issues such as segregation and educational inequities. Early education in San Francisco was marked by legalized segregation from 1851 to 1947, which shaped the community's efforts to dismantle these inequities over time.\n",
            "\n",
            "The city's educational landscape includes public schools, Catholic schools, and higher education institutions like the University of San Francisco, which has contributed to teacher education and broader intellectual growth. Catholic schools, such as St. Paul's and Mercy High School, have also played significant roles in the community.\n",
            "\n",
            "Efforts to address educational disparities have included policies like the Student Assignment System (1983-2000) aimed at increasing resources for underserved neighborhoods and promoting diversity in schools. These initiatives reflect ongoing attempts to provide equitable educational opportunities and prepare students from all backgrounds for academic success.\n",
            "\n",
            "Overall, San Francisco’s educational institutions have been instrumental in shaping the city's cultural identity, fostering intellectual growth, and addressing social challenges through education reform and community engagement.\n",
            "Collecting answers...\n",
            "Received question What are the histories and cultural contributions of lesser-known neighborhoods and communities within San Francisco?\n",
            "            Came up with answer: Lesser-known neighborhoods and communities within San Francisco have rich histories and have made significant cultural contributions that shape the city's diverse identity. For example, the Western Neighborhoods, including Richmond, Sunset, West of Twin Peaks, and the Oceanview-Merced-Ingleside (OMI) districts, have unique historical backgrounds preserved by organizations like the Western Neighborhoods Project. These areas reflect the city's expansion and the cultural mosaic of immigrant communities, including Irish, Italian, Chinese, and Filipino populations, contributing to San Francisco's multicultural fabric.\n",
            "\n",
            "The San Francisco Cultural Districts Program, established in 2018, highlights and supports historically marginalized communities by promoting culturally competent city services and policies. This program fosters community visibility, long-term investments, and cultural preservation in neighborhoods such as the Leather & LGBTQ Cultural District, which has played a crucial role in public health and community solidarity.\n",
            "\n",
            "Overall, these lesser-known neighborhoods contribute through their distinct cultural identities, community activism, preservation of local history, and by enriching San Francisco's broader cultural landscape with diverse traditions, arts, and social movements.\n",
            "Collecting answers...\n",
            "Received question How have political movements originating in San Francisco influenced state and national policies?\n",
            "            Came up with answer: Political movements originating in San Francisco have had a significant influence on both state and national policies through various progressive and social reform efforts. Historically, San Francisco was a key battleground for the Progressive Movement in the early 20th century, particularly in fighting corporate influence and corruption, such as the battle against the Southern Pacific Railroad's control over politics. This movement helped inspire reforms that spread throughout California and influenced national policies, with figures like President Theodore Roosevelt supporting these efforts.\n",
            "\n",
            "In more recent decades, San Francisco has been a hub for numerous national and transnational progressive social movements, including civil rights, LGBTQ+ rights, and environmental activism. These movements have shaped cultural, racial, ethnic, and political identities and have had lasting impacts on legislation and policy at the state and national levels. For example, San Francisco's political environment has launched national political careers, including that of Vice President Kamala Harris, reflecting the city's role in shaping broader political discourse.\n",
            "\n",
            "San Francisco's political scene is known for its intense and competitive nature, often described as a \"bare-knuckle fight,\" which has fostered a dynamic environment for social and political change. The city's activism and political movements continue to influence policies related to social justice, equality, and governance both within California and across the United States.\n",
            "Collecting answers...\n",
            "Received question What roles have women and other marginalized groups played in shaping the social, political, and cultural history of San Francisco?\n",
            "            Came up with answer: Women and other marginalized groups have played crucial roles in shaping the social, political, and cultural history of San Francisco. Women in San Francisco have been influential as philanthropic visionaries, architectural innovators, political icons, cultural influencers, scientists, and social leaders. Their contributions span from early suffragists and labor leaders to pioneering public servants and cultural figures who helped shape the city's government, community, and traditions. During significant periods such as World War II, women in the Bay Area were vital to the war effort, with the region having the highest percentage of female industrial workers in the country, reflecting major social and economic changes.\n",
            "\n",
            "Marginalized groups, including Black, Chinese, Mexican, and immigrant communities, have also been central to San Francisco's history. These groups have faced racial discrimination and segregation but have contributed richly to the city's cultural and social fabric. For example, the African American community, despite facing housing discrimination and displacement, has been a significant part of neighborhoods like Bayview/Hunters Point. Chinese and Chinese-American women have been integral to the social and cultural life of Chinatown, one of San Francisco's most iconic neighborhoods. Civil rights movements and protests in the city have highlighted the struggles and activism of marginalized groups fighting against segregation and racial discrimination, shaping the political landscape of San Francisco.\n",
            "\n",
            "Overall, women and marginalized communities have been foundational in the development of San Francisco's identity, influencing its social movements, cultural diversity, political activism, and community building throughout its history.\n",
            "Collecting answers...\n",
            "Received question What is the history of arts, literature, and music in San Francisco, and who are some key figures beyond the most commonly cited contributors?\n",
            "            Came up with answer: The history of arts, literature, and music in San Francisco is rich and multifaceted, shaped by various cultural movements and key figures beyond the most commonly cited contributors.\n",
            "\n",
            "In literature, the San Francisco Renaissance was a significant literary explosion that featured poets and writers such as Kenneth Rexroth, Muriel Rukeyser, William Everson, Robert Duncan, Jack Spicer, and Thomas Parkinson. These figures were part of a vibrant literary community that held regular events and contributed to the city's unique cultural atmosphere.\n",
            "\n",
            "In music, San Francisco's jazz scene, particularly in the North Beach area, played a crucial role in shaping the city's cultural identity. Important musicians included Dave Brubeck, Chet Baker, and Miles Davis, who contributed to the creative spirit of the era. The Fillmore district became a hotbed of music during the 1960s, hosting theaters, dance halls, nightclubs, and music venues that supported the rise of hippie culture and free music. This period marked a transformation in the live music scene in San Francisco.\n",
            "\n",
            "Beyond the well-known figures, these communities and venues fostered a diverse and dynamic cultural environment that influenced arts, literature, and music in the city. The Libertarian Circle, for example, was a literary group that helped prepare the ground for the San Francisco Renaissance, highlighting the collaborative and experimental nature of the city's artistic history.\n",
            "\n",
            "Overall, San Francisco's arts, literature, and music history is characterized by a blend of innovative literary movements, influential jazz and music scenes, and a thriving cultural community that extended beyond the most famous contributors.\n",
            "Collecting answers...\n",
            "Received question How have transportation developments beyond cable cars and railroads, such as highways and public transit systems, influenced San Francisco’s urban growth and connectivity?\n",
            "            Came up with answer: Transportation developments beyond cable cars and railroads, such as highways and public transit systems, have significantly influenced San Francisco's urban growth and connectivity in several ways:\n",
            "\n",
            "1. Highways: The construction of highways like the Central Freeway in the 1950s connected key parts of the city, such as linking the Bayshore/James Lick Freeway (US 101) to the city center. While highways facilitated automobile traffic and regional connectivity, they also impacted the urban landscape and neighborhoods, sometimes dividing communities and shaping patterns of development. Efforts like the Connect4SSF Project aim to improve connections between neighborhoods historically divided by highways and other infrastructure.\n",
            "\n",
            "2. Public Transit Systems: San Francisco's public transit system, managed by agencies like SFMTA, has been shaped by policies at multiple government levels and integrates transit with urban development, housing, and climate change goals. The expansion and improvement of transit services have supported increased development around downtown and other transit-rich areas, promoting higher density and mixed-use growth. Programs such as the California Line Day Pass encourage transit use across the city's hills, enhancing accessibility between neighborhoods.\n",
            "\n",
            "3. Urban Planning and Transportation Integration: Large-scale development projects, such as the Candlestick Point/Hunters Point Shipyard redevelopment, incorporate transportation planning to provide extensive residential units and public spaces while ensuring transit connectivity. The San Francisco Transportation Plan outlines long-term strategies for transportation investments that complement urban growth and improve circulation, equity, and sustainability.\n",
            "\n",
            "Overall, highways initially shaped San Francisco's growth by enabling car travel but also created physical barriers within the city. Public transit systems have increasingly been leveraged to promote more connected, equitable, and sustainable urban development, supporting the city's unique geography and dense urban fabric. The ongoing transportation planning efforts reflect a balance between maintaining connectivity, enhancing transit options, and fostering livable neighborhoods.\n",
            "Collecting answers...\n",
            "Received question What is the history of public health initiatives, social services, and responses to crises such as pandemics in San Francisco?\n",
            "            Came up with answer: The history of public health initiatives in San Francisco dates back to the 19th century, with an early city investment in public health marked by the opening of a smallpox hospital in 1868, which later became the site of San Francisco General Hospital. The city has a robust public health system that evolved through various phases, including the rise of feminist self-help health care in the late 1960s and early 1970s and militant patient advocacy during the AIDS crisis, which significantly improved public health practices. San Francisco's public health efforts have been characterized by scientific expertise, efficiency, and a responsible citizenry, helping the city manage health crises effectively.\n",
            "\n",
            "Social services in San Francisco have a long history as well, with detailed records from the late 19th century showing a sprawling and somewhat chaotic system of social welfare funded and administered by both the city and private citizens. Organizations like Catholic Charities have served the community for over 170 years, providing food, shelter, homelessness prevention, healthcare access, immigration legal services, and disaster recovery. Compass Family Services, founded in 1914, initially helped newcomers during the 1915 World's Fair and has since served vulnerable populations through various historical challenges, including the Great Depression and World War II.\n",
            "\n",
            "San Francisco's responses to pandemics have been shaped by its history of public health activism and medical expertise. The city faced multiple epidemics in the late 19th and early 20th centuries, including smallpox, scarlet fever, typhoid, diphtheria, and cholera. During the 1918 Spanish flu pandemic, San Francisco's mayor James Rolph Jr. managed the crisis amid significant challenges. The city's public health system has also been influenced by the legacy of LGBTQ activism and harm reduction policies, particularly during the AIDS crisis, which helped shape its response to the COVID-19 pandemic. San Francisco's combination of a strong public health infrastructure and an informed, engaged community has been crucial in managing pandemics and other health emergencies over time.\n",
            "Collecting answers...\n",
            "Received question How has the economic and social relationship between San Francisco and Silicon Valley developed over time?\n",
            "            Came up with answer: The economic and social relationship between San Francisco and Silicon Valley has evolved significantly over time, shaped by the growth of the tech industry and regional dynamics.\n",
            "\n",
            "Economically, Silicon Valley emerged as a global center for technology and innovation, rooted in the development of the electronics industry in the San Francisco Bay Area. Early companies like Hewlett-Packard and Fairchild Semiconductor laid the groundwork for a tech ecosystem that expanded rapidly. Silicon Valley's success was driven by a combination of factors including world-class research universities, corporate R&D labs, venture capital, and a culture valuing innovation and technical brilliance. This economic powerhouse influenced San Francisco by extending the tech industry's reach into the city, transforming its business landscape and creating new opportunities. San Francisco became a hub for tech startups, venture capital firms, and service providers supporting the tech economy.\n",
            "\n",
            "Socially, the relationship has been complex and transformative. The influx of tech workers and wealth from Silicon Valley has reshaped San Francisco's urban landscape, contributing to gentrification and rising living costs. This has led to tensions around housing affordability, displacement of long-time residents, and changes in the city's cultural fabric. The tech sector's presence has also influenced social dynamics, with new communities forming around the industry but also highlighting issues of income inequality and social stratification. The Bay Area as a whole, including both San Francisco and Silicon Valley, reflects a blend of innovation-driven growth and the challenges of managing rapid economic and social change.\n",
            "\n",
            "Overall, the economic and social relationship between San Francisco and Silicon Valley is characterized by deep interconnection: Silicon Valley's technological and economic dynamism fuels San Francisco's transformation, while the city provides a vibrant urban environment that attracts talent and investment, even as it grapples with the social consequences of this growth.\n",
            "Generating report...\n",
            "Sending feedback\n",
            "Research topic is History of San Francisco\n",
            "Got feedback: 1. How did San Francisco’s indigenous populations adapt culturally and socially in the post-colonial and American annexation periods beyond land dispossession?  \n",
            "2. What were the specific impacts of lesser-known immigrant groups (e.g., Filipino, Japanese, Irish) on San Francisco’s social, cultural, and economic development?  \n",
            "3. How did San Francisco’s LGBTQ+ community evolve historically, and what were key events and figures in its development?  \n",
            "4. What role did San Francisco play in national and international political movements beyond the Progressive Era, such as anti-war protests or environmental activism in the late 20th century?  \n",
            "5. How have San Francisco’s public policies addressed homelessness and poverty historically and in contemporary times?  \n",
            "6. What is the detailed history of San Francisco’s Chinatown and other ethnic enclaves in terms of cultural preservation, economic contributions, and challenges?  \n",
            "7. How did San Francisco’s arts and cultural scenes influence or interact with broader American cultural trends throughout the 20th century?  \n",
            "8. What were the environmental justice issues related to industrialization and urban development in marginalized neighborhoods?  \n",
            "9. How did San Francisco’s role as a port city influence its economic and social history, including maritime labor and trade networks?  \n",
            "10. What are the histories and contributions of San Francisco’s Native American communities in the 20th and 21st centuries beyond early colonial impacts?\n",
            "Received question What were the effects of Mexican rule on San Francisco before American annexation?\n",
            "            Came up with answer: Before American annexation, Mexican rule had several effects on San Francisco. Under Mexican control from 1821 to 1846, San Francisco, then known as Yerba Buena, was a small but growing settlement centered around the Presidio and the Mission. The Mexican government secularized the missions, redistributing land through large land grants (ranchos) to private individuals, which shaped land ownership patterns. The Presidio community expanded beyond its original Spanish fortifications, and trade restrictions were relaxed, allowing more local commerce. Mexican rule also saw the development of ranching and agriculture in the area. However, the population remained small and the settlement was relatively undeveloped compared to later American growth. The Mexican period ended in 1846 when U.S. forces occupied San Francisco during the Mexican-American War, raising the American flag and beginning the transition to American governance.\n",
            "Collecting answers...\n",
            "Received question How did Spanish colonization impact the indigenous peoples of San Francisco?\n",
            "            Came up with answer: Spanish colonization had a profound and devastating impact on the indigenous peoples of San Francisco, particularly the Ohlone people. The Spanish established missions, such as Mission Dolores in 1776, with the goal of converting Native peoples into loyal Spanish citizens. This mission system disrupted traditional Ohlone social structures, suppressed their languages and cultural practices, and introduced diseases that decimated their populations. By 1801, nearly all native people of the San Francisco Peninsula had been incorporated into Mission Dolores, and about eighty percent of the indigenous population had died. After the Mexican Secularization Act of 1833, only a few mission Indians were granted land, while most were displaced and became exploited laborers on Spanish and Mexican ranchos. The missionization process dismantled families and tribes, leading to extreme poverty, poor health care, substandard education, and unemployment among the surviving indigenous peoples—challenges that persist to this day. Despite these hardships, some Ohlone lineages and tribes survived, maintaining a degree of cultural identity amid ongoing adversity.\n",
            "Collecting answers...\n",
            "Received question How did indigenous communities culturally and socially adapt after American annexation beyond land loss?\n",
            "            Came up with answer: After American annexation, indigenous communities culturally and socially adapted in several significant ways beyond the loss of their lands. They faced pressures to assimilate into mainstream American society, which included shifts from communal landholding to individual land ownership, Christian worship, and formal education, especially through boarding schools that forbade native languages and traditions. This assimilation disrupted traditional social structures and cultural practices.\n",
            "\n",
            "Despite these pressures, indigenous peoples demonstrated resilience by adapting to new economic systems and environments. They engaged with the market economy and found ways to maintain community cohesion. New religious movements such as the Ghost Dance and peyote religion emerged, blending Native and Christian elements to resist colonial domination and assert cultural identity.\n",
            "\n",
            "Indigenous communities also navigated the loss of language and traditional practices imposed by American policies, often finding ways to preserve and transform their cultural heritage under difficult circumstances. This included a combination of resistance, adaptation, and innovation in social and religious life to sustain their identities in the face of American hegemony.\n",
            "Collecting answers...\n",
            "Received question What is the pre-colonial history of the indigenous populations in the San Francisco area?\n",
            "            Came up with answer: The pre-colonial history of the indigenous populations in the San Francisco area centers primarily on the Ohlone people, who have inhabited the region for over 8,000 to 10,000 years. The Ohlone were not a single unified tribe but rather a collection of autonomous bands, each with its own dialect and cultural variations. They lived throughout the San Francisco Peninsula, the East Bay, and south to Monterey. The Ohlone people had a rich cultural heritage and traditional environmental knowledge, living in harmony with the land and its resources.\n",
            "\n",
            "Archaeological evidence, such as obsidian artifacts found near Crissy Field, indicates a long-standing presence of Native Americans in the area. The Ohlone practiced hunting, gathering, and fishing, and their social structures and cultural practices were well adapted to the diverse ecosystems of the Bay Area.\n",
            "\n",
            "The arrival of Spanish colonizers in the late 18th century, marked by the establishment of Mission Dolores in 1776, brought significant disruption. The Spanish missions aimed to convert the indigenous populations to Christianity and integrate them into the colonial economy, which led to the suppression of traditional Ohlone languages and practices. European diseases and displacement severely decimated the Ohlone population and weakened their social structures.\n",
            "\n",
            "Despite these challenges, some Ohlone communities have managed to retain aspects of their cultural identity and continue to work toward preserving their heritage and ancestral lands in the San Francisco Bay Area.\n",
            "Collecting answers...\n",
            "Received question How did Filipino immigrants contribute to San Francisco’s social, cultural, and economic development?\n",
            "            Came up with answer: Filipino immigrants have significantly contributed to San Francisco's social, cultural, and economic development in several ways. Socially, organizations like the Filipino-American Development Foundation (FADF) have strengthened the well-being of the Filipino community by providing access to resources, financial support, and opportunities for connection and networking among families, educators, students, elders, artists, and community leaders. Culturally, the Filipino community has established the SOMA Pilipinas Cultural District in the South of Market (SoMa) neighborhood, which is the only Filipino Cultural Heritage District of its kind in the United States. This district serves as a hub for preserving and promoting Filipino heritage, history, and legacy through creative place-keeping initiatives and cultural events. Economically, Filipino immigrants have contributed by supporting small businesses and community spaces that foster economic activity and resilience, despite challenges such as gentrification and the COVID-19 pandemic. Efforts like the establishment of city-owned public spaces such as Kapwa Gardens provide safe spaces for Filipino families and help maintain the community's presence and economic vitality in San Francisco.\n",
            "Collecting answers...\n",
            "Received question What roles did Japanese immigrants play in shaping San Francisco’s communities and economy?\n",
            "            Came up with answer: Japanese immigrants played significant roles in shaping San Francisco’s communities and economy through various contributions. They established a vibrant ethnic community with important organizations such as the Japanese Association of America, Buddhist Churches, ethnic Christian groups, and Japanese-language schools for the Nisei (second-generation Japanese Americans). They developed thriving Japanese businesses and financial institutions that served both Japanese and other Americans in San Francisco and beyond. The Japanese immigrant community helped reshape San Francisco’s social, economic, and cultural ties with Japan and Asia from the early 20th century through the 1960s. Their business activities included operating shops, banks, and cultural institutions that became integral parts of the city's economy and cultural landscape. Despite facing challenges such as labor resentment and segregation policies, Japanese immigrants contributed to the economic vitality and multicultural fabric of San Francisco, particularly in neighborhoods like Nihonjin-Machi (Japantown).\n",
            "Collecting answers...\n",
            "Received question How did Irish immigrants influence the city’s labor movements and political landscape?\n",
            "            Came up with answer: Irish immigrants significantly influenced the city's labor movements and political landscape by playing key roles in labor and suffrage movements, often bridging working-class immigrants and middle-class whites. They helped build powerful political machines in U.S. cities during the late 19th and early 20th centuries, which were capable of mobilizing votes and creating social services before government programs existed. Irish Americans were also instrumental in advocating for workers' rights, with figures like Peter McGuire, born to Irish immigrants, proposing national holidays for workers. Their involvement in labor movements and politics helped shape urban political power structures and labor advocacy in American cities.\n",
            "Collecting answers...\n",
            "Received question What were the major waves of immigration to San Francisco in the 19th and early 20th centuries?\n",
            "            Came up with answer: The major waves of immigration to San Francisco in the 19th and early 20th centuries included:\n",
            "\n",
            "1. The California Gold Rush (starting in 1849) attracted a large influx of immigrants, including many Chinese laborers who came to work in the gold mines and later on the railroads. This was one of the earliest significant waves of immigration to San Francisco.\n",
            "\n",
            "2. During the 1870s and 1880s, immigrants from Germany, Ireland, and England were principal sources of immigration to the United States, including San Francisco.\n",
            "\n",
            "3. The late 19th and early 20th centuries saw large groups of immigrants from northern and western Europe arriving in the United States, many settling in cities like San Francisco.\n",
            "\n",
            "4. Angel Island Immigration Station in San Francisco Bay processed thousands of immigrants, especially Asians, between 1910 and 1940. This period saw significant Asian immigration, particularly from China, until restrictive laws like the Chinese Exclusion Act of 1882 limited immigration.\n",
            "\n",
            "Overall, the major waves included Chinese immigrants during the Gold Rush and early railroad construction, European immigrants (German, Irish, English, and others) in the late 19th century, and continued Asian immigration processed through Angel Island in the early 20th century.\n",
            "Collecting answers...\n",
            "Received question How have public policies in San Francisco historically addressed homelessness and poverty?\n",
            "            Came up with answer: Public policies in San Francisco have historically addressed homelessness and poverty through various efforts by city leadership, but these efforts have largely struggled to significantly reduce homelessness. Since the 1970s, San Francisco has faced persistent challenges with homelessness, with every mayor from 1982 onward implementing different policies and plans to mitigate the issue. Despite numerous task forces and initiatives, the number of people living on the streets has remained high.\n",
            "\n",
            "Key factors complicating policy success include economic inequality, a shortage of affordable housing, and social neglect. For example, from 2012 to 2017, San Francisco added 400,000 jobs but only built 60,000 housing units, exacerbating housing scarcity. The city's mild climate also makes outdoor living more survivable year-round, increasing the visibility of homelessness.\n",
            "\n",
            "San Francisco has been criticized for its treatment of the homeless, being named one of the meanest cities to its homeless population by national organizations. Some policies have focused on low-level crimes in areas with high homelessness, such as the Tenderloin district, through initiatives like the Community Justice Center.\n",
            "\n",
            "Overall, San Francisco's public policies have involved a mix of housing efforts, social services, and law enforcement approaches, but the city continues to grapple with high rates of chronic homelessness and poverty, reflecting the complexity and persistence of these issues.\n",
            "Collecting answers...\n",
            "Received question What were the major anti-war protests and environmental activism movements in San Francisco during the late 20th century?\n",
            "            Came up with answer: Major anti-war protests in San Francisco during the late 20th century were prominently linked to opposition to the Vietnam War. Key events include:\n",
            "\n",
            "- April 15, 1967: Large-scale anti-Vietnam War demonstrations took place in San Francisco alongside other cities like New York. These protests featured draft card burnings and speeches by notable figures such as Reverend Martin Luther King Jr.\n",
            "- April 24, 1971: Approximately 150,000 people marched in San Francisco in a massive rally against the Vietnam War, coinciding with the largest-ever anti-war demonstration in Washington, D.C. This event was supported by groups like the Vietnam Veterans Against the War, who staged a week-long series of demonstrations.\n",
            "\n",
            "Regarding environmental activism movements in San Francisco during the late 20th century:\n",
            "\n",
            "- The San Francisco Bay Area was a significant hub for environmental activism throughout the 20th century, with efforts to preserve natural spaces especially gaining momentum after the 1906 earthquake and fire.\n",
            "- Environmental activism in the region evolved to address broader ecological concerns, including pollution, wildlife preservation, and sustainable land use.\n",
            "- The Bay Area activists were part of the larger environmental movement that emerged in the 1960s, which called for new dialogues on how the Earth should be treated and raised awareness about environmental degradation.\n",
            "- Local activism included campaigns to protect natural habitats, fight pollution, and influence policy changes, reflecting the national environmental movement's milestones such as the establishment of the Endangered Species Act and international agreements like CITES.\n",
            "\n",
            "In summary, San Francisco's late 20th-century history is marked by significant anti-Vietnam War protests with large public demonstrations and a robust environmental activism movement that contributed to both local and national environmental awareness and policy.\n",
            "Collecting answers...\n",
            "Received question What contemporary strategies has the city implemented to combat homelessness and economic inequality?\n",
            "            Came up with answer: Contemporary strategies cities have implemented to combat homelessness and economic inequality include building more affordable housing, piloting guaranteed minimum income programs, and improving the effectiveness of homelessness response systems. These systems typically involve coordinated outreach to unsheltered individuals, coordinated entry processes, targeted homelessness prevention and diversion, emergency shelter, rapid rehousing, and wraparound supportive services during and after homelessness. Cities also use data-driven approaches to prioritize those with the most significant needs and commit housing resources such as Housing Choice vouchers and public housing units specifically for people experiencing chronic homelessness. Additionally, some cities adopt frameworks that allow for local flexibility and tailoring based on community-specific needs and resources.\n",
            "Collecting answers...\n",
            "Received question How did San Francisco participate in national and international political movements beyond the Progressive Era?\n",
            "            Came up with answer: Beyond the Progressive Era, San Francisco played a significant role in various national and international political movements. After the social upheavals of the 1960s, the city became a center of progressive activism, with Democrats and progressives dominating local politics. San Francisco was pivotal in the civil rights movement, anti-war protests, and especially the LGBTQ+ rights movement. The city was home to early gay civil rights organizations like the Society for Individual Rights formed in the 1960s and became a hub for LGBTQ+ activism, including the rise of queer performing arts and the San Francisco Gay Men's Chorus. San Francisco also contributed to the environmental movement and feminist activism. Its political culture has been influential in shaping broader national conversations on progressive politics, social justice, and equality.\n",
            "Collecting answers...\n",
            "Received question What is the history of San Francisco’s LGBTQ+ community, including key events and influential figures?\n",
            "            Came up with answer: The history of San Francisco’s LGBTQ+ community is rich and influential, marked by key events and figures that have shaped both local and national LGBTQ+ rights movements.\n",
            "\n",
            "San Francisco has long been recognized as one of the original \"gay-friendly cities\" in the United States, with one of the largest and most prominent LGBTQ+ communities. The city became a hub for LGBTQ+ culture and activism, especially from the mid-20th century onward.\n",
            "\n",
            "One of the most influential figures in San Francisco’s LGBTQ+ history is Harvey Milk, who in 1977 became one of the first openly gay elected officials in the United States when he won a seat on the San Francisco Board of Supervisors. Milk was a passionate advocate for LGBTQ+ rights and visibility, encouraging people to come out publicly to break down societal prejudices. His political career and activism made him a symbol of hope and progress for the community. Tragically, Milk was assassinated in 1978, but his legacy continues to inspire LGBTQ+ activism.\n",
            "\n",
            "Key events in the history of San Francisco’s LGBTQ+ community include:\n",
            "- The rise of LGBTQ+ activism in the 1960s and 1970s, including the formation of organizations such as the Gay Liberation Front.\n",
            "- The fight against discriminatory laws and propositions, such as Harvey Milk’s campaign against California’s Proposition 6, which sought to ban gay and lesbian people from working in public schools.\n",
            "- The emergence of the San Francisco Gay Men’s Chorus in the late 1970s, which became a cultural and activist force, intertwining queer performing arts with the movement for equality.\n",
            "- The devastating impact of the AIDS crisis in the 1980s and 1990s, which deeply affected the San Francisco LGBTQ+ community, leading to increased activism and advocacy for healthcare and rights.\n",
            "- In 2004, San Francisco Mayor Gavin Newsom made headlines by authorizing marriage licenses for same-sex couples, a landmark moment in the fight for marriage equality.\n",
            "\n",
            "San Francisco’s LGBTQ+ community has been central to the broader American LGBTQ+ rights movement, with its history characterized by resilience, activism, and cultural contributions that continue to influence the fight for equality today.\n",
            "Collecting answers...\n",
            "Received question How have other ethnic enclaves in San Francisco maintained their cultural identities and faced challenges?\n",
            "            Came up with answer: Ethnic enclaves in San Francisco, such as Chinatown and other cultural districts, have maintained their cultural identities by serving as essential refuges where immigrants find work, housing, and protection from hostility. These neighborhoods embody unique cultural heritages through concentrations of cultural and historic assets, culturally significant enterprises, arts, services, and businesses. The city has recognized these areas through programs like the Cultural Districts Initiative, which supports community-led efforts to preserve cultural identity, stabilize housing, and promote economic sustainability.\n",
            "\n",
            "However, these enclaves face significant challenges, including gentrification driven by rising rents and an influx of new workers, which threatens to displace long-term residents and erode cultural character. Globalization and slow housing growth contribute to homogenization and loss of distinct neighborhood identities. Efforts to maintain these communities involve strategic planning and collaboration between city departments and community groups to implement cultural stabilization strategies, housing protections, and economic sustainability plans. Despite these challenges, these enclaves continue to stand as living reminders of their cultural struggles and resilience.\n",
            "Collecting answers...\n",
            "Received question What is the detailed history of San Francisco’s Chinatown in terms of cultural preservation and economic contributions?\n",
            "            Came up with answer: San Francisco’s Chinatown, the oldest and one of the largest Chinese communities in North America, has a rich history marked by cultural preservation and significant economic contributions.\n",
            "\n",
            "Cultural Preservation:\n",
            "San Francisco’s Chinatown emerged in the mid-19th century during the California Gold Rush when Chinese immigrants arrived in large numbers. Despite facing severe discrimination, including race riots and exclusionary laws, the community established a vibrant enclave that preserved Chinese cultural traditions. Key organizations like the Chinese Consolidated Benevolent Association (Chinese Six Companies) played a crucial role in advocating for the community and maintaining social order. Cultural landmarks such as the Great Star Theater (formerly Great China Theatre), built in 1925, have been central to preserving Chinese opera and performing arts, celebrating over a century of continuous cultural engagement. Chinatown has maintained its unique architectural style, festivals, language, and culinary traditions, serving as a cultural anchor for Chinese Americans and a symbol of resilience.\n",
            "\n",
            "Economic Contributions:\n",
            "Economically, San Francisco’s Chinatown has been a hub of commerce and entrepreneurship since its inception. Chinese merchants and small business owners established shops, restaurants, and import-export businesses that catered both to the local community and tourists. The neighborhood became a self-sufficient economic system with strong social networks supporting small businesses. Chinatown’s economy has historically relied on trade connections with China, importing goods that fueled local commerce. Despite challenges such as the 1906 earthquake and ongoing economic pressures, Chinatown has remained a vital economic engine in San Francisco, contributing to tourism, retail, and cultural industries. Its businesses have adapted over time, continuing to provide jobs and economic opportunities while preserving cultural heritage.\n",
            "\n",
            "In summary, San Francisco’s Chinatown stands as a testament to the perseverance of Chinese immigrants who preserved their cultural identity through community institutions and cultural landmarks while making enduring economic contributions through vibrant commerce and entrepreneurship.\n",
            "Collecting answers...\n",
            "Received question In what ways did San Francisco’s arts and cultural scenes influence broader American cultural trends in the 20th century?\n",
            "            Came up with answer: San Francisco's arts and cultural scenes significantly influenced broader American cultural trends in the 20th century in several key ways:\n",
            "\n",
            "1. The Beat Movement: San Francisco was a central hub for the Beat Generation, particularly through the publication of Allen Ginsberg's seminal poem \"Howl\" by City Lights Books in the mid-1950s. This movement emphasized freedom, personal expression, and a challenge to mainstream American culture, deeply impacting American literature, poetry, and countercultural attitudes.\n",
            "\n",
            "2. American Modernism and Avant-Garde Art: During the mid-20th century, San Francisco embraced American modernism and was engaged with the international avant-garde art scene. Although smaller than New York's art scene, San Francisco contributed to the development and dissemination of modernist art trends on the West Coast and nationally.\n",
            "\n",
            "3. Asian-American Cultural Contributions: San Francisco's Chinatown, the first in the United States, played a significant role in shaping cultural diversity and influencing California's composers and the broader American music scene, highlighting the city's role in integrating Asian-American cultural elements into the national cultural fabric.\n",
            "\n",
            "Overall, San Francisco's arts and cultural scenes fostered innovation, diversity, and countercultural movements that resonated across the United States throughout the 20th century.\n",
            "Collecting answers...\n",
            "Received question What environmental justice issues arose from industrialization and urban development in marginalized San Francisco neighborhoods?\n",
            "            Came up with answer: Environmental justice issues in marginalized San Francisco neighborhoods arose from industrialization and urban development in several ways. Historically, neighborhoods like Bayview-Hunters Point, a predominantly Black community, were bordered by industrial facilities and a toxic military base, leading to long-term exposure to pollution and environmental hazards. Residents faced multi-generational challenges related to housing, health, and environmental contamination. These communities often experienced slower toxic waste cleanups and were disproportionately exposed to air pollution and environmental stressors due to proximity to industrial sites and freeways. Additionally, urban renewal efforts in the 1960s led to displacement through bulldozers and eviction notices, exacerbating social and environmental inequities. These issues have spurred local organizing and the emergence of environmental justice organizations focused on improving living conditions, health outcomes, and advocating for equitable environmental policies in these underserved neighborhoods.\n",
            "Collecting answers...\n",
            "Received question What was the role of maritime labor and trade networks in the city’s development?\n",
            "            Came up with answer: Maritime labor and trade networks played a crucial role in the development of cities by facilitating trade, economic growth, and population concentration along coastlines. Historically, maritime transport connected cities through extensive trade networks, such as those of the Hanseatic League and Italian and Asian city-states, which acted as systems of interconnected urban centers. These networks enabled the flow of goods, labor, and capital, contributing to the economic vitality and expansion of port cities. The presence of navigable waters influenced urban planning and architecture, with port cities often serving as important nodes in global maritime markets. The labor involved in maritime activities supported the operation and growth of these trade networks, reinforcing the city's role in regional and global commerce. Additionally, the interaction between ports and their cities shaped urban development, sometimes leading to conflicts but also opportunities for waterfront redevelopment and stronger integration between maritime functions and urban life. Overall, maritime labor and trade networks were fundamental in shaping the economic and spatial development of cities, especially those located on coastlines.\n",
            "Collecting answers...\n",
            "Received question How did San Francisco’s status as a port city shape its economic and social history?\n",
            "            Came up with answer: San Francisco’s status as a port city profoundly shaped its economic and social history by making it a critical hub for trade, commerce, and immigration. The port attracted sailors, longshoremen, and workers in factories, warehouses, and offices, deeply influencing the daily lives of a large portion of the population. In the mid-19th century, San Francisco transformed from a muddy cove into a global port, which fueled rapid urban growth and economic development. The completion of the transcontinental railroad in 1869 further connected San Francisco to the rest of the United States, enhancing its role as a commercial hub for the movement of people and goods. The port's activity fostered a diverse and dynamic social fabric, with a mix of cultures and communities drawn by economic opportunities. Over time, while the port's role in shipping diminished compared to nearby ports like Oakland, its historic waterfront remains a significant cultural and economic attraction, reflecting its enduring legacy in shaping the city's identity and economy.\n",
            "Collecting answers...\n",
            "Received question What are the histories and contributions of San Francisco’s Native American communities in the 20th and 21st centuries beyond early colonial impacts?\n",
            "            Came up with answer: San Francisco’s Native American communities in the 20th and 21st centuries have a rich history of resilience, cultural preservation, and activism beyond the early colonial impacts. Throughout the 20th century, Indigenous people in San Francisco formed multi-tribal communities, often composed of families relocated from various parts of the country. Despite lacking land of their own and facing socioeconomic challenges, these communities maintained cultural ties and identity.\n",
            "\n",
            "A landmark moment in Native American activism in San Francisco was the 1969-1971 occupation of Alcatraz Island by Native American activists. This occupation was a powerful assertion of Indigenous rights and sovereignty, drawing national attention to Native issues and inspiring further activism.\n",
            "\n",
            "In recent decades, San Francisco has seen efforts to indigenize the city and honor Native heritage more visibly. The establishment of the American Indian Cultural District (AICD) in 2020 marked a significant contribution to recognizing and celebrating American Indian legacy, culture, and people in the city. The AICD advocates for equitable resources, funding, and opportunities for Native communities and organizes cultural events, educational programs, and community celebrations to raise awareness and visibility of Native contributions.\n",
            "\n",
            "San Francisco’s Native American communities have contributed culturally through arts, education, and activism, working to preserve their heritage and influence the city’s cultural landscape. Despite being a small percentage of the population, Native Americans in San Francisco continue to assert their presence and impact through organizations like the AICD and various cultural initiatives, ensuring their histories and contributions are recognized and celebrated in the 20th and 21st centuries.\n",
            "Generating report...\n",
            "==== The report ====\n",
            "**Comprehensive Report on the History of San Francisco**\n",
            "\n",
            "---\n",
            "\n",
            "### Introduction\n",
            "\n",
            "San Francisco’s history is a complex tapestry woven from indigenous heritage, colonial encounters, waves of immigration, economic transformations, social movements, and cultural innovations. From its pre-colonial roots as the homeland of the Ohlone people to its emergence as a global port city and a beacon of progressive activism, San Francisco’s development reflects broader themes of resilience, diversity, and adaptation. This report synthesizes key historical phases and themes, highlighting the city’s indigenous origins, colonial impacts, immigrant contributions, social and political movements, economic evolution, and contemporary challenges.\n",
            "\n",
            "---\n",
            "\n",
            "### 1. Indigenous Foundations and Pre-Colonial History\n",
            "\n",
            "The San Francisco Bay Area was originally inhabited for over 8,000 to 10,000 years by the Ohlone people, a collection of autonomous bands with distinct dialects and cultural practices. The Ohlone lived in harmony with the region’s diverse ecosystems, practicing hunting, gathering, and fishing, and developing rich social and environmental knowledge. Archaeological evidence, such as obsidian artifacts near Crissy Field, attests to their long-standing presence.\n",
            "\n",
            "---\n",
            "\n",
            "### 2. Spanish Colonization and Its Impact on Indigenous Peoples\n",
            "\n",
            "Spanish colonization began in 1776 with the establishment of Mission Dolores, aiming to convert the Ohlone and other indigenous peoples to Christianity and integrate them into the colonial economy. This mission system profoundly disrupted indigenous social structures, suppressed native languages and cultural practices, and introduced diseases that decimated populations—by 1801, about 80% of the indigenous population had died. The missionization process dismantled families and tribes, leading to poverty, poor health, and unemployment among survivors. After the Mexican Secularization Act of 1833, most indigenous people were displaced and exploited as laborers on ranchos, with only a few granted land.\n",
            "\n",
            "---\n",
            "\n",
            "### 3. Mexican Rule and Transition to American Governance\n",
            "\n",
            "From 1821 to 1846, under Mexican rule, San Francisco—then known as Yerba Buena—was a small but growing settlement centered around the Presidio and Mission Dolores. The Mexican government secularized missions and redistributed land through large ranchos, shaping land ownership patterns. Trade restrictions were relaxed, fostering local commerce, and ranching and agriculture developed. However, the population remained small and the settlement relatively undeveloped compared to later American growth. Mexican rule ended in 1846 when U.S. forces occupied the area during the Mexican-American War, raising the American flag and initiating American governance.\n",
            "\n",
            "---\n",
            "\n",
            "### 4. Indigenous Adaptation Post-American Annexation\n",
            "\n",
            "Following American annexation, indigenous communities faced intensified pressures to assimilate, including shifts to individual land ownership, Christian worship, and formal education systems that suppressed native languages and traditions. Boarding schools further disrupted cultural continuity. Despite these challenges, indigenous peoples demonstrated resilience by adapting economically, maintaining community cohesion, and developing new religious movements blending Native and Christian elements, such as the Ghost Dance and peyote religion. These adaptations reflected a combination of resistance, innovation, and cultural preservation amid ongoing adversity.\n",
            "\n",
            "---\n",
            "\n",
            "### 5. Immigration Waves and Ethnic Communities\n",
            "\n",
            "San Francisco’s demographic and cultural landscape was profoundly shaped by successive waves of immigration:\n",
            "\n",
            "- **Mid-19th Century (Gold Rush Era):** The 1849 California Gold Rush attracted a large influx of immigrants, notably Chinese laborers who worked in mines and railroads.\n",
            "  \n",
            "- **Late 19th Century:** Immigrants from Germany, Ireland, England, and other northern and western European countries arrived, contributing to the city’s labor force and political life.\n",
            "  \n",
            "- **Early 20th Century:** Asian immigration, especially Chinese, continued through Angel Island Immigration Station until restrictive laws like the Chinese Exclusion Act curtailed arrivals.\n",
            "\n",
            "These immigrant groups established vibrant ethnic enclaves, such as Chinatown and Japantown, which became cultural and economic hubs.\n",
            "\n",
            "---\n",
            "\n",
            "### 6. Contributions of Specific Immigrant Communities\n",
            "\n",
            "- **Filipino Immigrants:** They have played a vital role socially, culturally, and economically. Organizations like the Filipino-American Development Foundation (FADF) support community well-being, while the SOMA Pilipinas Cultural District preserves Filipino heritage through cultural events and creative place-keeping. Despite challenges like gentrification and the COVID-19 pandemic, Filipino immigrants have sustained small businesses and community spaces, contributing to San Francisco’s diversity and economic resilience.\n",
            "\n",
            "- **Japanese Immigrants:** Japanese Americans established strong community institutions, including the Japanese Association of America, Buddhist and Christian groups, and Japanese-language schools. They developed thriving businesses and financial institutions, shaping San Francisco’s economic and cultural ties with Asia. Neighborhoods like Nihonjin-Machi (Japantown) became centers of Japanese-American life despite facing segregation and labor discrimination.\n",
            "\n",
            "- **Irish Immigrants:** Irish Americans were influential in labor movements and urban politics, building political machines that mobilized working-class and middle-class voters. They advocated for workers’ rights and suffrage, with figures like Peter McGuire contributing to national labor recognition. Their political engagement helped shape San Francisco’s labor landscape and governance.\n",
            "\n",
            "---\n",
            "\n",
            "### 7. Ethnic Enclaves and Cultural Preservation Amid Challenges\n",
            "\n",
            "Ethnic neighborhoods such as Chinatown have served as vital refuges for immigrants, preserving cultural identities through concentrated cultural assets, businesses, and social networks. The city’s Cultural Districts Initiative supports these communities in stabilizing housing, promoting economic sustainability, and preserving heritage. However, gentrification, rising rents, and globalization threaten these enclaves, risking displacement and cultural erosion. Community-led efforts and city collaboration aim to mitigate these challenges and maintain the unique character of these neighborhoods.\n",
            "\n",
            "---\n",
            "\n",
            "### 8. San Francisco’s Chinatown: Cultural and Economic Legacy\n",
            "\n",
            "San Francisco’s Chinatown, the oldest in North America, emerged during the Gold Rush despite facing discrimination and exclusionary laws. It has preserved Chinese cultural traditions through institutions like the Chinese Consolidated Benevolent Association and landmarks such as the Great Star Theater. Economically, Chinatown developed a self-sufficient commercial ecosystem with shops, restaurants, and import-export businesses, contributing significantly to local commerce and tourism. Despite setbacks like the 1906 earthquake, Chinatown remains a vibrant cultural and economic center.\n",
            "\n",
            "---\n",
            "\n",
            "### 9. Maritime Labor, Trade Networks, and Port City Development\n",
            "\n",
            "San Francisco’s location as a port city was central to its economic and social history. The port facilitated trade, commerce, and immigration, attracting sailors, longshoremen, and workers in related industries. The completion of the transcontinental railroad in 1869 further integrated San Francisco into national markets. Maritime labor and trade networks connected the city globally, fostering economic growth and a diverse population. Although the port’s shipping role diminished over time, its historic waterfront remains a cultural and economic landmark.\n",
            "\n",
            "---\n",
            "\n",
            "### 10. Arts, Culture, and Influence on American Trends\n",
            "\n",
            "San Francisco’s arts and cultural scenes have had a profound impact on American culture:\n",
            "\n",
            "- The **Beat Movement** flourished here, with City Lights Books publishing Allen Ginsberg’s \"Howl,\" influencing literature and counterculture.\n",
            "  \n",
            "- The city embraced **American modernism and avant-garde art**, contributing to West Coast and national art developments.\n",
            "  \n",
            "- Asian-American cultural contributions, especially from Chinatown, enriched California’s and the nation’s cultural diversity, influencing music and the arts.\n",
            "\n",
            "These cultural innovations fostered diversity, personal expression, and challenged mainstream norms.\n",
            "\n",
            "---\n",
            "\n",
            "### 11. Social and Political Movements\n",
            "\n",
            "- **Labor and Political Influence:** Irish immigrants and other groups shaped labor movements and political machines, advocating for workers’ rights and social services.\n",
            "\n",
            "- **Anti-War and Environmental Activism:** San Francisco was a focal point for Vietnam War protests, including large demonstrations in 1967 and 1971. The city also became a hub for environmental activism, addressing pollution, habitat preservation, and sustainable land use, contributing to national environmental awareness.\n",
            "\n",
            "- **LGBTQ+ Rights Movement:** San Francisco emerged as a pioneering gay-friendly city with a vibrant LGBTQ+ community. Harvey Milk’s election in 1977 as one of the first openly gay officials symbolized progress. The city hosted early gay rights organizations, cultural groups like the San Francisco Gay Men’s Chorus, and was central in the fight against discriminatory laws and for marriage equality, notably with Mayor Gavin Newsom’s 2004 authorization of same-sex marriage licenses.\n",
            "\n",
            "- **Native American Activism:** The 1969-1971 Alcatraz occupation highlighted Indigenous rights, inspiring activism. The 2020 establishment of the American Indian Cultural District reflects ongoing efforts to honor Native heritage and advocate for resources and visibility.\n",
            "\n",
            "---\n",
            "\n",
            "### 12. Environmental Justice and Urban Development Challenges\n",
            "\n",
            "Industrialization and urban development disproportionately impacted marginalized neighborhoods such as Bayview-Hunters Point, exposing residents to pollution and toxic waste from industrial facilities and military bases. These communities faced health disparities, slower environmental cleanups, and displacement from urban renewal projects. Environmental justice organizations have emerged to address these inequities, advocating for healthier living conditions and equitable policies.\n",
            "\n",
            "---\n",
            "\n",
            "### 13. Homelessness and Economic Inequality: Historical and Contemporary Responses\n",
            "\n",
            "San Francisco has long struggled with homelessness and poverty. Since the 1970s, city leaders have implemented various policies, but persistent economic inequality, housing shortages, and social neglect have limited success. Between 2012 and 2017, job growth far outpaced housing construction, exacerbating scarcity. The city’s mild climate increases the visibility of homelessness.\n",
            "\n",
            "Contemporary strategies include building affordable housing, piloting guaranteed income programs, and improving coordinated homelessness response systems involving outreach, prevention, shelter, rapid rehousing, and supportive services. Data-driven approaches prioritize resources for those with the greatest needs. Despite these efforts, homelessness remains a complex, persistent challenge.\n",
            "\n",
            "---\n",
            "\n",
            "### Conclusion\n",
            "\n",
            "San Francisco’s history is marked by dynamic interactions among indigenous peoples, colonizers, immigrants, laborers, activists, and artists. Its evolution from Ohlone homelands to a multicultural metropolis reflects resilience amid adversity, cultural preservation amid change, and ongoing struggles for social justice and equity. The city’s rich cultural heritage, economic vitality, and progressive spirit continue to shape its identity and influence broader American society.\n",
            "\n",
            "---\n",
            "\n",
            "**End of Report**\n"
          ]
        }
      ]
    },
    {
      "cell_type": "markdown",
      "source": [
        "In this run, we did three rounds of review! You can see the full looping workflow in the visualizer:\n",
        "\n",
        "<img width=\"660\" src=\"https://seldo.com/uploads/2025/Screenshot%202025-05-04%20at%205.39.32%E2%80%AFPM.png\">"
      ],
      "metadata": {
        "id": "9jB-Zalv8SZx"
      }
    },
    {
      "cell_type": "markdown",
      "source": [
        "## One final congratulations!\n",
        "\n",
        "You've come a long way in this notebook -- from a single agent flow, to a multi-agent `AgentWorkflow` all the way through to full `Workflows`, with fine-grained flow control and self-reflection. What will you build your multi-agent system to do?"
      ],
      "metadata": {
        "id": "dJRA_zJH8v3J"
      }
    }
  ],
  "metadata": {
    "kernelspec": {
      "display_name": "llama-index-caVs7DDe-py3.10",
      "language": "python",
      "name": "python3"
    },
    "language_info": {
      "codemirror_mode": {
        "name": "ipython",
        "version": 3
      },
      "file_extension": ".py",
      "mimetype": "text/x-python",
      "name": "python",
      "nbconvert_exporter": "python",
      "pygments_lexer": "ipython3"
    },
    "colab": {
      "provenance": [],
      "include_colab_link": true
    }
  },
  "nbformat": 4,
  "nbformat_minor": 0
}